{
  "cells": [
    {
      "cell_type": "markdown",
      "metadata": {
        "colab_type": "text",
        "id": "view-in-github"
      },
      "source": [
        "<a href=\"https://colab.research.google.com/github/olegoid/MLDS_ML_2022/blob/main/baseline_ML.ipynb\" target=\"_parent\"><img src=\"https://colab.research.google.com/assets/colab-badge.svg\" alt=\"Open In Colab\"/></a>"
      ]
    },
    {
      "cell_type": "code",
      "execution_count": 171,
      "metadata": {
        "colab": {
          "base_uri": "https://localhost:8080/"
        },
        "id": "GFRzNmDLjMtY",
        "outputId": "f41ff6c9-b28b-4c96-f6d3-b806f6d08c30"
      },
      "outputs": [
        {
          "name": "stderr",
          "output_type": "stream",
          "text": [
            "[nltk_data] Downloading package stopwords to\n",
            "[nltk_data]     C:\\Users\\grace\\AppData\\Roaming\\nltk_data...\n",
            "[nltk_data]   Package stopwords is already up-to-date!\n"
          ]
        }
      ],
      "source": [
        "import pandas as pd\n",
        "import numpy as np\n",
        "import random\n",
        "import seaborn as sns\n",
        "import matplotlib.pyplot as plt\n",
        "%matplotlib inline\n",
        "\n",
        "import re\n",
        "from pymorphy2 import MorphAnalyzer\n",
        "from functools import lru_cache\n",
        "from nltk.corpus import stopwords\n",
        "\n",
        "from multiprocessing import Pool\n",
        "from workers import clean_text\n",
        "from tqdm import tqdm\n",
        "\n",
        "import nltk\n",
        "nltk.download('stopwords')\n",
        "\n",
        "from sklearn.feature_extraction.text import TfidfVectorizer\n",
        "from sklearn.linear_model import LogisticRegression\n",
        "\n",
        "np.random.seed(42)\n",
        "random.seed(42)"
      ]
    },
    {
      "cell_type": "code",
      "execution_count": 172,
      "metadata": {
        "colab": {
          "base_uri": "https://localhost:8080/",
          "height": 323
        },
        "id": "eiXxNCJbdsAm",
        "outputId": "0dedd410-c603-4f87-ef74-d877cf1a32a1"
      },
      "outputs": [],
      "source": [
        "import kaggle"
      ]
    },
    {
      "cell_type": "code",
      "execution_count": 173,
      "metadata": {
        "colab": {
          "base_uri": "https://localhost:8080/"
        },
        "id": "X9oYnhWTdvxN",
        "outputId": "3c1604c2-4a56-4fa5-d315-3be731ab6532"
      },
      "outputs": [
        {
          "name": "stderr",
          "output_type": "stream",
          "text": [
            "'kaggle' is not recognized as an internal or external command,\n",
            "operable program or batch file.\n"
          ]
        }
      ],
      "source": [
        "!kaggle competitions download -c hse-nlp-bootcamp"
      ]
    },
    {
      "cell_type": "code",
      "execution_count": 174,
      "metadata": {
        "colab": {
          "base_uri": "https://localhost:8080/",
          "height": 424
        },
        "id": "2FofdInPjoN6",
        "outputId": "536fa587-efbc-493b-88e3-eb0df05006c4"
      },
      "outputs": [
        {
          "data": {
            "text/html": [
              "<div>\n",
              "<style scoped>\n",
              "    .dataframe tbody tr th:only-of-type {\n",
              "        vertical-align: middle;\n",
              "    }\n",
              "\n",
              "    .dataframe tbody tr th {\n",
              "        vertical-align: top;\n",
              "    }\n",
              "\n",
              "    .dataframe thead th {\n",
              "        text-align: right;\n",
              "    }\n",
              "</style>\n",
              "<table border=\"1\" class=\"dataframe\">\n",
              "  <thead>\n",
              "    <tr style=\"text-align: right;\">\n",
              "      <th></th>\n",
              "      <th>bank</th>\n",
              "      <th>feeds</th>\n",
              "      <th>grades</th>\n",
              "      <th>date</th>\n",
              "    </tr>\n",
              "  </thead>\n",
              "  <tbody>\n",
              "    <tr>\n",
              "      <th>0</th>\n",
              "      <td>ubrr</td>\n",
              "      <td>Много лет являюсь клиентом этого банка, но пос...</td>\n",
              "      <td>1.0</td>\n",
              "      <td>16.02.2017 16:10</td>\n",
              "    </tr>\n",
              "    <tr>\n",
              "      <th>1</th>\n",
              "      <td>fk_otkritie</td>\n",
              "      <td>Г. Ростов-на-Дону, ул. Ленина, 48. Были 10.12....</td>\n",
              "      <td>2.0</td>\n",
              "      <td>13.12.2016 1:05</td>\n",
              "    </tr>\n",
              "    <tr>\n",
              "      <th>2</th>\n",
              "      <td>alfabank</td>\n",
              "      <td>Здравствуйте!Ранее уже оставлял отзыв о вашем ...</td>\n",
              "      <td>NaN</td>\n",
              "      <td>28.06.2019 13:54</td>\n",
              "    </tr>\n",
              "    <tr>\n",
              "      <th>3</th>\n",
              "      <td>vtb</td>\n",
              "      <td>Обращаюсь к Вам с жалобой на незаконное списан...</td>\n",
              "      <td>NaN</td>\n",
              "      <td>15.07.2020 14:54</td>\n",
              "    </tr>\n",
              "    <tr>\n",
              "      <th>4</th>\n",
              "      <td>promsvyazbank</td>\n",
              "      <td>Имею потребительский кредит, взятый в Связь-ба...</td>\n",
              "      <td>2.0</td>\n",
              "      <td>04.08.2020 6:38</td>\n",
              "    </tr>\n",
              "    <tr>\n",
              "      <th>...</th>\n",
              "      <td>...</td>\n",
              "      <td>...</td>\n",
              "      <td>...</td>\n",
              "      <td>...</td>\n",
              "    </tr>\n",
              "    <tr>\n",
              "      <th>74995</th>\n",
              "      <td>trust</td>\n",
              "      <td>Три года длится эпопея с закрытием кредитной к...</td>\n",
              "      <td>1.0</td>\n",
              "      <td>26.10.2016 11:03</td>\n",
              "    </tr>\n",
              "    <tr>\n",
              "      <th>74996</th>\n",
              "      <td>fk_otkritie</td>\n",
              "      <td>Являлся клиентом Бинбанка, пока после слияния ...</td>\n",
              "      <td>2.0</td>\n",
              "      <td>01.02.2020 21:07</td>\n",
              "    </tr>\n",
              "    <tr>\n",
              "      <th>74997</th>\n",
              "      <td>sberbank</td>\n",
              "      <td>8 мая 2016 г. мною вносились деньги на банковс...</td>\n",
              "      <td>1.0</td>\n",
              "      <td>14.06.2016 16:03</td>\n",
              "    </tr>\n",
              "    <tr>\n",
              "      <th>74998</th>\n",
              "      <td>uralsib</td>\n",
              "      <td>Здравствуйте! Сегодня 21.04.2020 захожу в моби...</td>\n",
              "      <td>3.0</td>\n",
              "      <td>21.04.2020 8:24</td>\n",
              "    </tr>\n",
              "    <tr>\n",
              "      <th>74999</th>\n",
              "      <td>bnpparibaseast</td>\n",
              "      <td>Уважаемое руководство банка!Если все услуги ва...</td>\n",
              "      <td>1.0</td>\n",
              "      <td>01.06.2011 13:05</td>\n",
              "    </tr>\n",
              "  </tbody>\n",
              "</table>\n",
              "<p>75000 rows × 4 columns</p>\n",
              "</div>"
            ],
            "text/plain": [
              "                 bank                                              feeds  \\\n",
              "0                ubrr  Много лет являюсь клиентом этого банка, но пос...   \n",
              "1         fk_otkritie  Г. Ростов-на-Дону, ул. Ленина, 48. Были 10.12....   \n",
              "2            alfabank  Здравствуйте!Ранее уже оставлял отзыв о вашем ...   \n",
              "3                 vtb  Обращаюсь к Вам с жалобой на незаконное списан...   \n",
              "4       promsvyazbank  Имею потребительский кредит, взятый в Связь-ба...   \n",
              "...               ...                                                ...   \n",
              "74995           trust  Три года длится эпопея с закрытием кредитной к...   \n",
              "74996     fk_otkritie  Являлся клиентом Бинбанка, пока после слияния ...   \n",
              "74997        sberbank  8 мая 2016 г. мною вносились деньги на банковс...   \n",
              "74998         uralsib  Здравствуйте! Сегодня 21.04.2020 захожу в моби...   \n",
              "74999  bnpparibaseast  Уважаемое руководство банка!Если все услуги ва...   \n",
              "\n",
              "       grades              date  \n",
              "0         1.0  16.02.2017 16:10  \n",
              "1         2.0   13.12.2016 1:05  \n",
              "2         NaN  28.06.2019 13:54  \n",
              "3         NaN  15.07.2020 14:54  \n",
              "4         2.0   04.08.2020 6:38  \n",
              "...       ...               ...  \n",
              "74995     1.0  26.10.2016 11:03  \n",
              "74996     2.0  01.02.2020 21:07  \n",
              "74997     1.0  14.06.2016 16:03  \n",
              "74998     3.0   21.04.2020 8:24  \n",
              "74999     1.0  01.06.2011 13:05  \n",
              "\n",
              "[75000 rows x 4 columns]"
            ]
          },
          "execution_count": 174,
          "metadata": {},
          "output_type": "execute_result"
        }
      ],
      "source": [
        "df = pd.read_csv('train_ml.csv')\n",
        "df"
      ]
    },
    {
      "cell_type": "markdown",
      "metadata": {
        "id": "TPXVA-dfj6Fj"
      },
      "source": [
        "# Some EDA"
      ]
    },
    {
      "cell_type": "markdown",
      "metadata": {
        "id": "lu7vo5tNj9ZJ"
      },
      "source": [
        "Сразу видим, что в столбце с целевой переменной (`grades`) есть пропуски. В этом ноутбуке будем обучаться на отзывах, для которых есть информация о значении таргета. **Но это не единственный подход. Подумайте, что ещё можно сделать**\n",
        "\n",
        "Посмотрим, есть ли пропуски в признаках"
      ]
    },
    {
      "cell_type": "code",
      "execution_count": 175,
      "metadata": {
        "colab": {
          "base_uri": "https://localhost:8080/"
        },
        "id": "AQNQeWVpjzuP",
        "outputId": "bbd9553f-c3f4-4d53-873e-2fff0401e94f"
      },
      "outputs": [
        {
          "name": "stdout",
          "output_type": "stream",
          "text": [
            "<class 'pandas.core.frame.DataFrame'>\n",
            "RangeIndex: 75000 entries, 0 to 74999\n",
            "Data columns (total 4 columns):\n",
            " #   Column  Non-Null Count  Dtype  \n",
            "---  ------  --------------  -----  \n",
            " 0   bank    75000 non-null  object \n",
            " 1   feeds   75000 non-null  object \n",
            " 2   grades  51476 non-null  float64\n",
            " 3   date    75000 non-null  object \n",
            "dtypes: float64(1), object(3)\n",
            "memory usage: 2.3+ MB\n"
          ]
        }
      ],
      "source": [
        "df.info()"
      ]
    },
    {
      "cell_type": "markdown",
      "metadata": {},
      "source": [
        "Сразу видим, что пропущенных значений в таргете довольно много. Что можно сделать?\n",
        "\n",
        "- Заменить пропуски на median, mean, mode, etc.\n",
        "- Убрать пропуски\n",
        "- Попробовать [Multivariate feature imputation](https://scikit-learn.org/stable/modules/impute.html). Думаю, что это разумно так как в остальных фичах пропусков нет совсем."
      ]
    },
    {
      "cell_type": "code",
      "execution_count": 176,
      "metadata": {},
      "outputs": [],
      "source": [
        "# from sklearn.experimental import enable_iterative_imputer\n",
        "# from sklearn.impute import KNNImputer\n",
        "\n",
        "# imp = KNNImputer(n_neighbors=3, weights=\"uniform\")\n",
        "# imputed = imp.fit_transform(df)\n",
        "# df_imputed = pd.DataFrame(imputed, columns=df.columns)\n",
        "# df"
      ]
    },
    {
      "cell_type": "markdown",
      "metadata": {
        "id": "_H-YQ_CAk4JU"
      },
      "source": [
        "Сразу преобразуем столбец с меткой времени к соответствующему формату (timestamp)"
      ]
    },
    {
      "cell_type": "code",
      "execution_count": 177,
      "metadata": {
        "colab": {
          "base_uri": "https://localhost:8080/",
          "height": 424
        },
        "id": "F85oQ7rtkgjJ",
        "outputId": "2e3bf651-dd07-4f99-ffb0-d818687f66b0"
      },
      "outputs": [
        {
          "data": {
            "text/html": [
              "<div>\n",
              "<style scoped>\n",
              "    .dataframe tbody tr th:only-of-type {\n",
              "        vertical-align: middle;\n",
              "    }\n",
              "\n",
              "    .dataframe tbody tr th {\n",
              "        vertical-align: top;\n",
              "    }\n",
              "\n",
              "    .dataframe thead th {\n",
              "        text-align: right;\n",
              "    }\n",
              "</style>\n",
              "<table border=\"1\" class=\"dataframe\">\n",
              "  <thead>\n",
              "    <tr style=\"text-align: right;\">\n",
              "      <th></th>\n",
              "      <th>bank</th>\n",
              "      <th>feeds</th>\n",
              "      <th>grades</th>\n",
              "      <th>ts</th>\n",
              "    </tr>\n",
              "  </thead>\n",
              "  <tbody>\n",
              "    <tr>\n",
              "      <th>0</th>\n",
              "      <td>ubrr</td>\n",
              "      <td>Много лет являюсь клиентом этого банка, но пос...</td>\n",
              "      <td>1</td>\n",
              "      <td>1487261400</td>\n",
              "    </tr>\n",
              "    <tr>\n",
              "      <th>1</th>\n",
              "      <td>fk_otkritie</td>\n",
              "      <td>Г. Ростов-на-Дону, ул. Ленина, 48. Были 10.12....</td>\n",
              "      <td>2</td>\n",
              "      <td>1481591100</td>\n",
              "    </tr>\n",
              "    <tr>\n",
              "      <th>2</th>\n",
              "      <td>promsvyazbank</td>\n",
              "      <td>Имею потребительский кредит, взятый в Связь-ба...</td>\n",
              "      <td>2</td>\n",
              "      <td>1596523080</td>\n",
              "    </tr>\n",
              "    <tr>\n",
              "      <th>3</th>\n",
              "      <td>homecreditbank</td>\n",
              "      <td>Хочу выразить глубокую благодарность всем сотр...</td>\n",
              "      <td>5</td>\n",
              "      <td>1429474260</td>\n",
              "    </tr>\n",
              "    <tr>\n",
              "      <th>4</th>\n",
              "      <td>vtb</td>\n",
              "      <td>6 марта 2019г. В 10:33 при проходе в метро \"Ку...</td>\n",
              "      <td>2</td>\n",
              "      <td>1553798160</td>\n",
              "    </tr>\n",
              "    <tr>\n",
              "      <th>...</th>\n",
              "      <td>...</td>\n",
              "      <td>...</td>\n",
              "      <td>...</td>\n",
              "      <td>...</td>\n",
              "    </tr>\n",
              "    <tr>\n",
              "      <th>51471</th>\n",
              "      <td>trust</td>\n",
              "      <td>Три года длится эпопея с закрытием кредитной к...</td>\n",
              "      <td>1</td>\n",
              "      <td>1477479780</td>\n",
              "    </tr>\n",
              "    <tr>\n",
              "      <th>51472</th>\n",
              "      <td>fk_otkritie</td>\n",
              "      <td>Являлся клиентом Бинбанка, пока после слияния ...</td>\n",
              "      <td>2</td>\n",
              "      <td>1580591220</td>\n",
              "    </tr>\n",
              "    <tr>\n",
              "      <th>51473</th>\n",
              "      <td>sberbank</td>\n",
              "      <td>8 мая 2016 г. мною вносились деньги на банковс...</td>\n",
              "      <td>1</td>\n",
              "      <td>1465920180</td>\n",
              "    </tr>\n",
              "    <tr>\n",
              "      <th>51474</th>\n",
              "      <td>uralsib</td>\n",
              "      <td>Здравствуйте! Сегодня 21.04.2020 захожу в моби...</td>\n",
              "      <td>3</td>\n",
              "      <td>1587457440</td>\n",
              "    </tr>\n",
              "    <tr>\n",
              "      <th>51475</th>\n",
              "      <td>bnpparibaseast</td>\n",
              "      <td>Уважаемое руководство банка!Если все услуги ва...</td>\n",
              "      <td>1</td>\n",
              "      <td>1306933500</td>\n",
              "    </tr>\n",
              "  </tbody>\n",
              "</table>\n",
              "<p>51476 rows × 4 columns</p>\n",
              "</div>"
            ],
            "text/plain": [
              "                 bank                                              feeds  \\\n",
              "0                ubrr  Много лет являюсь клиентом этого банка, но пос...   \n",
              "1         fk_otkritie  Г. Ростов-на-Дону, ул. Ленина, 48. Были 10.12....   \n",
              "2       promsvyazbank  Имею потребительский кредит, взятый в Связь-ба...   \n",
              "3      homecreditbank  Хочу выразить глубокую благодарность всем сотр...   \n",
              "4                 vtb  6 марта 2019г. В 10:33 при проходе в метро \"Ку...   \n",
              "...               ...                                                ...   \n",
              "51471           trust  Три года длится эпопея с закрытием кредитной к...   \n",
              "51472     fk_otkritie  Являлся клиентом Бинбанка, пока после слияния ...   \n",
              "51473        sberbank  8 мая 2016 г. мною вносились деньги на банковс...   \n",
              "51474         uralsib  Здравствуйте! Сегодня 21.04.2020 захожу в моби...   \n",
              "51475  bnpparibaseast  Уважаемое руководство банка!Если все услуги ва...   \n",
              "\n",
              "       grades          ts  \n",
              "0           1  1487261400  \n",
              "1           2  1481591100  \n",
              "2           2  1596523080  \n",
              "3           5  1429474260  \n",
              "4           2  1553798160  \n",
              "...       ...         ...  \n",
              "51471       1  1477479780  \n",
              "51472       2  1580591220  \n",
              "51473       1  1465920180  \n",
              "51474       3  1587457440  \n",
              "51475       1  1306933500  \n",
              "\n",
              "[51476 rows x 4 columns]"
            ]
          },
          "execution_count": 177,
          "metadata": {},
          "output_type": "execute_result"
        }
      ],
      "source": [
        "df['date'] = pd.to_datetime(df['date'], format='%d.%m.%Y %H:%M')\n",
        "df['ts'] = df['date'].values.astype(np.int64) // 10 ** 9\n",
        "df = df.drop('date', axis=1)\n",
        "df = df.dropna()\n",
        "df = df.astype({'grades': 'int32'})\n",
        "df = df.reset_index(drop=True)\n",
        "df"
      ]
    },
    {
      "cell_type": "markdown",
      "metadata": {
        "id": "TUsxBFZnnKuj"
      },
      "source": [
        "Посмотрим на распределение числа отзывов по банкам"
      ]
    },
    {
      "cell_type": "code",
      "execution_count": 178,
      "metadata": {
        "colab": {
          "base_uri": "https://localhost:8080/"
        },
        "id": "7LzTWzLemyjX",
        "outputId": "ff4d30de-f699-4237-a0e0-9dc293352ec3"
      },
      "outputs": [
        {
          "data": {
            "text/plain": [
              "sberbank        8355\n",
              "vtb             5255\n",
              "tcs             4503\n",
              "sovcombank      2600\n",
              "fk_otkritie     2599\n",
              "                ... \n",
              "sdm-bank          33\n",
              "intesa            31\n",
              "primsotsbank      31\n",
              "rncb              30\n",
              "rnbank            26\n",
              "Name: bank, Length: 69, dtype: int64"
            ]
          },
          "execution_count": 178,
          "metadata": {},
          "output_type": "execute_result"
        }
      ],
      "source": [
        "feeds_by_bank_count = df.bank.value_counts()\n",
        "feeds_by_bank_count"
      ]
    },
    {
      "cell_type": "code",
      "execution_count": 179,
      "metadata": {
        "colab": {
          "base_uri": "https://localhost:8080/",
          "height": 1000
        },
        "id": "h0csgEzHnOhY",
        "outputId": "4a48e1a6-a0cb-40f6-b0e7-709915f464e4"
      },
      "outputs": [
        {
          "data": {
            "image/png": "[encoded data removed]",
            "text/plain": [
              "<Figure size 4000x2000 with 1 Axes>"
            ]
          },
          "metadata": {},
          "output_type": "display_data"
        }
      ],
      "source": [
        "plt.figure(figsize=(40,20))\n",
        "sns.histplot(data=df.sort_values(by='bank'), \n",
        "             x=df.bank, )\n",
        "plt.xticks(rotation=45)\n",
        "plt.show()"
      ]
    },
    {
      "cell_type": "markdown",
      "metadata": {
        "id": "18LUZxLrnO9j"
      },
      "source": [
        "Глянем на распределение клиентских оценок"
      ]
    },
    {
      "cell_type": "code",
      "execution_count": 180,
      "metadata": {
        "colab": {
          "base_uri": "https://localhost:8080/"
        },
        "id": "_sMQ6Je0rdYu",
        "outputId": "1f91d6e5-0893-4bc3-e681-f253f7a29de2"
      },
      "outputs": [
        {
          "data": {
            "text/plain": [
              "1    27739\n",
              "2     5634\n",
              "3     2356\n",
              "4     1520\n",
              "5    14227\n",
              "Name: grades, dtype: int64"
            ]
          },
          "execution_count": 180,
          "metadata": {},
          "output_type": "execute_result"
        }
      ],
      "source": [
        "df.grades.value_counts().sort_index()"
      ]
    },
    {
      "cell_type": "code",
      "execution_count": 181,
      "metadata": {
        "colab": {
          "base_uri": "https://localhost:8080/",
          "height": 606
        },
        "id": "vvInXxbWnSyR",
        "outputId": "27fd91bc-6755-4254-f3d8-cedfdefde817"
      },
      "outputs": [
        {
          "data": {
            "image/png": "[encoded data removed]",
            "text/plain": [
              "<Figure size 2000x1000 with 1 Axes>"
            ]
          },
          "metadata": {},
          "output_type": "display_data"
        }
      ],
      "source": [
        "plt.figure(figsize=(20, 10))\n",
        "sns.histplot(data=df, \n",
        "             x=df.grades, )\n",
        "plt.show()"
      ]
    },
    {
      "cell_type": "code",
      "execution_count": 182,
      "metadata": {},
      "outputs": [
        {
          "data": {
            "text/plain": [
              "1    0.538872\n",
              "5    0.276381\n",
              "2    0.109449\n",
              "3    0.045769\n",
              "4    0.029528\n",
              "Name: grades, dtype: float64"
            ]
          },
          "execution_count": 182,
          "metadata": {},
          "output_type": "execute_result"
        }
      ],
      "source": [
        "# check the distribution\n",
        "df['grades'].value_counts()/df.shape[0]"
      ]
    },
    {
      "cell_type": "markdown",
      "metadata": {
        "id": "Ku_rgep8ntN8"
      },
      "source": [
        "Также нас интересуют длины отзывов"
      ]
    },
    {
      "cell_type": "code",
      "execution_count": 183,
      "metadata": {
        "id": "LZVhWl9pnzQV"
      },
      "outputs": [],
      "source": [
        "df['sym_len'] = df.feeds.apply(len)\n",
        "df['word_len'] = df.feeds.apply(lambda x: len(x.split()))"
      ]
    },
    {
      "cell_type": "code",
      "execution_count": 184,
      "metadata": {
        "colab": {
          "base_uri": "https://localhost:8080/",
          "height": 606
        },
        "id": "FDcb3qGwseG6",
        "outputId": "86a1e55b-0fb7-4ef7-99e5-93e29dedb397"
      },
      "outputs": [
        {
          "data": {
            "image/png": "[encoded data removed]",
            "text/plain": [
              "<Figure size 1500x1000 with 1 Axes>"
            ]
          },
          "metadata": {},
          "output_type": "display_data"
        }
      ],
      "source": [
        "plt.figure(figsize=(15, 10))\n",
        "sns.histplot(data=df.sym_len)\n",
        "plt.show()"
      ]
    },
    {
      "cell_type": "code",
      "execution_count": 185,
      "metadata": {
        "colab": {
          "base_uri": "https://localhost:8080/",
          "height": 606
        },
        "id": "PGS9_6AWshYH",
        "outputId": "991f77a1-c83c-470e-f71a-a4dae1090e1f"
      },
      "outputs": [
        {
          "data": {
            "image/png": "[encoded data removed]",
            "text/plain": [
              "<Figure size 1500x1000 with 1 Axes>"
            ]
          },
          "metadata": {},
          "output_type": "display_data"
        }
      ],
      "source": [
        "plt.figure(figsize=(15, 10))\n",
        "sns.histplot(data=df.word_len)\n",
        "plt.show()"
      ]
    },
    {
      "cell_type": "markdown",
      "metadata": {
        "id": "vxoMfYTCtyF_"
      },
      "source": [
        "Обратите внимание, у распределений очень длинные хвосты"
      ]
    },
    {
      "cell_type": "markdown",
      "metadata": {
        "id": "-SSSpK_bt0zj"
      },
      "source": [
        "# Baseline (tf-idf + logreg)"
      ]
    },
    {
      "cell_type": "markdown",
      "metadata": {
        "id": "i54zKXPvmNuv"
      },
      "source": [
        "Подготавливаем тексты отзывов (взято из ноутбука второго занятия 😃)"
      ]
    },
    {
      "cell_type": "code",
      "execution_count": 186,
      "metadata": {
        "colab": {
          "base_uri": "https://localhost:8080/",
          "height": 224
        },
        "id": "RRl4LEu4tYBx",
        "outputId": "f0d5ef22-1613-47d1-8a0a-acafd46103bc"
      },
      "outputs": [
        {
          "name": "stderr",
          "output_type": "stream",
          "text": [
            "100%|██████████| 51476/51476 [04:41<00:00, 183.09it/s]\n"
          ]
        },
        {
          "data": {
            "text/html": [
              "<div>\n",
              "<style scoped>\n",
              "    .dataframe tbody tr th:only-of-type {\n",
              "        vertical-align: middle;\n",
              "    }\n",
              "\n",
              "    .dataframe tbody tr th {\n",
              "        vertical-align: top;\n",
              "    }\n",
              "\n",
              "    .dataframe thead th {\n",
              "        text-align: right;\n",
              "    }\n",
              "</style>\n",
              "<table border=\"1\" class=\"dataframe\">\n",
              "  <thead>\n",
              "    <tr style=\"text-align: right;\">\n",
              "      <th></th>\n",
              "      <th>bank</th>\n",
              "      <th>feeds</th>\n",
              "      <th>grades</th>\n",
              "      <th>ts</th>\n",
              "      <th>sym_len</th>\n",
              "      <th>word_len</th>\n",
              "      <th>lemmas</th>\n",
              "    </tr>\n",
              "  </thead>\n",
              "  <tbody>\n",
              "    <tr>\n",
              "      <th>8893</th>\n",
              "      <td>crediteuropebank</td>\n",
              "      <td>Доброго времени суток. Хотелось бы понять один...</td>\n",
              "      <td>2</td>\n",
              "      <td>1402953420</td>\n",
              "      <td>831</td>\n",
              "      <td>123</td>\n",
              "      <td>добрый время сутки хотеться понять момент имен...</td>\n",
              "    </tr>\n",
              "    <tr>\n",
              "      <th>35762</th>\n",
              "      <td>pochtabank</td>\n",
              "      <td>Самый худший банк, в котом когда-либо обслужив...</td>\n",
              "      <td>1</td>\n",
              "      <td>1594486200</td>\n",
              "      <td>1153</td>\n",
              "      <td>172</td>\n",
              "      <td>самый плохой банк либо обслуживаться подать за...</td>\n",
              "    </tr>\n",
              "    <tr>\n",
              "      <th>31474</th>\n",
              "      <td>vozrozhdenie</td>\n",
              "      <td>Речь пойдёт о Волжском филиале Банка \"Возрожде...</td>\n",
              "      <td>5</td>\n",
              "      <td>1161681900</td>\n",
              "      <td>1415</td>\n",
              "      <td>205</td>\n",
              "      <td>речь пойда волжский филиал банк возрождение во...</td>\n",
              "    </tr>\n",
              "    <tr>\n",
              "      <th>44851</th>\n",
              "      <td>vtb</td>\n",
              "      <td>Я с мужем получаем зарплату на карту ВТБ с мая...</td>\n",
              "      <td>1</td>\n",
              "      <td>1522143420</td>\n",
              "      <td>483</td>\n",
              "      <td>73</td>\n",
              "      <td>получать зарплата карта недавно хотеть взять п...</td>\n",
              "    </tr>\n",
              "    <tr>\n",
              "      <th>47866</th>\n",
              "      <td>pochtabank</td>\n",
              "      <td>Получила предложение оформить кредитную карту ...</td>\n",
              "      <td>5</td>\n",
              "      <td>1470407160</td>\n",
              "      <td>578</td>\n",
              "      <td>80</td>\n",
              "      <td>получить предложение оформить кредитный карта ...</td>\n",
              "    </tr>\n",
              "  </tbody>\n",
              "</table>\n",
              "</div>"
            ],
            "text/plain": [
              "                   bank                                              feeds  \\\n",
              "8893   crediteuropebank  Доброго времени суток. Хотелось бы понять один...   \n",
              "35762        pochtabank  Самый худший банк, в котом когда-либо обслужив...   \n",
              "31474      vozrozhdenie  Речь пойдёт о Волжском филиале Банка \"Возрожде...   \n",
              "44851               vtb  Я с мужем получаем зарплату на карту ВТБ с мая...   \n",
              "47866        pochtabank  Получила предложение оформить кредитную карту ...   \n",
              "\n",
              "       grades          ts  sym_len  word_len  \\\n",
              "8893        2  1402953420      831       123   \n",
              "35762       1  1594486200     1153       172   \n",
              "31474       5  1161681900     1415       205   \n",
              "44851       1  1522143420      483        73   \n",
              "47866       5  1470407160      578        80   \n",
              "\n",
              "                                                  lemmas  \n",
              "8893   добрый время сутки хотеться понять момент имен...  \n",
              "35762  самый плохой банк либо обслуживаться подать за...  \n",
              "31474  речь пойда волжский филиал банк возрождение во...  \n",
              "44851  получать зарплата карта недавно хотеть взять п...  \n",
              "47866  получить предложение оформить кредитный карта ...  "
            ]
          },
          "execution_count": 186,
          "metadata": {},
          "output_type": "execute_result"
        }
      ],
      "source": [
        "df1 = df #.head(10)\n",
        "\n",
        "if __name__ ==  '__main__': \n",
        "    with Pool(4) as p:\n",
        "        lemmas = list(tqdm(p.imap(clean_text, df1['feeds']), total=len(df1)))\n",
        "    \n",
        "df['lemmas'] = lemmas\n",
        "df.sample(5)"
      ]
    },
    {
      "attachments": {},
      "cell_type": "markdown",
      "metadata": {
        "id": "jU-WVmzynzjU"
      },
      "source": [
        "Будем обучаться исключительно на текстах отзывов (признаки `bank` и `date` не используем от слова совсем -- **мы не используем, а вы в своих решениях попробуйте**)"
      ]
    },
    {
      "cell_type": "markdown",
      "metadata": {
        "id": "_15gJTIsogRG"
      },
      "source": [
        "Обучимся на всех объектах, а потом сделаем предсказание на тесте из соревнования. Ни больше, ни меньше"
      ]
    },
    {
      "cell_type": "code",
      "execution_count": 187,
      "metadata": {
        "colab": {
          "base_uri": "https://localhost:8080/"
        },
        "id": "0MM3qHCYw_Co",
        "outputId": "481aea37-7392-44c0-ce3f-9c92090c71e1"
      },
      "outputs": [
        {
          "name": "stdout",
          "output_type": "stream",
          "text": [
            "CPU times: total: 25.5 s\n",
            "Wall time: 28.7 s\n"
          ]
        },
        {
          "data": {
            "text/html": [
              "<div>\n",
              "<style scoped>\n",
              "    .dataframe tbody tr th:only-of-type {\n",
              "        vertical-align: middle;\n",
              "    }\n",
              "\n",
              "    .dataframe tbody tr th {\n",
              "        vertical-align: top;\n",
              "    }\n",
              "\n",
              "    .dataframe thead th {\n",
              "        text-align: right;\n",
              "    }\n",
              "</style>\n",
              "<table border=\"1\" class=\"dataframe\">\n",
              "  <thead>\n",
              "    <tr style=\"text-align: right;\">\n",
              "      <th></th>\n",
              "      <th>aamerican</th>\n",
              "      <th>aamerican express</th>\n",
              "      <th>aapl</th>\n",
              "      <th>aapl apple</th>\n",
              "      <th>abcd</th>\n",
              "      <th>abcd калужскаяимя</th>\n",
              "      <th>abelt</th>\n",
              "      <th>abelt думать</th>\n",
              "      <th>about</th>\n",
              "      <th>about news</th>\n",
              "      <th>...</th>\n",
              "      <th>ёмкий хотя</th>\n",
              "      <th>ёмко</th>\n",
              "      <th>ёмко давать</th>\n",
              "      <th>ёмко очень</th>\n",
              "      <th>ёмкость</th>\n",
              "      <th>ёмкость банк</th>\n",
              "      <th>ёмкость оригинально</th>\n",
              "      <th>ёмкость отделение</th>\n",
              "      <th>ёрзать</th>\n",
              "      <th>ёрзать место</th>\n",
              "    </tr>\n",
              "  </thead>\n",
              "  <tbody>\n",
              "    <tr>\n",
              "      <th>0</th>\n",
              "      <td>0.0</td>\n",
              "      <td>0.0</td>\n",
              "      <td>0.0</td>\n",
              "      <td>0.0</td>\n",
              "      <td>0.0</td>\n",
              "      <td>0.0</td>\n",
              "      <td>0.0</td>\n",
              "      <td>0.0</td>\n",
              "      <td>0.0</td>\n",
              "      <td>0.0</td>\n",
              "      <td>...</td>\n",
              "      <td>0.0</td>\n",
              "      <td>0.0</td>\n",
              "      <td>0.0</td>\n",
              "      <td>0.0</td>\n",
              "      <td>0.0</td>\n",
              "      <td>0.0</td>\n",
              "      <td>0.0</td>\n",
              "      <td>0.0</td>\n",
              "      <td>0.0</td>\n",
              "      <td>0.0</td>\n",
              "    </tr>\n",
              "    <tr>\n",
              "      <th>1</th>\n",
              "      <td>0.0</td>\n",
              "      <td>0.0</td>\n",
              "      <td>0.0</td>\n",
              "      <td>0.0</td>\n",
              "      <td>0.0</td>\n",
              "      <td>0.0</td>\n",
              "      <td>0.0</td>\n",
              "      <td>0.0</td>\n",
              "      <td>0.0</td>\n",
              "      <td>0.0</td>\n",
              "      <td>...</td>\n",
              "      <td>0.0</td>\n",
              "      <td>0.0</td>\n",
              "      <td>0.0</td>\n",
              "      <td>0.0</td>\n",
              "      <td>0.0</td>\n",
              "      <td>0.0</td>\n",
              "      <td>0.0</td>\n",
              "      <td>0.0</td>\n",
              "      <td>0.0</td>\n",
              "      <td>0.0</td>\n",
              "    </tr>\n",
              "    <tr>\n",
              "      <th>2</th>\n",
              "      <td>0.0</td>\n",
              "      <td>0.0</td>\n",
              "      <td>0.0</td>\n",
              "      <td>0.0</td>\n",
              "      <td>0.0</td>\n",
              "      <td>0.0</td>\n",
              "      <td>0.0</td>\n",
              "      <td>0.0</td>\n",
              "      <td>0.0</td>\n",
              "      <td>0.0</td>\n",
              "      <td>...</td>\n",
              "      <td>0.0</td>\n",
              "      <td>0.0</td>\n",
              "      <td>0.0</td>\n",
              "      <td>0.0</td>\n",
              "      <td>0.0</td>\n",
              "      <td>0.0</td>\n",
              "      <td>0.0</td>\n",
              "      <td>0.0</td>\n",
              "      <td>0.0</td>\n",
              "      <td>0.0</td>\n",
              "    </tr>\n",
              "    <tr>\n",
              "      <th>3</th>\n",
              "      <td>0.0</td>\n",
              "      <td>0.0</td>\n",
              "      <td>0.0</td>\n",
              "      <td>0.0</td>\n",
              "      <td>0.0</td>\n",
              "      <td>0.0</td>\n",
              "      <td>0.0</td>\n",
              "      <td>0.0</td>\n",
              "      <td>0.0</td>\n",
              "      <td>0.0</td>\n",
              "      <td>...</td>\n",
              "      <td>0.0</td>\n",
              "      <td>0.0</td>\n",
              "      <td>0.0</td>\n",
              "      <td>0.0</td>\n",
              "      <td>0.0</td>\n",
              "      <td>0.0</td>\n",
              "      <td>0.0</td>\n",
              "      <td>0.0</td>\n",
              "      <td>0.0</td>\n",
              "      <td>0.0</td>\n",
              "    </tr>\n",
              "    <tr>\n",
              "      <th>4</th>\n",
              "      <td>0.0</td>\n",
              "      <td>0.0</td>\n",
              "      <td>0.0</td>\n",
              "      <td>0.0</td>\n",
              "      <td>0.0</td>\n",
              "      <td>0.0</td>\n",
              "      <td>0.0</td>\n",
              "      <td>0.0</td>\n",
              "      <td>0.0</td>\n",
              "      <td>0.0</td>\n",
              "      <td>...</td>\n",
              "      <td>0.0</td>\n",
              "      <td>0.0</td>\n",
              "      <td>0.0</td>\n",
              "      <td>0.0</td>\n",
              "      <td>0.0</td>\n",
              "      <td>0.0</td>\n",
              "      <td>0.0</td>\n",
              "      <td>0.0</td>\n",
              "      <td>0.0</td>\n",
              "      <td>0.0</td>\n",
              "    </tr>\n",
              "    <tr>\n",
              "      <th>...</th>\n",
              "      <td>...</td>\n",
              "      <td>...</td>\n",
              "      <td>...</td>\n",
              "      <td>...</td>\n",
              "      <td>...</td>\n",
              "      <td>...</td>\n",
              "      <td>...</td>\n",
              "      <td>...</td>\n",
              "      <td>...</td>\n",
              "      <td>...</td>\n",
              "      <td>...</td>\n",
              "      <td>...</td>\n",
              "      <td>...</td>\n",
              "      <td>...</td>\n",
              "      <td>...</td>\n",
              "      <td>...</td>\n",
              "      <td>...</td>\n",
              "      <td>...</td>\n",
              "      <td>...</td>\n",
              "      <td>...</td>\n",
              "      <td>...</td>\n",
              "    </tr>\n",
              "    <tr>\n",
              "      <th>51471</th>\n",
              "      <td>0.0</td>\n",
              "      <td>0.0</td>\n",
              "      <td>0.0</td>\n",
              "      <td>0.0</td>\n",
              "      <td>0.0</td>\n",
              "      <td>0.0</td>\n",
              "      <td>0.0</td>\n",
              "      <td>0.0</td>\n",
              "      <td>0.0</td>\n",
              "      <td>0.0</td>\n",
              "      <td>...</td>\n",
              "      <td>0.0</td>\n",
              "      <td>0.0</td>\n",
              "      <td>0.0</td>\n",
              "      <td>0.0</td>\n",
              "      <td>0.0</td>\n",
              "      <td>0.0</td>\n",
              "      <td>0.0</td>\n",
              "      <td>0.0</td>\n",
              "      <td>0.0</td>\n",
              "      <td>0.0</td>\n",
              "    </tr>\n",
              "    <tr>\n",
              "      <th>51472</th>\n",
              "      <td>0.0</td>\n",
              "      <td>0.0</td>\n",
              "      <td>0.0</td>\n",
              "      <td>0.0</td>\n",
              "      <td>0.0</td>\n",
              "      <td>0.0</td>\n",
              "      <td>0.0</td>\n",
              "      <td>0.0</td>\n",
              "      <td>0.0</td>\n",
              "      <td>0.0</td>\n",
              "      <td>...</td>\n",
              "      <td>0.0</td>\n",
              "      <td>0.0</td>\n",
              "      <td>0.0</td>\n",
              "      <td>0.0</td>\n",
              "      <td>0.0</td>\n",
              "      <td>0.0</td>\n",
              "      <td>0.0</td>\n",
              "      <td>0.0</td>\n",
              "      <td>0.0</td>\n",
              "      <td>0.0</td>\n",
              "    </tr>\n",
              "    <tr>\n",
              "      <th>51473</th>\n",
              "      <td>0.0</td>\n",
              "      <td>0.0</td>\n",
              "      <td>0.0</td>\n",
              "      <td>0.0</td>\n",
              "      <td>0.0</td>\n",
              "      <td>0.0</td>\n",
              "      <td>0.0</td>\n",
              "      <td>0.0</td>\n",
              "      <td>0.0</td>\n",
              "      <td>0.0</td>\n",
              "      <td>...</td>\n",
              "      <td>0.0</td>\n",
              "      <td>0.0</td>\n",
              "      <td>0.0</td>\n",
              "      <td>0.0</td>\n",
              "      <td>0.0</td>\n",
              "      <td>0.0</td>\n",
              "      <td>0.0</td>\n",
              "      <td>0.0</td>\n",
              "      <td>0.0</td>\n",
              "      <td>0.0</td>\n",
              "    </tr>\n",
              "    <tr>\n",
              "      <th>51474</th>\n",
              "      <td>0.0</td>\n",
              "      <td>0.0</td>\n",
              "      <td>0.0</td>\n",
              "      <td>0.0</td>\n",
              "      <td>0.0</td>\n",
              "      <td>0.0</td>\n",
              "      <td>0.0</td>\n",
              "      <td>0.0</td>\n",
              "      <td>0.0</td>\n",
              "      <td>0.0</td>\n",
              "      <td>...</td>\n",
              "      <td>0.0</td>\n",
              "      <td>0.0</td>\n",
              "      <td>0.0</td>\n",
              "      <td>0.0</td>\n",
              "      <td>0.0</td>\n",
              "      <td>0.0</td>\n",
              "      <td>0.0</td>\n",
              "      <td>0.0</td>\n",
              "      <td>0.0</td>\n",
              "      <td>0.0</td>\n",
              "    </tr>\n",
              "    <tr>\n",
              "      <th>51475</th>\n",
              "      <td>0.0</td>\n",
              "      <td>0.0</td>\n",
              "      <td>0.0</td>\n",
              "      <td>0.0</td>\n",
              "      <td>0.0</td>\n",
              "      <td>0.0</td>\n",
              "      <td>0.0</td>\n",
              "      <td>0.0</td>\n",
              "      <td>0.0</td>\n",
              "      <td>0.0</td>\n",
              "      <td>...</td>\n",
              "      <td>0.0</td>\n",
              "      <td>0.0</td>\n",
              "      <td>0.0</td>\n",
              "      <td>0.0</td>\n",
              "      <td>0.0</td>\n",
              "      <td>0.0</td>\n",
              "      <td>0.0</td>\n",
              "      <td>0.0</td>\n",
              "      <td>0.0</td>\n",
              "      <td>0.0</td>\n",
              "    </tr>\n",
              "  </tbody>\n",
              "</table>\n",
              "<p>51476 rows × 1693770 columns</p>\n",
              "</div>"
            ],
            "text/plain": [
              "       aamerican  aamerican express  aapl  aapl apple  abcd  \\\n",
              "0            0.0                0.0   0.0         0.0   0.0   \n",
              "1            0.0                0.0   0.0         0.0   0.0   \n",
              "2            0.0                0.0   0.0         0.0   0.0   \n",
              "3            0.0                0.0   0.0         0.0   0.0   \n",
              "4            0.0                0.0   0.0         0.0   0.0   \n",
              "...          ...                ...   ...         ...   ...   \n",
              "51471        0.0                0.0   0.0         0.0   0.0   \n",
              "51472        0.0                0.0   0.0         0.0   0.0   \n",
              "51473        0.0                0.0   0.0         0.0   0.0   \n",
              "51474        0.0                0.0   0.0         0.0   0.0   \n",
              "51475        0.0                0.0   0.0         0.0   0.0   \n",
              "\n",
              "       abcd калужскаяимя  abelt  abelt думать  about  about news  ...  \\\n",
              "0                    0.0    0.0           0.0    0.0         0.0  ...   \n",
              "1                    0.0    0.0           0.0    0.0         0.0  ...   \n",
              "2                    0.0    0.0           0.0    0.0         0.0  ...   \n",
              "3                    0.0    0.0           0.0    0.0         0.0  ...   \n",
              "4                    0.0    0.0           0.0    0.0         0.0  ...   \n",
              "...                  ...    ...           ...    ...         ...  ...   \n",
              "51471                0.0    0.0           0.0    0.0         0.0  ...   \n",
              "51472                0.0    0.0           0.0    0.0         0.0  ...   \n",
              "51473                0.0    0.0           0.0    0.0         0.0  ...   \n",
              "51474                0.0    0.0           0.0    0.0         0.0  ...   \n",
              "51475                0.0    0.0           0.0    0.0         0.0  ...   \n",
              "\n",
              "       ёмкий хотя  ёмко  ёмко давать  ёмко очень  ёмкость  ёмкость банк  \\\n",
              "0             0.0   0.0          0.0         0.0      0.0           0.0   \n",
              "1             0.0   0.0          0.0         0.0      0.0           0.0   \n",
              "2             0.0   0.0          0.0         0.0      0.0           0.0   \n",
              "3             0.0   0.0          0.0         0.0      0.0           0.0   \n",
              "4             0.0   0.0          0.0         0.0      0.0           0.0   \n",
              "...           ...   ...          ...         ...      ...           ...   \n",
              "51471         0.0   0.0          0.0         0.0      0.0           0.0   \n",
              "51472         0.0   0.0          0.0         0.0      0.0           0.0   \n",
              "51473         0.0   0.0          0.0         0.0      0.0           0.0   \n",
              "51474         0.0   0.0          0.0         0.0      0.0           0.0   \n",
              "51475         0.0   0.0          0.0         0.0      0.0           0.0   \n",
              "\n",
              "       ёмкость оригинально  ёмкость отделение  ёрзать  ёрзать место  \n",
              "0                      0.0                0.0     0.0           0.0  \n",
              "1                      0.0                0.0     0.0           0.0  \n",
              "2                      0.0                0.0     0.0           0.0  \n",
              "3                      0.0                0.0     0.0           0.0  \n",
              "4                      0.0                0.0     0.0           0.0  \n",
              "...                    ...                ...     ...           ...  \n",
              "51471                  0.0                0.0     0.0           0.0  \n",
              "51472                  0.0                0.0     0.0           0.0  \n",
              "51473                  0.0                0.0     0.0           0.0  \n",
              "51474                  0.0                0.0     0.0           0.0  \n",
              "51475                  0.0                0.0     0.0           0.0  \n",
              "\n",
              "[51476 rows x 1693770 columns]"
            ]
          },
          "execution_count": 187,
          "metadata": {},
          "output_type": "execute_result"
        }
      ],
      "source": [
        "%%time\n",
        "vec = TfidfVectorizer(ngram_range=(1, 2)) # используем уни-, биграммы\n",
        "tf_idf_matrix = vec.fit_transform(lemmas)\n",
        "tf_idf_matrix = pd.DataFrame.sparse.from_spmatrix(tf_idf_matrix, columns=vec.get_feature_names_out())\n",
        "tf_idf_matrix\n"
      ]
    },
    {
      "cell_type": "code",
      "execution_count": 188,
      "metadata": {},
      "outputs": [],
      "source": [
        "tf_idf_matrix['bank'] = df['bank']\n",
        "\n",
        "from sklearn.preprocessing import OneHotEncoder\n",
        "ohe = OneHotEncoder()\n",
        "\n",
        "# bank\n",
        "transformed = ohe.fit_transform(tf_idf_matrix[['bank']])\n",
        "tf_idf_matrix[ohe.categories_[0]] = transformed.toarray()\n",
        "tf_idf_matrix = tf_idf_matrix.drop('bank', axis=1)\n",
        "tf_idf_matrix\n",
        "\n",
        "tf_idf_matrix['ts'] = df['ts']\n",
        "tf_idf_matrix['sym_len'] = df['sym_len']\n",
        "tf_idf_matrix['word_len'] = df['word_len']\n",
        "tf_idf_matrix['grades'] = df['grades']\n",
        "\n",
        "# del df"
      ]
    },
    {
      "cell_type": "code",
      "execution_count": 189,
      "metadata": {},
      "outputs": [
        {
          "data": {
            "text/html": [
              "<div>\n",
              "<style scoped>\n",
              "    .dataframe tbody tr th:only-of-type {\n",
              "        vertical-align: middle;\n",
              "    }\n",
              "\n",
              "    .dataframe tbody tr th {\n",
              "        vertical-align: top;\n",
              "    }\n",
              "\n",
              "    .dataframe thead th {\n",
              "        text-align: right;\n",
              "    }\n",
              "</style>\n",
              "<table border=\"1\" class=\"dataframe\">\n",
              "  <thead>\n",
              "    <tr style=\"text-align: right;\">\n",
              "      <th></th>\n",
              "      <th>aamerican</th>\n",
              "      <th>aamerican express</th>\n",
              "      <th>aapl</th>\n",
              "      <th>aapl apple</th>\n",
              "      <th>abcd</th>\n",
              "      <th>abcd калужскаяимя</th>\n",
              "      <th>abelt</th>\n",
              "      <th>abelt думать</th>\n",
              "      <th>about</th>\n",
              "      <th>about news</th>\n",
              "      <th>...</th>\n",
              "      <th>tcs</th>\n",
              "      <th>tochka</th>\n",
              "      <th>transcapitalbank</th>\n",
              "      <th>v-express-bank</th>\n",
              "      <th>vozrozhdenie</th>\n",
              "      <th>vtb</th>\n",
              "      <th>ts</th>\n",
              "      <th>sym_len</th>\n",
              "      <th>word_len</th>\n",
              "      <th>grades</th>\n",
              "    </tr>\n",
              "  </thead>\n",
              "  <tbody>\n",
              "    <tr>\n",
              "      <th>0</th>\n",
              "      <td>0.0</td>\n",
              "      <td>0.0</td>\n",
              "      <td>0.0</td>\n",
              "      <td>0.0</td>\n",
              "      <td>0.0</td>\n",
              "      <td>0.0</td>\n",
              "      <td>0.0</td>\n",
              "      <td>0.0</td>\n",
              "      <td>0.0</td>\n",
              "      <td>0.0</td>\n",
              "      <td>...</td>\n",
              "      <td>0.0</td>\n",
              "      <td>0.0</td>\n",
              "      <td>0.0</td>\n",
              "      <td>0.0</td>\n",
              "      <td>0.0</td>\n",
              "      <td>0.0</td>\n",
              "      <td>1487261400</td>\n",
              "      <td>1286</td>\n",
              "      <td>197</td>\n",
              "      <td>1</td>\n",
              "    </tr>\n",
              "    <tr>\n",
              "      <th>1</th>\n",
              "      <td>0.0</td>\n",
              "      <td>0.0</td>\n",
              "      <td>0.0</td>\n",
              "      <td>0.0</td>\n",
              "      <td>0.0</td>\n",
              "      <td>0.0</td>\n",
              "      <td>0.0</td>\n",
              "      <td>0.0</td>\n",
              "      <td>0.0</td>\n",
              "      <td>0.0</td>\n",
              "      <td>...</td>\n",
              "      <td>0.0</td>\n",
              "      <td>0.0</td>\n",
              "      <td>0.0</td>\n",
              "      <td>0.0</td>\n",
              "      <td>0.0</td>\n",
              "      <td>0.0</td>\n",
              "      <td>1481591100</td>\n",
              "      <td>1000</td>\n",
              "      <td>158</td>\n",
              "      <td>2</td>\n",
              "    </tr>\n",
              "    <tr>\n",
              "      <th>2</th>\n",
              "      <td>0.0</td>\n",
              "      <td>0.0</td>\n",
              "      <td>0.0</td>\n",
              "      <td>0.0</td>\n",
              "      <td>0.0</td>\n",
              "      <td>0.0</td>\n",
              "      <td>0.0</td>\n",
              "      <td>0.0</td>\n",
              "      <td>0.0</td>\n",
              "      <td>0.0</td>\n",
              "      <td>...</td>\n",
              "      <td>0.0</td>\n",
              "      <td>0.0</td>\n",
              "      <td>0.0</td>\n",
              "      <td>0.0</td>\n",
              "      <td>0.0</td>\n",
              "      <td>0.0</td>\n",
              "      <td>1596523080</td>\n",
              "      <td>1614</td>\n",
              "      <td>230</td>\n",
              "      <td>2</td>\n",
              "    </tr>\n",
              "    <tr>\n",
              "      <th>3</th>\n",
              "      <td>0.0</td>\n",
              "      <td>0.0</td>\n",
              "      <td>0.0</td>\n",
              "      <td>0.0</td>\n",
              "      <td>0.0</td>\n",
              "      <td>0.0</td>\n",
              "      <td>0.0</td>\n",
              "      <td>0.0</td>\n",
              "      <td>0.0</td>\n",
              "      <td>0.0</td>\n",
              "      <td>...</td>\n",
              "      <td>0.0</td>\n",
              "      <td>0.0</td>\n",
              "      <td>0.0</td>\n",
              "      <td>0.0</td>\n",
              "      <td>0.0</td>\n",
              "      <td>0.0</td>\n",
              "      <td>1429474260</td>\n",
              "      <td>438</td>\n",
              "      <td>53</td>\n",
              "      <td>5</td>\n",
              "    </tr>\n",
              "    <tr>\n",
              "      <th>4</th>\n",
              "      <td>0.0</td>\n",
              "      <td>0.0</td>\n",
              "      <td>0.0</td>\n",
              "      <td>0.0</td>\n",
              "      <td>0.0</td>\n",
              "      <td>0.0</td>\n",
              "      <td>0.0</td>\n",
              "      <td>0.0</td>\n",
              "      <td>0.0</td>\n",
              "      <td>0.0</td>\n",
              "      <td>...</td>\n",
              "      <td>0.0</td>\n",
              "      <td>0.0</td>\n",
              "      <td>0.0</td>\n",
              "      <td>0.0</td>\n",
              "      <td>0.0</td>\n",
              "      <td>1.0</td>\n",
              "      <td>1553798160</td>\n",
              "      <td>1175</td>\n",
              "      <td>186</td>\n",
              "      <td>2</td>\n",
              "    </tr>\n",
              "    <tr>\n",
              "      <th>...</th>\n",
              "      <td>...</td>\n",
              "      <td>...</td>\n",
              "      <td>...</td>\n",
              "      <td>...</td>\n",
              "      <td>...</td>\n",
              "      <td>...</td>\n",
              "      <td>...</td>\n",
              "      <td>...</td>\n",
              "      <td>...</td>\n",
              "      <td>...</td>\n",
              "      <td>...</td>\n",
              "      <td>...</td>\n",
              "      <td>...</td>\n",
              "      <td>...</td>\n",
              "      <td>...</td>\n",
              "      <td>...</td>\n",
              "      <td>...</td>\n",
              "      <td>...</td>\n",
              "      <td>...</td>\n",
              "      <td>...</td>\n",
              "      <td>...</td>\n",
              "    </tr>\n",
              "    <tr>\n",
              "      <th>51471</th>\n",
              "      <td>0.0</td>\n",
              "      <td>0.0</td>\n",
              "      <td>0.0</td>\n",
              "      <td>0.0</td>\n",
              "      <td>0.0</td>\n",
              "      <td>0.0</td>\n",
              "      <td>0.0</td>\n",
              "      <td>0.0</td>\n",
              "      <td>0.0</td>\n",
              "      <td>0.0</td>\n",
              "      <td>...</td>\n",
              "      <td>0.0</td>\n",
              "      <td>0.0</td>\n",
              "      <td>0.0</td>\n",
              "      <td>0.0</td>\n",
              "      <td>0.0</td>\n",
              "      <td>0.0</td>\n",
              "      <td>1477479780</td>\n",
              "      <td>563</td>\n",
              "      <td>90</td>\n",
              "      <td>1</td>\n",
              "    </tr>\n",
              "    <tr>\n",
              "      <th>51472</th>\n",
              "      <td>0.0</td>\n",
              "      <td>0.0</td>\n",
              "      <td>0.0</td>\n",
              "      <td>0.0</td>\n",
              "      <td>0.0</td>\n",
              "      <td>0.0</td>\n",
              "      <td>0.0</td>\n",
              "      <td>0.0</td>\n",
              "      <td>0.0</td>\n",
              "      <td>0.0</td>\n",
              "      <td>...</td>\n",
              "      <td>0.0</td>\n",
              "      <td>0.0</td>\n",
              "      <td>0.0</td>\n",
              "      <td>0.0</td>\n",
              "      <td>0.0</td>\n",
              "      <td>0.0</td>\n",
              "      <td>1580591220</td>\n",
              "      <td>1007</td>\n",
              "      <td>150</td>\n",
              "      <td>2</td>\n",
              "    </tr>\n",
              "    <tr>\n",
              "      <th>51473</th>\n",
              "      <td>0.0</td>\n",
              "      <td>0.0</td>\n",
              "      <td>0.0</td>\n",
              "      <td>0.0</td>\n",
              "      <td>0.0</td>\n",
              "      <td>0.0</td>\n",
              "      <td>0.0</td>\n",
              "      <td>0.0</td>\n",
              "      <td>0.0</td>\n",
              "      <td>0.0</td>\n",
              "      <td>...</td>\n",
              "      <td>0.0</td>\n",
              "      <td>0.0</td>\n",
              "      <td>0.0</td>\n",
              "      <td>0.0</td>\n",
              "      <td>0.0</td>\n",
              "      <td>0.0</td>\n",
              "      <td>1465920180</td>\n",
              "      <td>1223</td>\n",
              "      <td>190</td>\n",
              "      <td>1</td>\n",
              "    </tr>\n",
              "    <tr>\n",
              "      <th>51474</th>\n",
              "      <td>0.0</td>\n",
              "      <td>0.0</td>\n",
              "      <td>0.0</td>\n",
              "      <td>0.0</td>\n",
              "      <td>0.0</td>\n",
              "      <td>0.0</td>\n",
              "      <td>0.0</td>\n",
              "      <td>0.0</td>\n",
              "      <td>0.0</td>\n",
              "      <td>0.0</td>\n",
              "      <td>...</td>\n",
              "      <td>0.0</td>\n",
              "      <td>0.0</td>\n",
              "      <td>0.0</td>\n",
              "      <td>0.0</td>\n",
              "      <td>0.0</td>\n",
              "      <td>0.0</td>\n",
              "      <td>1587457440</td>\n",
              "      <td>400</td>\n",
              "      <td>57</td>\n",
              "      <td>3</td>\n",
              "    </tr>\n",
              "    <tr>\n",
              "      <th>51475</th>\n",
              "      <td>0.0</td>\n",
              "      <td>0.0</td>\n",
              "      <td>0.0</td>\n",
              "      <td>0.0</td>\n",
              "      <td>0.0</td>\n",
              "      <td>0.0</td>\n",
              "      <td>0.0</td>\n",
              "      <td>0.0</td>\n",
              "      <td>0.0</td>\n",
              "      <td>0.0</td>\n",
              "      <td>...</td>\n",
              "      <td>0.0</td>\n",
              "      <td>0.0</td>\n",
              "      <td>0.0</td>\n",
              "      <td>0.0</td>\n",
              "      <td>0.0</td>\n",
              "      <td>0.0</td>\n",
              "      <td>1306933500</td>\n",
              "      <td>1283</td>\n",
              "      <td>201</td>\n",
              "      <td>1</td>\n",
              "    </tr>\n",
              "  </tbody>\n",
              "</table>\n",
              "<p>51476 rows × 1693814 columns</p>\n",
              "</div>"
            ],
            "text/plain": [
              "       aamerican  aamerican express  aapl  aapl apple  abcd  \\\n",
              "0            0.0                0.0   0.0         0.0   0.0   \n",
              "1            0.0                0.0   0.0         0.0   0.0   \n",
              "2            0.0                0.0   0.0         0.0   0.0   \n",
              "3            0.0                0.0   0.0         0.0   0.0   \n",
              "4            0.0                0.0   0.0         0.0   0.0   \n",
              "...          ...                ...   ...         ...   ...   \n",
              "51471        0.0                0.0   0.0         0.0   0.0   \n",
              "51472        0.0                0.0   0.0         0.0   0.0   \n",
              "51473        0.0                0.0   0.0         0.0   0.0   \n",
              "51474        0.0                0.0   0.0         0.0   0.0   \n",
              "51475        0.0                0.0   0.0         0.0   0.0   \n",
              "\n",
              "       abcd калужскаяимя  abelt  abelt думать  about  about news  ...  tcs  \\\n",
              "0                    0.0    0.0           0.0    0.0         0.0  ...  0.0   \n",
              "1                    0.0    0.0           0.0    0.0         0.0  ...  0.0   \n",
              "2                    0.0    0.0           0.0    0.0         0.0  ...  0.0   \n",
              "3                    0.0    0.0           0.0    0.0         0.0  ...  0.0   \n",
              "4                    0.0    0.0           0.0    0.0         0.0  ...  0.0   \n",
              "...                  ...    ...           ...    ...         ...  ...  ...   \n",
              "51471                0.0    0.0           0.0    0.0         0.0  ...  0.0   \n",
              "51472                0.0    0.0           0.0    0.0         0.0  ...  0.0   \n",
              "51473                0.0    0.0           0.0    0.0         0.0  ...  0.0   \n",
              "51474                0.0    0.0           0.0    0.0         0.0  ...  0.0   \n",
              "51475                0.0    0.0           0.0    0.0         0.0  ...  0.0   \n",
              "\n",
              "       tochka  transcapitalbank  v-express-bank  vozrozhdenie  vtb  \\\n",
              "0         0.0               0.0             0.0           0.0  0.0   \n",
              "1         0.0               0.0             0.0           0.0  0.0   \n",
              "2         0.0               0.0             0.0           0.0  0.0   \n",
              "3         0.0               0.0             0.0           0.0  0.0   \n",
              "4         0.0               0.0             0.0           0.0  1.0   \n",
              "...       ...               ...             ...           ...  ...   \n",
              "51471     0.0               0.0             0.0           0.0  0.0   \n",
              "51472     0.0               0.0             0.0           0.0  0.0   \n",
              "51473     0.0               0.0             0.0           0.0  0.0   \n",
              "51474     0.0               0.0             0.0           0.0  0.0   \n",
              "51475     0.0               0.0             0.0           0.0  0.0   \n",
              "\n",
              "               ts  sym_len  word_len  grades  \n",
              "0      1487261400     1286       197       1  \n",
              "1      1481591100     1000       158       2  \n",
              "2      1596523080     1614       230       2  \n",
              "3      1429474260      438        53       5  \n",
              "4      1553798160     1175       186       2  \n",
              "...           ...      ...       ...     ...  \n",
              "51471  1477479780      563        90       1  \n",
              "51472  1580591220     1007       150       2  \n",
              "51473  1465920180     1223       190       1  \n",
              "51474  1587457440      400        57       3  \n",
              "51475  1306933500     1283       201       1  \n",
              "\n",
              "[51476 rows x 1693814 columns]"
            ]
          },
          "execution_count": 189,
          "metadata": {},
          "output_type": "execute_result"
        }
      ],
      "source": [
        "tf_idf_matrix"
      ]
    },
    {
      "cell_type": "code",
      "execution_count": 190,
      "metadata": {},
      "outputs": [],
      "source": [
        "y_train = tf_idf_matrix.grades\n",
        "y_train = y_train.reset_index().drop(columns='index')\n",
        "\n",
        "tf_idf_matrix = tf_idf_matrix.drop(columns='grades')\n",
        "X_train = tf_idf_matrix"
      ]
    },
    {
      "cell_type": "code",
      "execution_count": 199,
      "metadata": {
        "colab": {
          "base_uri": "https://localhost:8080/"
        },
        "id": "PyqxnGdYwggF",
        "outputId": "d635253c-58fc-477a-b06e-a8e631fca973"
      },
      "outputs": [
        {
          "name": "stderr",
          "output_type": "stream",
          "text": [
            "  0%|          | 0/1000 [00:00<?, ?it/s]C:\\Users\\grace\\AppData\\Local\\Packages\\PythonSoftwareFoundation.Python.3.10_qbz5n2kfra8p0\\LocalCache\\local-packages\\Python310\\site-packages\\sklearn\\utils\\validation.py:758: UserWarning: pandas.DataFrame with sparse columns found.It will be converted to a dense numpy array.\n",
            "  warnings.warn(\n",
            "C:\\Users\\grace\\AppData\\Local\\Packages\\PythonSoftwareFoundation.Python.3.10_qbz5n2kfra8p0\\LocalCache\\local-packages\\Python310\\site-packages\\sklearn\\utils\\validation.py:1111: DataConversionWarning: A column-vector y was passed when a 1d array was expected. Please change the shape of y to (n_samples, ), for example using ravel().\n",
            "  y = column_or_1d(y, warn=True)\n",
            "  0%|          | 1/1000 [07:33<125:49:49, 453.44s/it]\n"
          ]
        },
        {
          "ename": "KeyboardInterrupt",
          "evalue": "",
          "output_type": "error",
          "traceback": [
            "\u001b[1;31m---------------------------------------------------------------------------\u001b[0m",
            "\u001b[1;31mKeyboardInterrupt\u001b[0m                         Traceback (most recent call last)",
            "Cell \u001b[1;32mIn [199], line 11\u001b[0m\n\u001b[0;32m      8\u001b[0m inds \u001b[39m=\u001b[39m [np\u001b[39m.\u001b[39mconcatenate((chunk, np\u001b[39m.\u001b[39marray(random\u001b[39m.\u001b[39msample(\u001b[39mlist\u001b[39m(ran), k\u001b[39m=\u001b[39m\u001b[39m1000\u001b[39m))), axis\u001b[39m=\u001b[39m\u001b[39mNone\u001b[39;00m) \u001b[39mfor\u001b[39;00m chunk \u001b[39min\u001b[39;00m inds]\n\u001b[0;32m     10\u001b[0m \u001b[39mfor\u001b[39;00m chunk \u001b[39min\u001b[39;00m tqdm(inds):\n\u001b[1;32m---> 11\u001b[0m     clf\u001b[39m.\u001b[39mfit(X_train\u001b[39m.\u001b[39;49miloc[chunk], y_train\u001b[39m.\u001b[39miloc[chunk])\n",
            "File \u001b[1;32m~\\AppData\\Local\\Packages\\PythonSoftwareFoundation.Python.3.10_qbz5n2kfra8p0\\LocalCache\\local-packages\\Python310\\site-packages\\pandas\\core\\indexing.py:1073\u001b[0m, in \u001b[0;36m_LocationIndexer.__getitem__\u001b[1;34m(self, key)\u001b[0m\n\u001b[0;32m   1070\u001b[0m axis \u001b[39m=\u001b[39m \u001b[39mself\u001b[39m\u001b[39m.\u001b[39maxis \u001b[39mor\u001b[39;00m \u001b[39m0\u001b[39m\n\u001b[0;32m   1072\u001b[0m maybe_callable \u001b[39m=\u001b[39m com\u001b[39m.\u001b[39mapply_if_callable(key, \u001b[39mself\u001b[39m\u001b[39m.\u001b[39mobj)\n\u001b[1;32m-> 1073\u001b[0m \u001b[39mreturn\u001b[39;00m \u001b[39mself\u001b[39;49m\u001b[39m.\u001b[39;49m_getitem_axis(maybe_callable, axis\u001b[39m=\u001b[39;49maxis)\n",
            "File \u001b[1;32m~\\AppData\\Local\\Packages\\PythonSoftwareFoundation.Python.3.10_qbz5n2kfra8p0\\LocalCache\\local-packages\\Python310\\site-packages\\pandas\\core\\indexing.py:1616\u001b[0m, in \u001b[0;36m_iLocIndexer._getitem_axis\u001b[1;34m(self, key, axis)\u001b[0m\n\u001b[0;32m   1614\u001b[0m \u001b[39m# a list of integers\u001b[39;00m\n\u001b[0;32m   1615\u001b[0m \u001b[39melif\u001b[39;00m is_list_like_indexer(key):\n\u001b[1;32m-> 1616\u001b[0m     \u001b[39mreturn\u001b[39;00m \u001b[39mself\u001b[39;49m\u001b[39m.\u001b[39;49m_get_list_axis(key, axis\u001b[39m=\u001b[39;49maxis)\n\u001b[0;32m   1618\u001b[0m \u001b[39m# a single integer\u001b[39;00m\n\u001b[0;32m   1619\u001b[0m \u001b[39melse\u001b[39;00m:\n\u001b[0;32m   1620\u001b[0m     key \u001b[39m=\u001b[39m item_from_zerodim(key)\n",
            "File \u001b[1;32m~\\AppData\\Local\\Packages\\PythonSoftwareFoundation.Python.3.10_qbz5n2kfra8p0\\LocalCache\\local-packages\\Python310\\site-packages\\pandas\\core\\indexing.py:1587\u001b[0m, in \u001b[0;36m_iLocIndexer._get_list_axis\u001b[1;34m(self, key, axis)\u001b[0m\n\u001b[0;32m   1570\u001b[0m \u001b[39m\"\"\"\u001b[39;00m\n\u001b[0;32m   1571\u001b[0m \u001b[39mReturn Series values by list or array of integers.\u001b[39;00m\n\u001b[0;32m   1572\u001b[0m \n\u001b[1;32m   (...)\u001b[0m\n\u001b[0;32m   1584\u001b[0m \u001b[39m`axis` can only be zero.\u001b[39;00m\n\u001b[0;32m   1585\u001b[0m \u001b[39m\"\"\"\u001b[39;00m\n\u001b[0;32m   1586\u001b[0m \u001b[39mtry\u001b[39;00m:\n\u001b[1;32m-> 1587\u001b[0m     \u001b[39mreturn\u001b[39;00m \u001b[39mself\u001b[39;49m\u001b[39m.\u001b[39;49mobj\u001b[39m.\u001b[39;49m_take_with_is_copy(key, axis\u001b[39m=\u001b[39;49maxis)\n\u001b[0;32m   1588\u001b[0m \u001b[39mexcept\u001b[39;00m \u001b[39mIndexError\u001b[39;00m \u001b[39mas\u001b[39;00m err:\n\u001b[0;32m   1589\u001b[0m     \u001b[39m# re-raise with different error message\u001b[39;00m\n\u001b[0;32m   1590\u001b[0m     \u001b[39mraise\u001b[39;00m \u001b[39mIndexError\u001b[39;00m(\u001b[39m\"\u001b[39m\u001b[39mpositional indexers are out-of-bounds\u001b[39m\u001b[39m\"\u001b[39m) \u001b[39mfrom\u001b[39;00m \u001b[39merr\u001b[39;00m\n",
            "File \u001b[1;32m~\\AppData\\Local\\Packages\\PythonSoftwareFoundation.Python.3.10_qbz5n2kfra8p0\\LocalCache\\local-packages\\Python310\\site-packages\\pandas\\core\\generic.py:3902\u001b[0m, in \u001b[0;36mNDFrame._take_with_is_copy\u001b[1;34m(self, indices, axis)\u001b[0m\n\u001b[0;32m   3894\u001b[0m \u001b[39mdef\u001b[39;00m \u001b[39m_take_with_is_copy\u001b[39m(\u001b[39mself\u001b[39m: NDFrameT, indices, axis\u001b[39m=\u001b[39m\u001b[39m0\u001b[39m) \u001b[39m-\u001b[39m\u001b[39m>\u001b[39m NDFrameT:\n\u001b[0;32m   3895\u001b[0m     \u001b[39m\"\"\"\u001b[39;00m\n\u001b[0;32m   3896\u001b[0m \u001b[39m    Internal version of the `take` method that sets the `_is_copy`\u001b[39;00m\n\u001b[0;32m   3897\u001b[0m \u001b[39m    attribute to keep track of the parent dataframe (using in indexing\u001b[39;00m\n\u001b[1;32m   (...)\u001b[0m\n\u001b[0;32m   3900\u001b[0m \u001b[39m    See the docstring of `take` for full explanation of the parameters.\u001b[39;00m\n\u001b[0;32m   3901\u001b[0m \u001b[39m    \"\"\"\u001b[39;00m\n\u001b[1;32m-> 3902\u001b[0m     result \u001b[39m=\u001b[39m \u001b[39mself\u001b[39;49m\u001b[39m.\u001b[39;49m_take(indices\u001b[39m=\u001b[39;49mindices, axis\u001b[39m=\u001b[39;49maxis)\n\u001b[0;32m   3903\u001b[0m     \u001b[39m# Maybe set copy if we didn't actually change the index.\u001b[39;00m\n\u001b[0;32m   3904\u001b[0m     \u001b[39mif\u001b[39;00m \u001b[39mnot\u001b[39;00m result\u001b[39m.\u001b[39m_get_axis(axis)\u001b[39m.\u001b[39mequals(\u001b[39mself\u001b[39m\u001b[39m.\u001b[39m_get_axis(axis)):\n",
            "File \u001b[1;32m~\\AppData\\Local\\Packages\\PythonSoftwareFoundation.Python.3.10_qbz5n2kfra8p0\\LocalCache\\local-packages\\Python310\\site-packages\\pandas\\core\\generic.py:3886\u001b[0m, in \u001b[0;36mNDFrame._take\u001b[1;34m(self, indices, axis, convert_indices)\u001b[0m\n\u001b[0;32m   3879\u001b[0m \u001b[39m\"\"\"\u001b[39;00m\n\u001b[0;32m   3880\u001b[0m \u001b[39mInternal version of the `take` allowing specification of additional args.\u001b[39;00m\n\u001b[0;32m   3881\u001b[0m \n\u001b[0;32m   3882\u001b[0m \u001b[39mSee the docstring of `take` for full explanation of the parameters.\u001b[39;00m\n\u001b[0;32m   3883\u001b[0m \u001b[39m\"\"\"\u001b[39;00m\n\u001b[0;32m   3884\u001b[0m \u001b[39mself\u001b[39m\u001b[39m.\u001b[39m_consolidate_inplace()\n\u001b[1;32m-> 3886\u001b[0m new_data \u001b[39m=\u001b[39m \u001b[39mself\u001b[39;49m\u001b[39m.\u001b[39;49m_mgr\u001b[39m.\u001b[39;49mtake(\n\u001b[0;32m   3887\u001b[0m     indices,\n\u001b[0;32m   3888\u001b[0m     axis\u001b[39m=\u001b[39;49m\u001b[39mself\u001b[39;49m\u001b[39m.\u001b[39;49m_get_block_manager_axis(axis),\n\u001b[0;32m   3889\u001b[0m     verify\u001b[39m=\u001b[39;49m\u001b[39mTrue\u001b[39;49;00m,\n\u001b[0;32m   3890\u001b[0m     convert_indices\u001b[39m=\u001b[39;49mconvert_indices,\n\u001b[0;32m   3891\u001b[0m )\n\u001b[0;32m   3892\u001b[0m \u001b[39mreturn\u001b[39;00m \u001b[39mself\u001b[39m\u001b[39m.\u001b[39m_constructor(new_data)\u001b[39m.\u001b[39m__finalize__(\u001b[39mself\u001b[39m, method\u001b[39m=\u001b[39m\u001b[39m\"\u001b[39m\u001b[39mtake\u001b[39m\u001b[39m\"\u001b[39m)\n",
            "File \u001b[1;32m~\\AppData\\Local\\Packages\\PythonSoftwareFoundation.Python.3.10_qbz5n2kfra8p0\\LocalCache\\local-packages\\Python310\\site-packages\\pandas\\core\\internals\\managers.py:980\u001b[0m, in \u001b[0;36mBaseBlockManager.take\u001b[1;34m(self, indexer, axis, verify, convert_indices)\u001b[0m\n\u001b[0;32m    977\u001b[0m     indexer \u001b[39m=\u001b[39m maybe_convert_indices(indexer, n, verify\u001b[39m=\u001b[39mverify)\n\u001b[0;32m    979\u001b[0m new_labels \u001b[39m=\u001b[39m \u001b[39mself\u001b[39m\u001b[39m.\u001b[39maxes[axis]\u001b[39m.\u001b[39mtake(indexer)\n\u001b[1;32m--> 980\u001b[0m \u001b[39mreturn\u001b[39;00m \u001b[39mself\u001b[39;49m\u001b[39m.\u001b[39;49mreindex_indexer(\n\u001b[0;32m    981\u001b[0m     new_axis\u001b[39m=\u001b[39;49mnew_labels,\n\u001b[0;32m    982\u001b[0m     indexer\u001b[39m=\u001b[39;49mindexer,\n\u001b[0;32m    983\u001b[0m     axis\u001b[39m=\u001b[39;49maxis,\n\u001b[0;32m    984\u001b[0m     allow_dups\u001b[39m=\u001b[39;49m\u001b[39mTrue\u001b[39;49;00m,\n\u001b[0;32m    985\u001b[0m     copy\u001b[39m=\u001b[39;49m\u001b[39mNone\u001b[39;49;00m,\n\u001b[0;32m    986\u001b[0m )\n",
            "File \u001b[1;32m~\\AppData\\Local\\Packages\\PythonSoftwareFoundation.Python.3.10_qbz5n2kfra8p0\\LocalCache\\local-packages\\Python310\\site-packages\\pandas\\core\\internals\\managers.py:753\u001b[0m, in \u001b[0;36mBaseBlockManager.reindex_indexer\u001b[1;34m(self, new_axis, indexer, axis, fill_value, allow_dups, copy, only_slice, use_na_proxy)\u001b[0m\n\u001b[0;32m    751\u001b[0m     parent \u001b[39m=\u001b[39m \u001b[39mNone\u001b[39;00m \u001b[39mif\u001b[39;00m com\u001b[39m.\u001b[39mall_none(\u001b[39m*\u001b[39mnew_refs) \u001b[39melse\u001b[39;00m \u001b[39mself\u001b[39m\n\u001b[0;32m    752\u001b[0m \u001b[39melse\u001b[39;00m:\n\u001b[1;32m--> 753\u001b[0m     new_blocks \u001b[39m=\u001b[39m [\n\u001b[0;32m    754\u001b[0m         blk\u001b[39m.\u001b[39mtake_nd(\n\u001b[0;32m    755\u001b[0m             indexer,\n\u001b[0;32m    756\u001b[0m             axis\u001b[39m=\u001b[39m\u001b[39m1\u001b[39m,\n\u001b[0;32m    757\u001b[0m             fill_value\u001b[39m=\u001b[39m(\n\u001b[0;32m    758\u001b[0m                 fill_value \u001b[39mif\u001b[39;00m fill_value \u001b[39mis\u001b[39;00m \u001b[39mnot\u001b[39;00m \u001b[39mNone\u001b[39;00m \u001b[39melse\u001b[39;00m blk\u001b[39m.\u001b[39mfill_value\n\u001b[0;32m    759\u001b[0m             ),\n\u001b[0;32m    760\u001b[0m         )\n\u001b[0;32m    761\u001b[0m         \u001b[39mfor\u001b[39;00m blk \u001b[39min\u001b[39;00m \u001b[39mself\u001b[39m\u001b[39m.\u001b[39mblocks\n\u001b[0;32m    762\u001b[0m     ]\n\u001b[0;32m    763\u001b[0m     new_refs \u001b[39m=\u001b[39m \u001b[39mNone\u001b[39;00m\n\u001b[0;32m    764\u001b[0m     parent \u001b[39m=\u001b[39m \u001b[39mNone\u001b[39;00m\n",
            "File \u001b[1;32m~\\AppData\\Local\\Packages\\PythonSoftwareFoundation.Python.3.10_qbz5n2kfra8p0\\LocalCache\\local-packages\\Python310\\site-packages\\pandas\\core\\internals\\managers.py:754\u001b[0m, in \u001b[0;36m<listcomp>\u001b[1;34m(.0)\u001b[0m\n\u001b[0;32m    751\u001b[0m     parent \u001b[39m=\u001b[39m \u001b[39mNone\u001b[39;00m \u001b[39mif\u001b[39;00m com\u001b[39m.\u001b[39mall_none(\u001b[39m*\u001b[39mnew_refs) \u001b[39melse\u001b[39;00m \u001b[39mself\u001b[39m\n\u001b[0;32m    752\u001b[0m \u001b[39melse\u001b[39;00m:\n\u001b[0;32m    753\u001b[0m     new_blocks \u001b[39m=\u001b[39m [\n\u001b[1;32m--> 754\u001b[0m         blk\u001b[39m.\u001b[39;49mtake_nd(\n\u001b[0;32m    755\u001b[0m             indexer,\n\u001b[0;32m    756\u001b[0m             axis\u001b[39m=\u001b[39;49m\u001b[39m1\u001b[39;49m,\n\u001b[0;32m    757\u001b[0m             fill_value\u001b[39m=\u001b[39;49m(\n\u001b[0;32m    758\u001b[0m                 fill_value \u001b[39mif\u001b[39;49;00m fill_value \u001b[39mis\u001b[39;49;00m \u001b[39mnot\u001b[39;49;00m \u001b[39mNone\u001b[39;49;00m \u001b[39melse\u001b[39;49;00m blk\u001b[39m.\u001b[39;49mfill_value\n\u001b[0;32m    759\u001b[0m             ),\n\u001b[0;32m    760\u001b[0m         )\n\u001b[0;32m    761\u001b[0m         \u001b[39mfor\u001b[39;00m blk \u001b[39min\u001b[39;00m \u001b[39mself\u001b[39m\u001b[39m.\u001b[39mblocks\n\u001b[0;32m    762\u001b[0m     ]\n\u001b[0;32m    763\u001b[0m     new_refs \u001b[39m=\u001b[39m \u001b[39mNone\u001b[39;00m\n\u001b[0;32m    764\u001b[0m     parent \u001b[39m=\u001b[39m \u001b[39mNone\u001b[39;00m\n",
            "File \u001b[1;32m~\\AppData\\Local\\Packages\\PythonSoftwareFoundation.Python.3.10_qbz5n2kfra8p0\\LocalCache\\local-packages\\Python310\\site-packages\\pandas\\core\\internals\\blocks.py:1775\u001b[0m, in \u001b[0;36mExtensionBlock.take_nd\u001b[1;34m(self, indexer, axis, new_mgr_locs, fill_value)\u001b[0m\n\u001b[0;32m   1769\u001b[0m     fill_value \u001b[39m=\u001b[39m \u001b[39mNone\u001b[39;00m\n\u001b[0;32m   1771\u001b[0m \u001b[39m# TODO(EA2D): special case not needed with 2D EAs\u001b[39;00m\n\u001b[0;32m   1772\u001b[0m \u001b[39m# axis doesn't matter; we are really a single-dim object\u001b[39;00m\n\u001b[0;32m   1773\u001b[0m \u001b[39m# but are passed the axis depending on the calling routing\u001b[39;00m\n\u001b[0;32m   1774\u001b[0m \u001b[39m# if its REALLY axis 0, then this will be a reindex and not a take\u001b[39;00m\n\u001b[1;32m-> 1775\u001b[0m new_values \u001b[39m=\u001b[39m \u001b[39mself\u001b[39;49m\u001b[39m.\u001b[39;49mvalues\u001b[39m.\u001b[39;49mtake(indexer, fill_value\u001b[39m=\u001b[39;49mfill_value, allow_fill\u001b[39m=\u001b[39;49m\u001b[39mTrue\u001b[39;49;00m)\n\u001b[0;32m   1777\u001b[0m \u001b[39m# Called from three places in managers, all of which satisfy\u001b[39;00m\n\u001b[0;32m   1778\u001b[0m \u001b[39m#  this assertion\u001b[39;00m\n\u001b[0;32m   1779\u001b[0m \u001b[39massert\u001b[39;00m \u001b[39mnot\u001b[39;00m (\u001b[39mself\u001b[39m\u001b[39m.\u001b[39mndim \u001b[39m==\u001b[39m \u001b[39m1\u001b[39m \u001b[39mand\u001b[39;00m new_mgr_locs \u001b[39mis\u001b[39;00m \u001b[39mNone\u001b[39;00m)\n",
            "File \u001b[1;32m~\\AppData\\Local\\Packages\\PythonSoftwareFoundation.Python.3.10_qbz5n2kfra8p0\\LocalCache\\local-packages\\Python310\\site-packages\\pandas\\core\\arrays\\sparse\\array.py:1088\u001b[0m, in \u001b[0;36mSparseArray.take\u001b[1;34m(self, indices, allow_fill, fill_value)\u001b[0m\n\u001b[0;32m   1086\u001b[0m     dtype \u001b[39m=\u001b[39m \u001b[39mself\u001b[39m\u001b[39m.\u001b[39mdtype\n\u001b[0;32m   1087\u001b[0m \u001b[39melif\u001b[39;00m allow_fill:\n\u001b[1;32m-> 1088\u001b[0m     result \u001b[39m=\u001b[39m \u001b[39mself\u001b[39;49m\u001b[39m.\u001b[39;49m_take_with_fill(indices, fill_value\u001b[39m=\u001b[39;49mfill_value)\n\u001b[0;32m   1089\u001b[0m \u001b[39melse\u001b[39;00m:\n\u001b[0;32m   1090\u001b[0m     \u001b[39mreturn\u001b[39;00m \u001b[39mself\u001b[39m\u001b[39m.\u001b[39m_take_without_fill(indices)\n",
            "File \u001b[1;32m~\\AppData\\Local\\Packages\\PythonSoftwareFoundation.Python.3.10_qbz5n2kfra8p0\\LocalCache\\local-packages\\Python310\\site-packages\\pandas\\core\\arrays\\sparse\\array.py:1137\u001b[0m, in \u001b[0;36mSparseArray._take_with_fill\u001b[1;34m(self, indices, fill_value)\u001b[0m\n\u001b[0;32m   1135\u001b[0m     taken \u001b[39m=\u001b[39m np\u001b[39m.\u001b[39mfull(sp_indexer\u001b[39m.\u001b[39mshape, fill_value\u001b[39m=\u001b[39mfill_value, dtype\u001b[39m=\u001b[39m_dtype)\n\u001b[0;32m   1136\u001b[0m \u001b[39melse\u001b[39;00m:\n\u001b[1;32m-> 1137\u001b[0m     taken \u001b[39m=\u001b[39m \u001b[39mself\u001b[39;49m\u001b[39m.\u001b[39;49msp_values\u001b[39m.\u001b[39;49mtake(sp_indexer)\n\u001b[0;32m   1139\u001b[0m     \u001b[39m# Fill in two steps.\u001b[39;00m\n\u001b[0;32m   1140\u001b[0m     \u001b[39m# Old fill values\u001b[39;00m\n\u001b[0;32m   1141\u001b[0m     \u001b[39m# New fill values\u001b[39;00m\n\u001b[0;32m   1142\u001b[0m     \u001b[39m# potentially coercing to a new dtype at each stage.\u001b[39;00m\n\u001b[0;32m   1144\u001b[0m     m0 \u001b[39m=\u001b[39m sp_indexer[old_fill_indices] \u001b[39m<\u001b[39m \u001b[39m0\u001b[39m\n",
            "\u001b[1;31mKeyboardInterrupt\u001b[0m: "
          ]
        }
      ],
      "source": [
        "w = {1:0.538872, 5:0.276381, 2:0.109449, 3:0.045769, 4:0.029528}\n",
        "\n",
        "clf = LogisticRegression(random_state=42, class_weight=w)\n",
        "# небольшой трюк: будем обучаться частями\n",
        "ran = np.arange(y_train.shape[0])\n",
        "inds = np.array_split(ran, 1000) # разобъем на 10 частей\n",
        "# и подмешаем к каждому куску случайных объектов\n",
        "inds = [np.concatenate((chunk, np.array(random.sample(list(ran), k=1000))), axis=None) for chunk in inds]\n",
        "\n",
        "for chunk in tqdm(inds):\n",
        "    clf.fit(X_train.iloc[chunk], y_train.iloc[chunk])\n"
      ]
    },
    {
      "cell_type": "markdown",
      "metadata": {
        "id": "19IT2fpupy6-"
      },
      "source": [
        "Загрузим тест. Предобработаем отзывы в нем и сделаем предсказания"
      ]
    },
    {
      "cell_type": "code",
      "execution_count": null,
      "metadata": {
        "colab": {
          "base_uri": "https://localhost:8080/",
          "height": 424
        },
        "id": "GuGMocMhpwmn",
        "outputId": "2e42beaf-4220-475e-9aeb-c9605bef1654"
      },
      "outputs": [
        {
          "data": {
            "text/html": [
              "\n",
              "  <div id=\"df-4eb15503-e04e-4e31-82c8-03fe6de1fd8a\">\n",
              "    <div class=\"colab-df-container\">\n",
              "      <div>\n",
              "<style scoped>\n",
              "    .dataframe tbody tr th:only-of-type {\n",
              "        vertical-align: middle;\n",
              "    }\n",
              "\n",
              "    .dataframe tbody tr th {\n",
              "        vertical-align: top;\n",
              "    }\n",
              "\n",
              "    .dataframe thead th {\n",
              "        text-align: right;\n",
              "    }\n",
              "</style>\n",
              "<table border=\"1\" class=\"dataframe\">\n",
              "  <thead>\n",
              "    <tr style=\"text-align: right;\">\n",
              "      <th></th>\n",
              "      <th>bank</th>\n",
              "      <th>feeds</th>\n",
              "      <th>date</th>\n",
              "    </tr>\n",
              "  </thead>\n",
              "  <tbody>\n",
              "    <tr>\n",
              "      <th>0</th>\n",
              "      <td>sberbank</td>\n",
              "      <td>Оформляем ипотеку в Сбербанке. 22.06.2020 были...</td>\n",
              "      <td>01.07.2020 10:53</td>\n",
              "    </tr>\n",
              "    <tr>\n",
              "      <th>1</th>\n",
              "      <td>alfabank</td>\n",
              "      <td>Краткое содержание: не рекомендую брать кредит...</td>\n",
              "      <td>20.06.2019 13:19</td>\n",
              "    </tr>\n",
              "    <tr>\n",
              "      <th>2</th>\n",
              "      <td>v-express-bank</td>\n",
              "      <td>Добрый день, уважаемые сотрудники службы контр...</td>\n",
              "      <td>20.02.2016 11:46</td>\n",
              "    </tr>\n",
              "    <tr>\n",
              "      <th>3</th>\n",
              "      <td>homecreditbank</td>\n",
              "      <td>Обращался за получением карты \"Зеленая польза\"...</td>\n",
              "      <td>06.05.2019 15:48</td>\n",
              "    </tr>\n",
              "    <tr>\n",
              "      <th>4</th>\n",
              "      <td>vtb</td>\n",
              "      <td>20.05.2016 обратилась в отделение банка на про...</td>\n",
              "      <td>23.05.2016 15:41</td>\n",
              "    </tr>\n",
              "    <tr>\n",
              "      <th>...</th>\n",
              "      <td>...</td>\n",
              "      <td>...</td>\n",
              "      <td>...</td>\n",
              "    </tr>\n",
              "    <tr>\n",
              "      <th>17215</th>\n",
              "      <td>sberbank</td>\n",
              "      <td>21.09.2018 в 15:26:56, я, О-ва К. К., снимала ...</td>\n",
              "      <td>22.09.2018 16:08</td>\n",
              "    </tr>\n",
              "    <tr>\n",
              "      <th>17216</th>\n",
              "      <td>homecreditbank</td>\n",
              "      <td>Наверняка не засчитают, но тем не менее. Нужна...</td>\n",
              "      <td>06.10.2011 9:35</td>\n",
              "    </tr>\n",
              "    <tr>\n",
              "      <th>17217</th>\n",
              "      <td>interprombank</td>\n",
              "      <td>15.08.2019 я, как физ.лицо обратилась в офис н...</td>\n",
              "      <td>21.08.2019 14:13</td>\n",
              "    </tr>\n",
              "    <tr>\n",
              "      <th>17218</th>\n",
              "      <td>otpbank</td>\n",
              "      <td>У банка есть рекламный продукт-игра \"Мои рыбки...</td>\n",
              "      <td>29.05.2020 16:12</td>\n",
              "    </tr>\n",
              "    <tr>\n",
              "      <th>17219</th>\n",
              "      <td>sberbank</td>\n",
              "      <td>26 мая 2015 года мною была совершена операция ...</td>\n",
              "      <td>02.06.2015 15:44</td>\n",
              "    </tr>\n",
              "  </tbody>\n",
              "</table>\n",
              "<p>17220 rows × 3 columns</p>\n",
              "</div>\n",
              "      <button class=\"colab-df-convert\" onclick=\"convertToInteractive('df-4eb15503-e04e-4e31-82c8-03fe6de1fd8a')\"\n",
              "              title=\"Convert this dataframe to an interactive table.\"\n",
              "              style=\"display:none;\">\n",
              "        \n",
              "  <svg xmlns=\"http://www.w3.org/2000/svg\" height=\"24px\"viewBox=\"0 0 24 24\"\n",
              "       width=\"24px\">\n",
              "    <path d=\"M0 0h24v24H0V0z\" fill=\"none\"/>\n",
              "    <path d=\"M18.56 5.44l.94 2.06.94-2.06 2.06-.94-2.06-.94-.94-2.06-.94 2.06-2.06.94zm-11 1L8.5 8.5l.94-2.06 2.06-.94-2.06-.94L8.5 2.5l-.94 2.06-2.06.94zm10 10l.94 2.06.94-2.06 2.06-.94-2.06-.94-.94-2.06-.94 2.06-2.06.94z\"/><path d=\"M17.41 7.96l-1.37-1.37c-.4-.4-.92-.59-1.43-.59-.52 0-1.04.2-1.43.59L10.3 9.45l-7.72 7.72c-.78.78-.78 2.05 0 2.83L4 21.41c.39.39.9.59 1.41.59.51 0 1.02-.2 1.41-.59l7.78-7.78 2.81-2.81c.8-.78.8-2.07 0-2.86zM5.41 20L4 18.59l7.72-7.72 1.47 1.35L5.41 20z\"/>\n",
              "  </svg>\n",
              "      </button>\n",
              "      \n",
              "  <style>\n",
              "    .colab-df-container {\n",
              "      display:flex;\n",
              "      flex-wrap:wrap;\n",
              "      gap: 12px;\n",
              "    }\n",
              "\n",
              "    .colab-df-convert {\n",
              "      background-color: #E8F0FE;\n",
              "      border: none;\n",
              "      border-radius: 50%;\n",
              "      cursor: pointer;\n",
              "      display: none;\n",
              "      fill: #1967D2;\n",
              "      height: 32px;\n",
              "      padding: 0 0 0 0;\n",
              "      width: 32px;\n",
              "    }\n",
              "\n",
              "    .colab-df-convert:hover {\n",
              "      background-color: #E2EBFA;\n",
              "      box-shadow: 0px 1px 2px rgba(60, 64, 67, 0.3), 0px 1px 3px 1px rgba(60, 64, 67, 0.15);\n",
              "      fill: #174EA6;\n",
              "    }\n",
              "\n",
              "    [theme=dark] .colab-df-convert {\n",
              "      background-color: #3B4455;\n",
              "      fill: #D2E3FC;\n",
              "    }\n",
              "\n",
              "    [theme=dark] .colab-df-convert:hover {\n",
              "      background-color: #434B5C;\n",
              "      box-shadow: 0px 1px 3px 1px rgba(0, 0, 0, 0.15);\n",
              "      filter: drop-shadow(0px 1px 2px rgba(0, 0, 0, 0.3));\n",
              "      fill: #FFFFFF;\n",
              "    }\n",
              "  </style>\n",
              "\n",
              "      <script>\n",
              "        const buttonEl =\n",
              "          document.querySelector('#df-4eb15503-e04e-4e31-82c8-03fe6de1fd8a button.colab-df-convert');\n",
              "        buttonEl.style.display =\n",
              "          google.colab.kernel.accessAllowed ? 'block' : 'none';\n",
              "\n",
              "        async function convertToInteractive(key) {\n",
              "          const element = document.querySelector('#df-4eb15503-e04e-4e31-82c8-03fe6de1fd8a');\n",
              "          const dataTable =\n",
              "            await google.colab.kernel.invokeFunction('convertToInteractive',\n",
              "                                                     [key], {});\n",
              "          if (!dataTable) return;\n",
              "\n",
              "          const docLinkHtml = 'Like what you see? Visit the ' +\n",
              "            '<a target=\"_blank\" href=https://colab.research.google.com/notebooks/data_table.ipynb>data table notebook</a>'\n",
              "            + ' to learn more about interactive tables.';\n",
              "          element.innerHTML = '';\n",
              "          dataTable['output_type'] = 'display_data';\n",
              "          await google.colab.output.renderOutput(dataTable, element);\n",
              "          const docLink = document.createElement('div');\n",
              "          docLink.innerHTML = docLinkHtml;\n",
              "          element.appendChild(docLink);\n",
              "        }\n",
              "      </script>\n",
              "    </div>\n",
              "  </div>\n",
              "  "
            ],
            "text/plain": [
              "                 bank                                              feeds  \\\n",
              "0            sberbank  Оформляем ипотеку в Сбербанке. 22.06.2020 были...   \n",
              "1            alfabank  Краткое содержание: не рекомендую брать кредит...   \n",
              "2      v-express-bank  Добрый день, уважаемые сотрудники службы контр...   \n",
              "3      homecreditbank  Обращался за получением карты \"Зеленая польза\"...   \n",
              "4                 vtb  20.05.2016 обратилась в отделение банка на про...   \n",
              "...               ...                                                ...   \n",
              "17215        sberbank  21.09.2018 в 15:26:56, я, О-ва К. К., снимала ...   \n",
              "17216  homecreditbank  Наверняка не засчитают, но тем не менее. Нужна...   \n",
              "17217   interprombank  15.08.2019 я, как физ.лицо обратилась в офис н...   \n",
              "17218         otpbank  У банка есть рекламный продукт-игра \"Мои рыбки...   \n",
              "17219        sberbank  26 мая 2015 года мною была совершена операция ...   \n",
              "\n",
              "                   date  \n",
              "0      01.07.2020 10:53  \n",
              "1      20.06.2019 13:19  \n",
              "2      20.02.2016 11:46  \n",
              "3      06.05.2019 15:48  \n",
              "4      23.05.2016 15:41  \n",
              "...                 ...  \n",
              "17215  22.09.2018 16:08  \n",
              "17216   06.10.2011 9:35  \n",
              "17217  21.08.2019 14:13  \n",
              "17218  29.05.2020 16:12  \n",
              "17219  02.06.2015 15:44  \n",
              "\n",
              "[17220 rows x 3 columns]"
            ]
          },
          "execution_count": 14,
          "metadata": {},
          "output_type": "execute_result"
        }
      ],
      "source": [
        "test = pd.read_csv('new_test_ml.csv', index_col=0)\n",
        "test"
      ]
    },
    {
      "cell_type": "code",
      "execution_count": null,
      "metadata": {
        "colab": {
          "base_uri": "https://localhost:8080/"
        },
        "id": "VwHSr5Wdpwmr",
        "outputId": "4436aace-9656-4fb4-d63d-07c62b4c6104"
      },
      "outputs": [
        {
          "name": "stderr",
          "output_type": "stream",
          "text": [
            "100%|██████████| 17220/17220 [07:24<00:00, 38.75it/s]\n"
          ]
        }
      ],
      "source": [
        "with Pool(4) as p:\n",
        "    lemmas_test = list(tqdm(p.imap(clean_text, test['feeds']), total=len(test)))\n",
        "    "
      ]
    },
    {
      "cell_type": "code",
      "execution_count": null,
      "metadata": {
        "colab": {
          "base_uri": "https://localhost:8080/"
        },
        "id": "i_HuBNjIpwms",
        "outputId": "eff161b4-7318-45ef-d344-5d55869a620b"
      },
      "outputs": [
        {
          "data": {
            "text/plain": [
              "array([1, 1, 1, ..., 1, 1, 1])"
            ]
          },
          "execution_count": 17,
          "metadata": {},
          "output_type": "execute_result"
        }
      ],
      "source": [
        "pred = clf.predict(vec.transform(lemmas_test))\n",
        "pred"
      ]
    },
    {
      "cell_type": "code",
      "execution_count": null,
      "metadata": {
        "colab": {
          "base_uri": "https://localhost:8080/",
          "height": 424
        },
        "id": "Kw4PI3WIpwms",
        "outputId": "70df5ef8-13c0-4088-d5ee-594f9932e520"
      },
      "outputs": [
        {
          "data": {
            "text/html": [
              "\n",
              "  <div id=\"df-2e505d26-9b70-4512-a410-bb53b241d3fc\">\n",
              "    <div class=\"colab-df-container\">\n",
              "      <div>\n",
              "<style scoped>\n",
              "    .dataframe tbody tr th:only-of-type {\n",
              "        vertical-align: middle;\n",
              "    }\n",
              "\n",
              "    .dataframe tbody tr th {\n",
              "        vertical-align: top;\n",
              "    }\n",
              "\n",
              "    .dataframe thead th {\n",
              "        text-align: right;\n",
              "    }\n",
              "</style>\n",
              "<table border=\"1\" class=\"dataframe\">\n",
              "  <thead>\n",
              "    <tr style=\"text-align: right;\">\n",
              "      <th></th>\n",
              "      <th>inds</th>\n",
              "      <th>grades</th>\n",
              "    </tr>\n",
              "  </thead>\n",
              "  <tbody>\n",
              "    <tr>\n",
              "      <th>0</th>\n",
              "      <td>0</td>\n",
              "      <td>1</td>\n",
              "    </tr>\n",
              "    <tr>\n",
              "      <th>1</th>\n",
              "      <td>1</td>\n",
              "      <td>1</td>\n",
              "    </tr>\n",
              "    <tr>\n",
              "      <th>2</th>\n",
              "      <td>2</td>\n",
              "      <td>1</td>\n",
              "    </tr>\n",
              "    <tr>\n",
              "      <th>3</th>\n",
              "      <td>3</td>\n",
              "      <td>1</td>\n",
              "    </tr>\n",
              "    <tr>\n",
              "      <th>4</th>\n",
              "      <td>4</td>\n",
              "      <td>1</td>\n",
              "    </tr>\n",
              "    <tr>\n",
              "      <th>...</th>\n",
              "      <td>...</td>\n",
              "      <td>...</td>\n",
              "    </tr>\n",
              "    <tr>\n",
              "      <th>17215</th>\n",
              "      <td>17215</td>\n",
              "      <td>1</td>\n",
              "    </tr>\n",
              "    <tr>\n",
              "      <th>17216</th>\n",
              "      <td>17216</td>\n",
              "      <td>1</td>\n",
              "    </tr>\n",
              "    <tr>\n",
              "      <th>17217</th>\n",
              "      <td>17217</td>\n",
              "      <td>1</td>\n",
              "    </tr>\n",
              "    <tr>\n",
              "      <th>17218</th>\n",
              "      <td>17218</td>\n",
              "      <td>1</td>\n",
              "    </tr>\n",
              "    <tr>\n",
              "      <th>17219</th>\n",
              "      <td>17219</td>\n",
              "      <td>1</td>\n",
              "    </tr>\n",
              "  </tbody>\n",
              "</table>\n",
              "<p>17220 rows × 2 columns</p>\n",
              "</div>\n",
              "      <button class=\"colab-df-convert\" onclick=\"convertToInteractive('df-2e505d26-9b70-4512-a410-bb53b241d3fc')\"\n",
              "              title=\"Convert this dataframe to an interactive table.\"\n",
              "              style=\"display:none;\">\n",
              "        \n",
              "  <svg xmlns=\"http://www.w3.org/2000/svg\" height=\"24px\"viewBox=\"0 0 24 24\"\n",
              "       width=\"24px\">\n",
              "    <path d=\"M0 0h24v24H0V0z\" fill=\"none\"/>\n",
              "    <path d=\"M18.56 5.44l.94 2.06.94-2.06 2.06-.94-2.06-.94-.94-2.06-.94 2.06-2.06.94zm-11 1L8.5 8.5l.94-2.06 2.06-.94-2.06-.94L8.5 2.5l-.94 2.06-2.06.94zm10 10l.94 2.06.94-2.06 2.06-.94-2.06-.94-.94-2.06-.94 2.06-2.06.94z\"/><path d=\"M17.41 7.96l-1.37-1.37c-.4-.4-.92-.59-1.43-.59-.52 0-1.04.2-1.43.59L10.3 9.45l-7.72 7.72c-.78.78-.78 2.05 0 2.83L4 21.41c.39.39.9.59 1.41.59.51 0 1.02-.2 1.41-.59l7.78-7.78 2.81-2.81c.8-.78.8-2.07 0-2.86zM5.41 20L4 18.59l7.72-7.72 1.47 1.35L5.41 20z\"/>\n",
              "  </svg>\n",
              "      </button>\n",
              "      \n",
              "  <style>\n",
              "    .colab-df-container {\n",
              "      display:flex;\n",
              "      flex-wrap:wrap;\n",
              "      gap: 12px;\n",
              "    }\n",
              "\n",
              "    .colab-df-convert {\n",
              "      background-color: #E8F0FE;\n",
              "      border: none;\n",
              "      border-radius: 50%;\n",
              "      cursor: pointer;\n",
              "      display: none;\n",
              "      fill: #1967D2;\n",
              "      height: 32px;\n",
              "      padding: 0 0 0 0;\n",
              "      width: 32px;\n",
              "    }\n",
              "\n",
              "    .colab-df-convert:hover {\n",
              "      background-color: #E2EBFA;\n",
              "      box-shadow: 0px 1px 2px rgba(60, 64, 67, 0.3), 0px 1px 3px 1px rgba(60, 64, 67, 0.15);\n",
              "      fill: #174EA6;\n",
              "    }\n",
              "\n",
              "    [theme=dark] .colab-df-convert {\n",
              "      background-color: #3B4455;\n",
              "      fill: #D2E3FC;\n",
              "    }\n",
              "\n",
              "    [theme=dark] .colab-df-convert:hover {\n",
              "      background-color: #434B5C;\n",
              "      box-shadow: 0px 1px 3px 1px rgba(0, 0, 0, 0.15);\n",
              "      filter: drop-shadow(0px 1px 2px rgba(0, 0, 0, 0.3));\n",
              "      fill: #FFFFFF;\n",
              "    }\n",
              "  </style>\n",
              "\n",
              "      <script>\n",
              "        const buttonEl =\n",
              "          document.querySelector('#df-2e505d26-9b70-4512-a410-bb53b241d3fc button.colab-df-convert');\n",
              "        buttonEl.style.display =\n",
              "          google.colab.kernel.accessAllowed ? 'block' : 'none';\n",
              "\n",
              "        async function convertToInteractive(key) {\n",
              "          const element = document.querySelector('#df-2e505d26-9b70-4512-a410-bb53b241d3fc');\n",
              "          const dataTable =\n",
              "            await google.colab.kernel.invokeFunction('convertToInteractive',\n",
              "                                                     [key], {});\n",
              "          if (!dataTable) return;\n",
              "\n",
              "          const docLinkHtml = 'Like what you see? Visit the ' +\n",
              "            '<a target=\"_blank\" href=https://colab.research.google.com/notebooks/data_table.ipynb>data table notebook</a>'\n",
              "            + ' to learn more about interactive tables.';\n",
              "          element.innerHTML = '';\n",
              "          dataTable['output_type'] = 'display_data';\n",
              "          await google.colab.output.renderOutput(dataTable, element);\n",
              "          const docLink = document.createElement('div');\n",
              "          docLink.innerHTML = docLinkHtml;\n",
              "          element.appendChild(docLink);\n",
              "        }\n",
              "      </script>\n",
              "    </div>\n",
              "  </div>\n",
              "  "
            ],
            "text/plain": [
              "        inds  grades\n",
              "0          0       1\n",
              "1          1       1\n",
              "2          2       1\n",
              "3          3       1\n",
              "4          4       1\n",
              "...      ...     ...\n",
              "17215  17215       1\n",
              "17216  17216       1\n",
              "17217  17217       1\n",
              "17218  17218       1\n",
              "17219  17219       1\n",
              "\n",
              "[17220 rows x 2 columns]"
            ]
          },
          "execution_count": 18,
          "metadata": {},
          "output_type": "execute_result"
        }
      ],
      "source": [
        "sol = pd.DataFrame({'inds': test.index,\n",
        "                    'grades': pred})\n",
        "sol"
      ]
    },
    {
      "cell_type": "code",
      "execution_count": null,
      "metadata": {
        "id": "2xghxd6Tpwmu"
      },
      "outputs": [],
      "source": [
        "sol.to_csv('new_baseline.csv', index=False)"
      ]
    },
    {
      "cell_type": "markdown",
      "metadata": {
        "id": "zSMfS_JMqxJN"
      },
      "source": [
        "Кстати, если обратите внимание на содержимое вектора предсказанных классов, то наверняка заметите, что модель предсказывает только 1 и 5, редко 2 и 3 и вообще никогда класс 4. Отчасти это логично -- наблюдается сильный дисбаланс классов. Но этот недочет неплохо бы исправить в ваших решениях"
      ]
    },
    {
      "cell_type": "code",
      "execution_count": null,
      "metadata": {
        "colab": {
          "base_uri": "https://localhost:8080/"
        },
        "id": "71o2ej0jrkpe",
        "outputId": "3772c5f9-f17d-4767-ea80-96f80fe471c6"
      },
      "outputs": [
        {
          "data": {
            "text/plain": [
              "array([[    1, 12381],\n",
              "       [    2,    48],\n",
              "       [    3,     1],\n",
              "       [    5,  4790]])"
            ]
          },
          "execution_count": 20,
          "metadata": {},
          "output_type": "execute_result"
        }
      ],
      "source": [
        "unique, counts = np.unique(pred, return_counts=True)\n",
        "np.asarray((unique, counts)).T"
      ]
    },
    {
      "cell_type": "code",
      "execution_count": null,
      "metadata": {
        "id": "j6e0J5NYPN3f"
      },
      "outputs": [],
      "source": []
    }
  ],
  "metadata": {
    "colab": {
      "include_colab_link": true,
      "provenance": [],
      "toc_visible": true
    },
    "kernelspec": {
      "display_name": "Python 3.10.8 64-bit (microsoft store)",
      "language": "python",
      "name": "python3"
    },
    "language_info": {
      "codemirror_mode": {
        "name": "ipython",
        "version": 3
      },
      "file_extension": ".py",
      "mimetype": "text/x-python",
      "name": "python",
      "nbconvert_exporter": "python",
      "pygments_lexer": "ipython3",
      "version": "3.10.8"
    },
    "vscode": {
      "interpreter": {
        "hash": "42723d72e08ffb74f0d1a4a6418b1d11f58ecef196529edf1b75a0aee34342e6"
      }
    }
  },
  "nbformat": 4,
  "nbformat_minor": 0
}
