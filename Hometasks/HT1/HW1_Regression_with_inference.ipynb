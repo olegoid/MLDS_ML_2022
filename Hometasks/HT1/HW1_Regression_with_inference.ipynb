{
  "cells": [
    {
      "cell_type": "markdown",
      "metadata": {
        "id": "IsPer4g5FgRB"
      },
      "source": [
        "# Домашнее задание №1\n",
        "\n",
        "В этом домашнем задании вам предлагается обучить модель регрессии для предсказания стоимости автомобилей, а также реализовать веб-сервис для применения построенной модели на новых данных.\n",
        "\n",
        "> Оценка за домашку = min(ваш балл, 10)\n"
      ]
    },
    {
      "cell_type": "markdown",
      "metadata": {
        "id": "RBxaROjhnExd"
      },
      "source": [
        "Задания, <font color='#9933CC'>выделенные фиолетовым</font>, требуют от вас написания кода.\n",
        "\n",
        "А вопросы, <font color='#FF6600'>выделенные оранжевым</font>, текстового ответа.\n",
        "\n",
        "Оцениваются как код, так и ответы на вопросы. Если нет одного и/или другого, то часть баллов за соответствующее задание без колебаний снимается."
      ]
    },
    {
      "cell_type": "code",
      "execution_count": 566,
      "metadata": {
        "id": "bKXD33FOsnGd"
      },
      "outputs": [],
      "source": [
        "import pandas as pd\n",
        "import numpy as np\n",
        "import matplotlib.pyplot as plt\n",
        "import random\n",
        "import seaborn as sns\n",
        "import re\n",
        "\n",
        "random.seed(42)\n",
        "np.random.seed(42)"
      ]
    },
    {
      "cell_type": "markdown",
      "metadata": {
        "id": "GAzbEw1ctU4f"
      },
      "source": [
        "Ниже ответьте на вопрос <font color='#FF6600'>\n",
        "\"Для чего фиксируем сиды в домашках?\"</font>"
      ]
    },
    {
      "cell_type": "code",
      "execution_count": 567,
      "metadata": {
        "colab": {
          "base_uri": "https://localhost:8080/"
        },
        "id": "lHsDF04utgDC",
        "outputId": "8b63192b-babe-492b-c634-6e7b0bc9b901"
      },
      "outputs": [
        {
          "name": "stdout",
          "output_type": "stream",
          "text": [
            "Фиксация сидов  в начале гарантирует воспроизводимость сценария: при каждом его запуске будут создаваться одни и те же  рандомные числа и следовательно получаться одни и те же результаты.\n"
          ]
        }
      ],
      "source": [
        "print(\"Фиксация сидов  в начале гарантирует воспроизводимость сценария: при каждом его запуске будут создаваться одни и те же  рандомные числа и следовательно получаться одни и те же результаты.\")"
      ]
    },
    {
      "cell_type": "markdown",
      "metadata": {
        "id": "ykzSVgN7q-xZ"
      },
      "source": [
        "# Часть 1 (2.5 балла + 0.75) | EDA"
      ]
    },
    {
      "cell_type": "markdown",
      "metadata": {
        "id": "e-4bM9CKAtCj"
      },
      "source": [
        "## Простейший EDA и обработка признаков (1.5 балла + 0.25)"
      ]
    },
    {
      "cell_type": "code",
      "execution_count": 568,
      "metadata": {
        "id": "FniH6eCGFSi_"
      },
      "outputs": [
        {
          "name": "stdout",
          "output_type": "stream",
          "text": [
            "Train data shape: (6999, 13)\n",
            "Test data shape:  (1000, 13)\n"
          ]
        }
      ],
      "source": [
        "df_train = pd.read_csv('https://raw.githubusercontent.com/Murcha1990/MLDS_ML_2022/main/Hometasks/HT1/cars_train.csv')\n",
        "df_test = pd.read_csv('https://raw.githubusercontent.com/Murcha1990/MLDS_ML_2022/main/Hometasks/HT1/cars_test.csv')\n",
        "\n",
        "print(\"Train data shape:\", df_train.shape)\n",
        "print(\"Test data shape: \", df_test.shape)"
      ]
    },
    {
      "cell_type": "markdown",
      "metadata": {
        "id": "spIXQ6zwxT9I"
      },
      "source": [
        "(0.15 балла) <font color='#9933CC'>Отобразите 10 **случайных** строк тренировочного датасета</font>"
      ]
    },
    {
      "cell_type": "code",
      "execution_count": 569,
      "metadata": {
        "id": "Zesb2SG5xf_q"
      },
      "outputs": [
        {
          "data": {
            "text/html": [
              "<div>\n",
              "<style scoped>\n",
              "    .dataframe tbody tr th:only-of-type {\n",
              "        vertical-align: middle;\n",
              "    }\n",
              "\n",
              "    .dataframe tbody tr th {\n",
              "        vertical-align: top;\n",
              "    }\n",
              "\n",
              "    .dataframe thead th {\n",
              "        text-align: right;\n",
              "    }\n",
              "</style>\n",
              "<table border=\"1\" class=\"dataframe\">\n",
              "  <thead>\n",
              "    <tr style=\"text-align: right;\">\n",
              "      <th></th>\n",
              "      <th>name</th>\n",
              "      <th>year</th>\n",
              "      <th>selling_price</th>\n",
              "      <th>km_driven</th>\n",
              "      <th>fuel</th>\n",
              "      <th>seller_type</th>\n",
              "      <th>transmission</th>\n",
              "      <th>owner</th>\n",
              "      <th>mileage</th>\n",
              "      <th>engine</th>\n",
              "      <th>max_power</th>\n",
              "      <th>torque</th>\n",
              "      <th>seats</th>\n",
              "    </tr>\n",
              "  </thead>\n",
              "  <tbody>\n",
              "    <tr>\n",
              "      <th>6565</th>\n",
              "      <td>Renault KWID Climber 1.0 MT BSIV</td>\n",
              "      <td>2019</td>\n",
              "      <td>300000</td>\n",
              "      <td>35000</td>\n",
              "      <td>Petrol</td>\n",
              "      <td>Individual</td>\n",
              "      <td>Manual</td>\n",
              "      <td>First Owner</td>\n",
              "      <td>23.01 kmpl</td>\n",
              "      <td>999 CC</td>\n",
              "      <td>67 bhp</td>\n",
              "      <td>91Nm@ 4250rpm</td>\n",
              "      <td>5.0</td>\n",
              "    </tr>\n",
              "    <tr>\n",
              "      <th>2943</th>\n",
              "      <td>Maruti Wagon R LXI</td>\n",
              "      <td>2013</td>\n",
              "      <td>225000</td>\n",
              "      <td>58343</td>\n",
              "      <td>Petrol</td>\n",
              "      <td>Trustmark Dealer</td>\n",
              "      <td>Manual</td>\n",
              "      <td>First Owner</td>\n",
              "      <td>21.79 kmpl</td>\n",
              "      <td>998 CC</td>\n",
              "      <td>67.05 bhp</td>\n",
              "      <td>90Nm@ 3500rpm</td>\n",
              "      <td>5.0</td>\n",
              "    </tr>\n",
              "    <tr>\n",
              "      <th>2024</th>\n",
              "      <td>Hyundai i20 Asta 1.2</td>\n",
              "      <td>2013</td>\n",
              "      <td>360000</td>\n",
              "      <td>30000</td>\n",
              "      <td>Petrol</td>\n",
              "      <td>Individual</td>\n",
              "      <td>Manual</td>\n",
              "      <td>First Owner</td>\n",
              "      <td>18.5 kmpl</td>\n",
              "      <td>1197 CC</td>\n",
              "      <td>82.85 bhp</td>\n",
              "      <td>113.7Nm@ 4000rpm</td>\n",
              "      <td>5.0</td>\n",
              "    </tr>\n",
              "    <tr>\n",
              "      <th>263</th>\n",
              "      <td>Hyundai i20 1.2 Asta</td>\n",
              "      <td>2010</td>\n",
              "      <td>300000</td>\n",
              "      <td>70000</td>\n",
              "      <td>Petrol</td>\n",
              "      <td>Individual</td>\n",
              "      <td>Manual</td>\n",
              "      <td>First Owner</td>\n",
              "      <td>17.0 kmpl</td>\n",
              "      <td>1197 CC</td>\n",
              "      <td>80 bhp</td>\n",
              "      <td>11.4 kgm at 4,000 rpm</td>\n",
              "      <td>5.0</td>\n",
              "    </tr>\n",
              "    <tr>\n",
              "      <th>4586</th>\n",
              "      <td>Skoda Octavia L and K 1.9 TDI MT</td>\n",
              "      <td>2005</td>\n",
              "      <td>250000</td>\n",
              "      <td>120000</td>\n",
              "      <td>Diesel</td>\n",
              "      <td>Individual</td>\n",
              "      <td>Manual</td>\n",
              "      <td>Third Owner</td>\n",
              "      <td>16.4 kmpl</td>\n",
              "      <td>1896 CC</td>\n",
              "      <td>90 bhp</td>\n",
              "      <td>21.4@ 1,900(kgm@ rpm)</td>\n",
              "      <td>5.0</td>\n",
              "    </tr>\n",
              "    <tr>\n",
              "      <th>4479</th>\n",
              "      <td>Maruti Ciaz ZXi</td>\n",
              "      <td>2016</td>\n",
              "      <td>700000</td>\n",
              "      <td>20000</td>\n",
              "      <td>Petrol</td>\n",
              "      <td>Individual</td>\n",
              "      <td>Manual</td>\n",
              "      <td>First Owner</td>\n",
              "      <td>20.73 kmpl</td>\n",
              "      <td>1373 CC</td>\n",
              "      <td>91.1 bhp</td>\n",
              "      <td>130Nm@ 4000rpm</td>\n",
              "      <td>5.0</td>\n",
              "    </tr>\n",
              "    <tr>\n",
              "      <th>4881</th>\n",
              "      <td>Hyundai Grand i10 1.2 Kappa Magna BSIV</td>\n",
              "      <td>2017</td>\n",
              "      <td>445000</td>\n",
              "      <td>27000</td>\n",
              "      <td>Petrol</td>\n",
              "      <td>Individual</td>\n",
              "      <td>Manual</td>\n",
              "      <td>First Owner</td>\n",
              "      <td>18.9 kmpl</td>\n",
              "      <td>1197 CC</td>\n",
              "      <td>81.86 bhp</td>\n",
              "      <td>113.75nm@ 4000rpm</td>\n",
              "      <td>5.0</td>\n",
              "    </tr>\n",
              "    <tr>\n",
              "      <th>3583</th>\n",
              "      <td>Ford Ecosport 1.5 DV5 MT Trend</td>\n",
              "      <td>2016</td>\n",
              "      <td>515000</td>\n",
              "      <td>68609</td>\n",
              "      <td>Diesel</td>\n",
              "      <td>Dealer</td>\n",
              "      <td>Manual</td>\n",
              "      <td>First Owner</td>\n",
              "      <td>22.7 kmpl</td>\n",
              "      <td>1498 CC</td>\n",
              "      <td>89.84 bhp</td>\n",
              "      <td>204Nm@ 2000-2750rpm</td>\n",
              "      <td>5.0</td>\n",
              "    </tr>\n",
              "    <tr>\n",
              "      <th>6361</th>\n",
              "      <td>Hyundai Verna 1.4 VTVT</td>\n",
              "      <td>2014</td>\n",
              "      <td>500000</td>\n",
              "      <td>33400</td>\n",
              "      <td>Petrol</td>\n",
              "      <td>Individual</td>\n",
              "      <td>Manual</td>\n",
              "      <td>First Owner</td>\n",
              "      <td>17.43 kmpl</td>\n",
              "      <td>1396 CC</td>\n",
              "      <td>105.5 bhp</td>\n",
              "      <td>135.3Nm@ 5000rpm</td>\n",
              "      <td>5.0</td>\n",
              "    </tr>\n",
              "    <tr>\n",
              "      <th>4108</th>\n",
              "      <td>Hyundai i20 Era 1.2</td>\n",
              "      <td>2015</td>\n",
              "      <td>490000</td>\n",
              "      <td>45900</td>\n",
              "      <td>Petrol</td>\n",
              "      <td>Individual</td>\n",
              "      <td>Manual</td>\n",
              "      <td>Second Owner</td>\n",
              "      <td>18.6 kmpl</td>\n",
              "      <td>1197 CC</td>\n",
              "      <td>81.83 bhp</td>\n",
              "      <td>114.7Nm@ 4000rpm</td>\n",
              "      <td>5.0</td>\n",
              "    </tr>\n",
              "  </tbody>\n",
              "</table>\n",
              "</div>"
            ],
            "text/plain": [
              "                                        name  year  selling_price  km_driven  \\\n",
              "6565        Renault KWID Climber 1.0 MT BSIV  2019         300000      35000   \n",
              "2943                      Maruti Wagon R LXI  2013         225000      58343   \n",
              "2024                    Hyundai i20 Asta 1.2  2013         360000      30000   \n",
              "263                     Hyundai i20 1.2 Asta  2010         300000      70000   \n",
              "4586        Skoda Octavia L and K 1.9 TDI MT  2005         250000     120000   \n",
              "4479                         Maruti Ciaz ZXi  2016         700000      20000   \n",
              "4881  Hyundai Grand i10 1.2 Kappa Magna BSIV  2017         445000      27000   \n",
              "3583          Ford Ecosport 1.5 DV5 MT Trend  2016         515000      68609   \n",
              "6361                  Hyundai Verna 1.4 VTVT  2014         500000      33400   \n",
              "4108                     Hyundai i20 Era 1.2  2015         490000      45900   \n",
              "\n",
              "        fuel       seller_type transmission         owner     mileage  \\\n",
              "6565  Petrol        Individual       Manual   First Owner  23.01 kmpl   \n",
              "2943  Petrol  Trustmark Dealer       Manual   First Owner  21.79 kmpl   \n",
              "2024  Petrol        Individual       Manual   First Owner   18.5 kmpl   \n",
              "263   Petrol        Individual       Manual   First Owner   17.0 kmpl   \n",
              "4586  Diesel        Individual       Manual   Third Owner   16.4 kmpl   \n",
              "4479  Petrol        Individual       Manual   First Owner  20.73 kmpl   \n",
              "4881  Petrol        Individual       Manual   First Owner   18.9 kmpl   \n",
              "3583  Diesel            Dealer       Manual   First Owner   22.7 kmpl   \n",
              "6361  Petrol        Individual       Manual   First Owner  17.43 kmpl   \n",
              "4108  Petrol        Individual       Manual  Second Owner   18.6 kmpl   \n",
              "\n",
              "       engine  max_power                 torque  seats  \n",
              "6565   999 CC     67 bhp          91Nm@ 4250rpm    5.0  \n",
              "2943   998 CC  67.05 bhp          90Nm@ 3500rpm    5.0  \n",
              "2024  1197 CC  82.85 bhp       113.7Nm@ 4000rpm    5.0  \n",
              "263   1197 CC     80 bhp  11.4 kgm at 4,000 rpm    5.0  \n",
              "4586  1896 CC     90 bhp  21.4@ 1,900(kgm@ rpm)    5.0  \n",
              "4479  1373 CC   91.1 bhp         130Nm@ 4000rpm    5.0  \n",
              "4881  1197 CC  81.86 bhp      113.75nm@ 4000rpm    5.0  \n",
              "3583  1498 CC  89.84 bhp    204Nm@ 2000-2750rpm    5.0  \n",
              "6361  1396 CC  105.5 bhp       135.3Nm@ 5000rpm    5.0  \n",
              "4108  1197 CC  81.83 bhp       114.7Nm@ 4000rpm    5.0  "
            ]
          },
          "execution_count": 569,
          "metadata": {},
          "output_type": "execute_result"
        }
      ],
      "source": [
        "df_train.sample(n = 10)"
      ]
    },
    {
      "cell_type": "markdown",
      "metadata": {
        "id": "c5UQKCGTxogp"
      },
      "source": [
        "(0.1 балла) <font color='#9933CC'>Отобразите первые 5 и последние 5 объектов тестового датасета</font>"
      ]
    },
    {
      "cell_type": "code",
      "execution_count": 570,
      "metadata": {
        "id": "-MueJLE4rO1g"
      },
      "outputs": [
        {
          "data": {
            "text/html": [
              "<div>\n",
              "<style scoped>\n",
              "    .dataframe tbody tr th:only-of-type {\n",
              "        vertical-align: middle;\n",
              "    }\n",
              "\n",
              "    .dataframe tbody tr th {\n",
              "        vertical-align: top;\n",
              "    }\n",
              "\n",
              "    .dataframe thead th {\n",
              "        text-align: right;\n",
              "    }\n",
              "</style>\n",
              "<table border=\"1\" class=\"dataframe\">\n",
              "  <thead>\n",
              "    <tr style=\"text-align: right;\">\n",
              "      <th></th>\n",
              "      <th>name</th>\n",
              "      <th>year</th>\n",
              "      <th>selling_price</th>\n",
              "      <th>km_driven</th>\n",
              "      <th>fuel</th>\n",
              "      <th>seller_type</th>\n",
              "      <th>transmission</th>\n",
              "      <th>owner</th>\n",
              "      <th>mileage</th>\n",
              "      <th>engine</th>\n",
              "      <th>max_power</th>\n",
              "      <th>torque</th>\n",
              "      <th>seats</th>\n",
              "    </tr>\n",
              "  </thead>\n",
              "  <tbody>\n",
              "    <tr>\n",
              "      <th>0</th>\n",
              "      <td>Mahindra Xylo E4 BS IV</td>\n",
              "      <td>2010</td>\n",
              "      <td>229999</td>\n",
              "      <td>168000</td>\n",
              "      <td>Diesel</td>\n",
              "      <td>Individual</td>\n",
              "      <td>Manual</td>\n",
              "      <td>First Owner</td>\n",
              "      <td>14.0 kmpl</td>\n",
              "      <td>2498 CC</td>\n",
              "      <td>112 bhp</td>\n",
              "      <td>260 Nm at 1800-2200 rpm</td>\n",
              "      <td>7.0</td>\n",
              "    </tr>\n",
              "    <tr>\n",
              "      <th>1</th>\n",
              "      <td>Tata Nexon 1.5 Revotorq XE</td>\n",
              "      <td>2017</td>\n",
              "      <td>665000</td>\n",
              "      <td>25000</td>\n",
              "      <td>Diesel</td>\n",
              "      <td>Individual</td>\n",
              "      <td>Manual</td>\n",
              "      <td>First Owner</td>\n",
              "      <td>21.5 kmpl</td>\n",
              "      <td>1497 CC</td>\n",
              "      <td>108.5 bhp</td>\n",
              "      <td>260Nm@ 1500-2750rpm</td>\n",
              "      <td>5.0</td>\n",
              "    </tr>\n",
              "    <tr>\n",
              "      <th>2</th>\n",
              "      <td>Honda Civic 1.8 S AT</td>\n",
              "      <td>2007</td>\n",
              "      <td>175000</td>\n",
              "      <td>218463</td>\n",
              "      <td>Petrol</td>\n",
              "      <td>Individual</td>\n",
              "      <td>Automatic</td>\n",
              "      <td>First Owner</td>\n",
              "      <td>12.9 kmpl</td>\n",
              "      <td>1799 CC</td>\n",
              "      <td>130 bhp</td>\n",
              "      <td>172Nm@ 4300rpm</td>\n",
              "      <td>5.0</td>\n",
              "    </tr>\n",
              "    <tr>\n",
              "      <th>3</th>\n",
              "      <td>Honda City i DTEC VX</td>\n",
              "      <td>2015</td>\n",
              "      <td>635000</td>\n",
              "      <td>173000</td>\n",
              "      <td>Diesel</td>\n",
              "      <td>Individual</td>\n",
              "      <td>Manual</td>\n",
              "      <td>First Owner</td>\n",
              "      <td>25.1 kmpl</td>\n",
              "      <td>1498 CC</td>\n",
              "      <td>98.6 bhp</td>\n",
              "      <td>200Nm@ 1750rpm</td>\n",
              "      <td>5.0</td>\n",
              "    </tr>\n",
              "    <tr>\n",
              "      <th>4</th>\n",
              "      <td>Tata Indica Vista Aura 1.2 Safire BSIV</td>\n",
              "      <td>2011</td>\n",
              "      <td>130000</td>\n",
              "      <td>70000</td>\n",
              "      <td>Petrol</td>\n",
              "      <td>Individual</td>\n",
              "      <td>Manual</td>\n",
              "      <td>Second Owner</td>\n",
              "      <td>16.5 kmpl</td>\n",
              "      <td>1172 CC</td>\n",
              "      <td>65 bhp</td>\n",
              "      <td>96  Nm at 3000  rpm</td>\n",
              "      <td>5.0</td>\n",
              "    </tr>\n",
              "  </tbody>\n",
              "</table>\n",
              "</div>"
            ],
            "text/plain": [
              "                                     name  year  selling_price  km_driven  \\\n",
              "0                  Mahindra Xylo E4 BS IV  2010         229999     168000   \n",
              "1              Tata Nexon 1.5 Revotorq XE  2017         665000      25000   \n",
              "2                    Honda Civic 1.8 S AT  2007         175000     218463   \n",
              "3                    Honda City i DTEC VX  2015         635000     173000   \n",
              "4  Tata Indica Vista Aura 1.2 Safire BSIV  2011         130000      70000   \n",
              "\n",
              "     fuel seller_type transmission         owner    mileage   engine  \\\n",
              "0  Diesel  Individual       Manual   First Owner  14.0 kmpl  2498 CC   \n",
              "1  Diesel  Individual       Manual   First Owner  21.5 kmpl  1497 CC   \n",
              "2  Petrol  Individual    Automatic   First Owner  12.9 kmpl  1799 CC   \n",
              "3  Diesel  Individual       Manual   First Owner  25.1 kmpl  1498 CC   \n",
              "4  Petrol  Individual       Manual  Second Owner  16.5 kmpl  1172 CC   \n",
              "\n",
              "   max_power                   torque  seats  \n",
              "0    112 bhp  260 Nm at 1800-2200 rpm    7.0  \n",
              "1  108.5 bhp      260Nm@ 1500-2750rpm    5.0  \n",
              "2    130 bhp           172Nm@ 4300rpm    5.0  \n",
              "3   98.6 bhp           200Nm@ 1750rpm    5.0  \n",
              "4     65 bhp     96  Nm at 3000  rpm     5.0  "
            ]
          },
          "execution_count": 570,
          "metadata": {},
          "output_type": "execute_result"
        }
      ],
      "source": [
        "df_test.head(5)"
      ]
    },
    {
      "cell_type": "code",
      "execution_count": 571,
      "metadata": {},
      "outputs": [
        {
          "data": {
            "text/html": [
              "<div>\n",
              "<style scoped>\n",
              "    .dataframe tbody tr th:only-of-type {\n",
              "        vertical-align: middle;\n",
              "    }\n",
              "\n",
              "    .dataframe tbody tr th {\n",
              "        vertical-align: top;\n",
              "    }\n",
              "\n",
              "    .dataframe thead th {\n",
              "        text-align: right;\n",
              "    }\n",
              "</style>\n",
              "<table border=\"1\" class=\"dataframe\">\n",
              "  <thead>\n",
              "    <tr style=\"text-align: right;\">\n",
              "      <th></th>\n",
              "      <th>name</th>\n",
              "      <th>year</th>\n",
              "      <th>selling_price</th>\n",
              "      <th>km_driven</th>\n",
              "      <th>fuel</th>\n",
              "      <th>seller_type</th>\n",
              "      <th>transmission</th>\n",
              "      <th>owner</th>\n",
              "      <th>mileage</th>\n",
              "      <th>engine</th>\n",
              "      <th>max_power</th>\n",
              "      <th>torque</th>\n",
              "      <th>seats</th>\n",
              "    </tr>\n",
              "  </thead>\n",
              "  <tbody>\n",
              "    <tr>\n",
              "      <th>995</th>\n",
              "      <td>Hyundai i10 Magna 1.1L</td>\n",
              "      <td>2008</td>\n",
              "      <td>250000</td>\n",
              "      <td>100000</td>\n",
              "      <td>Petrol</td>\n",
              "      <td>Individual</td>\n",
              "      <td>Manual</td>\n",
              "      <td>Second Owner</td>\n",
              "      <td>19.81 kmpl</td>\n",
              "      <td>1086 CC</td>\n",
              "      <td>68.05 bhp</td>\n",
              "      <td>99.04Nm@ 4500rpm</td>\n",
              "      <td>5.0</td>\n",
              "    </tr>\n",
              "    <tr>\n",
              "      <th>996</th>\n",
              "      <td>Hyundai i20 2015-2017 Sportz 1.2</td>\n",
              "      <td>2017</td>\n",
              "      <td>440000</td>\n",
              "      <td>50000</td>\n",
              "      <td>Petrol</td>\n",
              "      <td>Individual</td>\n",
              "      <td>Manual</td>\n",
              "      <td>Second Owner</td>\n",
              "      <td>18.6 kmpl</td>\n",
              "      <td>1197 CC</td>\n",
              "      <td>81.83 bhp</td>\n",
              "      <td>114.7Nm@ 4000rpm</td>\n",
              "      <td>5.0</td>\n",
              "    </tr>\n",
              "    <tr>\n",
              "      <th>997</th>\n",
              "      <td>Hyundai i20 Era Diesel</td>\n",
              "      <td>2009</td>\n",
              "      <td>340000</td>\n",
              "      <td>40000</td>\n",
              "      <td>Diesel</td>\n",
              "      <td>Individual</td>\n",
              "      <td>Manual</td>\n",
              "      <td>First Owner</td>\n",
              "      <td>23.0 kmpl</td>\n",
              "      <td>1396 CC</td>\n",
              "      <td>90 bhp</td>\n",
              "      <td>22.4 kgm at 1750-2750rpm</td>\n",
              "      <td>5.0</td>\n",
              "    </tr>\n",
              "    <tr>\n",
              "      <th>998</th>\n",
              "      <td>Hyundai i10 Asta</td>\n",
              "      <td>2012</td>\n",
              "      <td>350000</td>\n",
              "      <td>25000</td>\n",
              "      <td>Petrol</td>\n",
              "      <td>Individual</td>\n",
              "      <td>Manual</td>\n",
              "      <td>First Owner</td>\n",
              "      <td>20.36 kmpl</td>\n",
              "      <td>1197 CC</td>\n",
              "      <td>78.9 bhp</td>\n",
              "      <td>111.8Nm@ 4000rpm</td>\n",
              "      <td>5.0</td>\n",
              "    </tr>\n",
              "    <tr>\n",
              "      <th>999</th>\n",
              "      <td>Honda City i DTec SV</td>\n",
              "      <td>2016</td>\n",
              "      <td>700000</td>\n",
              "      <td>110000</td>\n",
              "      <td>Diesel</td>\n",
              "      <td>Individual</td>\n",
              "      <td>Manual</td>\n",
              "      <td>First Owner</td>\n",
              "      <td>26.0 kmpl</td>\n",
              "      <td>1498 CC</td>\n",
              "      <td>98.6 bhp</td>\n",
              "      <td>200Nm@ 1750rpm</td>\n",
              "      <td>5.0</td>\n",
              "    </tr>\n",
              "  </tbody>\n",
              "</table>\n",
              "</div>"
            ],
            "text/plain": [
              "                                 name  year  selling_price  km_driven    fuel  \\\n",
              "995            Hyundai i10 Magna 1.1L  2008         250000     100000  Petrol   \n",
              "996  Hyundai i20 2015-2017 Sportz 1.2  2017         440000      50000  Petrol   \n",
              "997            Hyundai i20 Era Diesel  2009         340000      40000  Diesel   \n",
              "998                  Hyundai i10 Asta  2012         350000      25000  Petrol   \n",
              "999              Honda City i DTec SV  2016         700000     110000  Diesel   \n",
              "\n",
              "    seller_type transmission         owner     mileage   engine  max_power  \\\n",
              "995  Individual       Manual  Second Owner  19.81 kmpl  1086 CC  68.05 bhp   \n",
              "996  Individual       Manual  Second Owner   18.6 kmpl  1197 CC  81.83 bhp   \n",
              "997  Individual       Manual   First Owner   23.0 kmpl  1396 CC     90 bhp   \n",
              "998  Individual       Manual   First Owner  20.36 kmpl  1197 CC   78.9 bhp   \n",
              "999  Individual       Manual   First Owner   26.0 kmpl  1498 CC   98.6 bhp   \n",
              "\n",
              "                       torque  seats  \n",
              "995          99.04Nm@ 4500rpm    5.0  \n",
              "996          114.7Nm@ 4000rpm    5.0  \n",
              "997  22.4 kgm at 1750-2750rpm    5.0  \n",
              "998          111.8Nm@ 4000rpm    5.0  \n",
              "999            200Nm@ 1750rpm    5.0  "
            ]
          },
          "execution_count": 571,
          "metadata": {},
          "output_type": "execute_result"
        }
      ],
      "source": [
        "\n",
        "df_test.tail(5)"
      ]
    },
    {
      "cell_type": "markdown",
      "metadata": {
        "id": "6fAcrLkBygwE"
      },
      "source": [
        "(0.1 балла) <font color='#9933CC'>Посчитайте основные статистики как по числовым, так и по категориальным столбцам для трейна и теста</font>. \n",
        "> Подсказка: ``.describe()`` с нужным(и) аргументом(-ами)\n",
        "\n"
      ]
    },
    {
      "cell_type": "code",
      "execution_count": 572,
      "metadata": {
        "id": "eaiIQCvMrPUb"
      },
      "outputs": [
        {
          "name": "stdout",
          "output_type": "stream",
          "text": [
            "Train:\n"
          ]
        },
        {
          "data": {
            "text/html": [
              "<div>\n",
              "<style scoped>\n",
              "    .dataframe tbody tr th:only-of-type {\n",
              "        vertical-align: middle;\n",
              "    }\n",
              "\n",
              "    .dataframe tbody tr th {\n",
              "        vertical-align: top;\n",
              "    }\n",
              "\n",
              "    .dataframe thead th {\n",
              "        text-align: right;\n",
              "    }\n",
              "</style>\n",
              "<table border=\"1\" class=\"dataframe\">\n",
              "  <thead>\n",
              "    <tr style=\"text-align: right;\">\n",
              "      <th></th>\n",
              "      <th>name</th>\n",
              "      <th>year</th>\n",
              "      <th>selling_price</th>\n",
              "      <th>km_driven</th>\n",
              "      <th>fuel</th>\n",
              "      <th>seller_type</th>\n",
              "      <th>transmission</th>\n",
              "      <th>owner</th>\n",
              "      <th>mileage</th>\n",
              "      <th>engine</th>\n",
              "      <th>max_power</th>\n",
              "      <th>torque</th>\n",
              "      <th>seats</th>\n",
              "    </tr>\n",
              "  </thead>\n",
              "  <tbody>\n",
              "    <tr>\n",
              "      <th>count</th>\n",
              "      <td>6999</td>\n",
              "      <td>6999.000000</td>\n",
              "      <td>6.999000e+03</td>\n",
              "      <td>6.999000e+03</td>\n",
              "      <td>6999</td>\n",
              "      <td>6999</td>\n",
              "      <td>6999</td>\n",
              "      <td>6999</td>\n",
              "      <td>6797</td>\n",
              "      <td>6797</td>\n",
              "      <td>6803</td>\n",
              "      <td>6796</td>\n",
              "      <td>6797.000000</td>\n",
              "    </tr>\n",
              "    <tr>\n",
              "      <th>unique</th>\n",
              "      <td>1924</td>\n",
              "      <td>NaN</td>\n",
              "      <td>NaN</td>\n",
              "      <td>NaN</td>\n",
              "      <td>4</td>\n",
              "      <td>3</td>\n",
              "      <td>2</td>\n",
              "      <td>5</td>\n",
              "      <td>386</td>\n",
              "      <td>120</td>\n",
              "      <td>316</td>\n",
              "      <td>419</td>\n",
              "      <td>NaN</td>\n",
              "    </tr>\n",
              "    <tr>\n",
              "      <th>top</th>\n",
              "      <td>Maruti Swift Dzire VDI</td>\n",
              "      <td>NaN</td>\n",
              "      <td>NaN</td>\n",
              "      <td>NaN</td>\n",
              "      <td>Diesel</td>\n",
              "      <td>Individual</td>\n",
              "      <td>Manual</td>\n",
              "      <td>First Owner</td>\n",
              "      <td>18.9 kmpl</td>\n",
              "      <td>1248 CC</td>\n",
              "      <td>74 bhp</td>\n",
              "      <td>190Nm@ 2000rpm</td>\n",
              "      <td>NaN</td>\n",
              "    </tr>\n",
              "    <tr>\n",
              "      <th>freq</th>\n",
              "      <td>116</td>\n",
              "      <td>NaN</td>\n",
              "      <td>NaN</td>\n",
              "      <td>NaN</td>\n",
              "      <td>3793</td>\n",
              "      <td>5826</td>\n",
              "      <td>6095</td>\n",
              "      <td>4587</td>\n",
              "      <td>197</td>\n",
              "      <td>885</td>\n",
              "      <td>330</td>\n",
              "      <td>468</td>\n",
              "      <td>NaN</td>\n",
              "    </tr>\n",
              "    <tr>\n",
              "      <th>mean</th>\n",
              "      <td>NaN</td>\n",
              "      <td>2013.818403</td>\n",
              "      <td>6.395152e+05</td>\n",
              "      <td>6.958462e+04</td>\n",
              "      <td>NaN</td>\n",
              "      <td>NaN</td>\n",
              "      <td>NaN</td>\n",
              "      <td>NaN</td>\n",
              "      <td>NaN</td>\n",
              "      <td>NaN</td>\n",
              "      <td>NaN</td>\n",
              "      <td>NaN</td>\n",
              "      <td>5.419008</td>\n",
              "    </tr>\n",
              "    <tr>\n",
              "      <th>std</th>\n",
              "      <td>NaN</td>\n",
              "      <td>4.053095</td>\n",
              "      <td>8.089419e+05</td>\n",
              "      <td>5.772400e+04</td>\n",
              "      <td>NaN</td>\n",
              "      <td>NaN</td>\n",
              "      <td>NaN</td>\n",
              "      <td>NaN</td>\n",
              "      <td>NaN</td>\n",
              "      <td>NaN</td>\n",
              "      <td>NaN</td>\n",
              "      <td>NaN</td>\n",
              "      <td>0.965767</td>\n",
              "    </tr>\n",
              "    <tr>\n",
              "      <th>min</th>\n",
              "      <td>NaN</td>\n",
              "      <td>1983.000000</td>\n",
              "      <td>2.999900e+04</td>\n",
              "      <td>1.000000e+00</td>\n",
              "      <td>NaN</td>\n",
              "      <td>NaN</td>\n",
              "      <td>NaN</td>\n",
              "      <td>NaN</td>\n",
              "      <td>NaN</td>\n",
              "      <td>NaN</td>\n",
              "      <td>NaN</td>\n",
              "      <td>NaN</td>\n",
              "      <td>2.000000</td>\n",
              "    </tr>\n",
              "    <tr>\n",
              "      <th>25%</th>\n",
              "      <td>NaN</td>\n",
              "      <td>2011.000000</td>\n",
              "      <td>2.549990e+05</td>\n",
              "      <td>3.500000e+04</td>\n",
              "      <td>NaN</td>\n",
              "      <td>NaN</td>\n",
              "      <td>NaN</td>\n",
              "      <td>NaN</td>\n",
              "      <td>NaN</td>\n",
              "      <td>NaN</td>\n",
              "      <td>NaN</td>\n",
              "      <td>NaN</td>\n",
              "      <td>5.000000</td>\n",
              "    </tr>\n",
              "    <tr>\n",
              "      <th>50%</th>\n",
              "      <td>NaN</td>\n",
              "      <td>2015.000000</td>\n",
              "      <td>4.500000e+05</td>\n",
              "      <td>6.000000e+04</td>\n",
              "      <td>NaN</td>\n",
              "      <td>NaN</td>\n",
              "      <td>NaN</td>\n",
              "      <td>NaN</td>\n",
              "      <td>NaN</td>\n",
              "      <td>NaN</td>\n",
              "      <td>NaN</td>\n",
              "      <td>NaN</td>\n",
              "      <td>5.000000</td>\n",
              "    </tr>\n",
              "    <tr>\n",
              "      <th>75%</th>\n",
              "      <td>NaN</td>\n",
              "      <td>2017.000000</td>\n",
              "      <td>6.750000e+05</td>\n",
              "      <td>9.700000e+04</td>\n",
              "      <td>NaN</td>\n",
              "      <td>NaN</td>\n",
              "      <td>NaN</td>\n",
              "      <td>NaN</td>\n",
              "      <td>NaN</td>\n",
              "      <td>NaN</td>\n",
              "      <td>NaN</td>\n",
              "      <td>NaN</td>\n",
              "      <td>5.000000</td>\n",
              "    </tr>\n",
              "    <tr>\n",
              "      <th>max</th>\n",
              "      <td>NaN</td>\n",
              "      <td>2020.000000</td>\n",
              "      <td>1.000000e+07</td>\n",
              "      <td>2.360457e+06</td>\n",
              "      <td>NaN</td>\n",
              "      <td>NaN</td>\n",
              "      <td>NaN</td>\n",
              "      <td>NaN</td>\n",
              "      <td>NaN</td>\n",
              "      <td>NaN</td>\n",
              "      <td>NaN</td>\n",
              "      <td>NaN</td>\n",
              "      <td>14.000000</td>\n",
              "    </tr>\n",
              "  </tbody>\n",
              "</table>\n",
              "</div>"
            ],
            "text/plain": [
              "                          name         year  selling_price     km_driven  \\\n",
              "count                     6999  6999.000000   6.999000e+03  6.999000e+03   \n",
              "unique                    1924          NaN            NaN           NaN   \n",
              "top     Maruti Swift Dzire VDI          NaN            NaN           NaN   \n",
              "freq                       116          NaN            NaN           NaN   \n",
              "mean                       NaN  2013.818403   6.395152e+05  6.958462e+04   \n",
              "std                        NaN     4.053095   8.089419e+05  5.772400e+04   \n",
              "min                        NaN  1983.000000   2.999900e+04  1.000000e+00   \n",
              "25%                        NaN  2011.000000   2.549990e+05  3.500000e+04   \n",
              "50%                        NaN  2015.000000   4.500000e+05  6.000000e+04   \n",
              "75%                        NaN  2017.000000   6.750000e+05  9.700000e+04   \n",
              "max                        NaN  2020.000000   1.000000e+07  2.360457e+06   \n",
              "\n",
              "          fuel seller_type transmission        owner    mileage   engine  \\\n",
              "count     6999        6999         6999         6999       6797     6797   \n",
              "unique       4           3            2            5        386      120   \n",
              "top     Diesel  Individual       Manual  First Owner  18.9 kmpl  1248 CC   \n",
              "freq      3793        5826         6095         4587        197      885   \n",
              "mean       NaN         NaN          NaN          NaN        NaN      NaN   \n",
              "std        NaN         NaN          NaN          NaN        NaN      NaN   \n",
              "min        NaN         NaN          NaN          NaN        NaN      NaN   \n",
              "25%        NaN         NaN          NaN          NaN        NaN      NaN   \n",
              "50%        NaN         NaN          NaN          NaN        NaN      NaN   \n",
              "75%        NaN         NaN          NaN          NaN        NaN      NaN   \n",
              "max        NaN         NaN          NaN          NaN        NaN      NaN   \n",
              "\n",
              "       max_power          torque        seats  \n",
              "count       6803            6796  6797.000000  \n",
              "unique       316             419          NaN  \n",
              "top       74 bhp  190Nm@ 2000rpm          NaN  \n",
              "freq         330             468          NaN  \n",
              "mean         NaN             NaN     5.419008  \n",
              "std          NaN             NaN     0.965767  \n",
              "min          NaN             NaN     2.000000  \n",
              "25%          NaN             NaN     5.000000  \n",
              "50%          NaN             NaN     5.000000  \n",
              "75%          NaN             NaN     5.000000  \n",
              "max          NaN             NaN    14.000000  "
            ]
          },
          "execution_count": 572,
          "metadata": {},
          "output_type": "execute_result"
        }
      ],
      "source": [
        "print(\"Train:\")\n",
        "df_train.describe(include = ['object', 'float', 'int'])"
      ]
    },
    {
      "cell_type": "markdown",
      "metadata": {
        "id": "1X5_FzDOhjuh"
      },
      "source": [
        "(0.15 балла) <font color='#9933CC'>Посмотрите, есть ли в датасете пропуски.</font>\n",
        "\n",
        "<font color='#FF6600'>Если есть, то в каких колонках?</font>"
      ]
    },
    {
      "cell_type": "code",
      "execution_count": 573,
      "metadata": {
        "id": "67KXN7Fj0Chz"
      },
      "outputs": [
        {
          "name": "stdout",
          "output_type": "stream",
          "text": [
            "В следующих колонках есть пропуски:\n",
            "\n",
            "mileage\n",
            "engine\n",
            "max_power\n",
            "torque\n",
            "seats\n"
          ]
        }
      ],
      "source": [
        "print(\"В следующих колонках есть пропуски:\\n\")\n",
        "for (columnName, columnData) in df_train.items():\n",
        "    if df_train[columnName].isna().sum() != 0:\n",
        "        print(columnName)"
      ]
    },
    {
      "cell_type": "markdown",
      "metadata": {
        "id": "B9KR76Uzjvqa"
      },
      "source": [
        "(0.1 балла) <font color='#9933CC'>Посмотрите, есть ли в трейне объекты с одинаковым признаковым описанием</font> (целевую переменную следует исключить). Если есть, то сколько?"
      ]
    },
    {
      "cell_type": "code",
      "execution_count": 574,
      "metadata": {
        "id": "J3Y-5Vyijys-"
      },
      "outputs": [
        {
          "name": "stdout",
          "output_type": "stream",
          "text": [
            "Число объектов с одинаковым признаковым описанием:  1159\n"
          ]
        }
      ],
      "source": [
        "df_train_no_target = df_train.loc[:, df_train.columns != 'selling_price']\n",
        "df_train_dedupe = df_train_no_target.drop_duplicates()\n",
        "print(\"Число объектов с одинаковым признаковым описанием: \", (len(df_train) - len(df_train_dedupe)))"
      ]
    },
    {
      "cell_type": "markdown",
      "metadata": {
        "id": "UAwmwOwhlQmA"
      },
      "source": [
        "(0.15 балла) <font color='#9933CC'>Отобразите такие объекты</font>"
      ]
    },
    {
      "cell_type": "code",
      "execution_count": 575,
      "metadata": {
        "id": "nSg0g13Ylgsh"
      },
      "outputs": [
        {
          "data": {
            "text/html": [
              "<div>\n",
              "<style scoped>\n",
              "    .dataframe tbody tr th:only-of-type {\n",
              "        vertical-align: middle;\n",
              "    }\n",
              "\n",
              "    .dataframe tbody tr th {\n",
              "        vertical-align: top;\n",
              "    }\n",
              "\n",
              "    .dataframe thead th {\n",
              "        text-align: right;\n",
              "    }\n",
              "</style>\n",
              "<table border=\"1\" class=\"dataframe\">\n",
              "  <thead>\n",
              "    <tr style=\"text-align: right;\">\n",
              "      <th></th>\n",
              "      <th>name</th>\n",
              "      <th>year</th>\n",
              "      <th>km_driven</th>\n",
              "      <th>fuel</th>\n",
              "      <th>seller_type</th>\n",
              "      <th>transmission</th>\n",
              "      <th>owner</th>\n",
              "      <th>mileage</th>\n",
              "      <th>engine</th>\n",
              "      <th>max_power</th>\n",
              "      <th>torque</th>\n",
              "      <th>seats</th>\n",
              "    </tr>\n",
              "  </thead>\n",
              "  <tbody>\n",
              "    <tr>\n",
              "      <th>0</th>\n",
              "      <td>Maruti Swift Dzire VDI</td>\n",
              "      <td>2014</td>\n",
              "      <td>145500</td>\n",
              "      <td>Diesel</td>\n",
              "      <td>Individual</td>\n",
              "      <td>Manual</td>\n",
              "      <td>First Owner</td>\n",
              "      <td>23.4 kmpl</td>\n",
              "      <td>1248 CC</td>\n",
              "      <td>74 bhp</td>\n",
              "      <td>190Nm@ 2000rpm</td>\n",
              "      <td>5.0</td>\n",
              "    </tr>\n",
              "    <tr>\n",
              "      <th>1</th>\n",
              "      <td>Skoda Rapid 1.5 TDI Ambition</td>\n",
              "      <td>2014</td>\n",
              "      <td>120000</td>\n",
              "      <td>Diesel</td>\n",
              "      <td>Individual</td>\n",
              "      <td>Manual</td>\n",
              "      <td>Second Owner</td>\n",
              "      <td>21.14 kmpl</td>\n",
              "      <td>1498 CC</td>\n",
              "      <td>103.52 bhp</td>\n",
              "      <td>250Nm@ 1500-2500rpm</td>\n",
              "      <td>5.0</td>\n",
              "    </tr>\n",
              "    <tr>\n",
              "      <th>2</th>\n",
              "      <td>Hyundai i20 Sportz Diesel</td>\n",
              "      <td>2010</td>\n",
              "      <td>127000</td>\n",
              "      <td>Diesel</td>\n",
              "      <td>Individual</td>\n",
              "      <td>Manual</td>\n",
              "      <td>First Owner</td>\n",
              "      <td>23.0 kmpl</td>\n",
              "      <td>1396 CC</td>\n",
              "      <td>90 bhp</td>\n",
              "      <td>22.4 kgm at 1750-2750rpm</td>\n",
              "      <td>5.0</td>\n",
              "    </tr>\n",
              "    <tr>\n",
              "      <th>3</th>\n",
              "      <td>Maruti Swift VXI BSIII</td>\n",
              "      <td>2007</td>\n",
              "      <td>120000</td>\n",
              "      <td>Petrol</td>\n",
              "      <td>Individual</td>\n",
              "      <td>Manual</td>\n",
              "      <td>First Owner</td>\n",
              "      <td>16.1 kmpl</td>\n",
              "      <td>1298 CC</td>\n",
              "      <td>88.2 bhp</td>\n",
              "      <td>11.5@ 4,500(kgm@ rpm)</td>\n",
              "      <td>5.0</td>\n",
              "    </tr>\n",
              "    <tr>\n",
              "      <th>4</th>\n",
              "      <td>Hyundai Xcent 1.2 VTVT E Plus</td>\n",
              "      <td>2017</td>\n",
              "      <td>45000</td>\n",
              "      <td>Petrol</td>\n",
              "      <td>Individual</td>\n",
              "      <td>Manual</td>\n",
              "      <td>First Owner</td>\n",
              "      <td>20.14 kmpl</td>\n",
              "      <td>1197 CC</td>\n",
              "      <td>81.86 bhp</td>\n",
              "      <td>113.75nm@ 4000rpm</td>\n",
              "      <td>5.0</td>\n",
              "    </tr>\n",
              "  </tbody>\n",
              "</table>\n",
              "</div>"
            ],
            "text/plain": [
              "                            name  year  km_driven    fuel seller_type  \\\n",
              "0         Maruti Swift Dzire VDI  2014     145500  Diesel  Individual   \n",
              "1   Skoda Rapid 1.5 TDI Ambition  2014     120000  Diesel  Individual   \n",
              "2      Hyundai i20 Sportz Diesel  2010     127000  Diesel  Individual   \n",
              "3         Maruti Swift VXI BSIII  2007     120000  Petrol  Individual   \n",
              "4  Hyundai Xcent 1.2 VTVT E Plus  2017      45000  Petrol  Individual   \n",
              "\n",
              "  transmission         owner     mileage   engine   max_power  \\\n",
              "0       Manual   First Owner   23.4 kmpl  1248 CC      74 bhp   \n",
              "1       Manual  Second Owner  21.14 kmpl  1498 CC  103.52 bhp   \n",
              "2       Manual   First Owner   23.0 kmpl  1396 CC      90 bhp   \n",
              "3       Manual   First Owner   16.1 kmpl  1298 CC    88.2 bhp   \n",
              "4       Manual   First Owner  20.14 kmpl  1197 CC   81.86 bhp   \n",
              "\n",
              "                     torque  seats  \n",
              "0            190Nm@ 2000rpm    5.0  \n",
              "1       250Nm@ 1500-2500rpm    5.0  \n",
              "2  22.4 kgm at 1750-2750rpm    5.0  \n",
              "3     11.5@ 4,500(kgm@ rpm)    5.0  \n",
              "4         113.75nm@ 4000rpm    5.0  "
            ]
          },
          "execution_count": 575,
          "metadata": {},
          "output_type": "execute_result"
        }
      ],
      "source": [
        "df_duplicates = pd.merge(df_train_no_target, df_train_dedupe)\n",
        "\n",
        "df_duplicates.head()"
      ]
    },
    {
      "cell_type": "code",
      "execution_count": 576,
      "metadata": {},
      "outputs": [
        {
          "data": {
            "text/plain": [
              "(6999, 12)"
            ]
          },
          "execution_count": 576,
          "metadata": {},
          "output_type": "execute_result"
        }
      ],
      "source": [
        "df_duplicates.shape"
      ]
    },
    {
      "cell_type": "markdown",
      "metadata": {
        "id": "156jDf_Yj64l"
      },
      "source": [
        "(0.15 балла) <font color='#9933CC'>Удалите повторяющиеся строки</font>. Если при одинаковом признаковом описании цены на автомобили отличаются, то оставьте первую строку по этому автомобилю"
      ]
    },
    {
      "cell_type": "code",
      "execution_count": 577,
      "metadata": {
        "id": "sD0e3HZejmB-"
      },
      "outputs": [],
      "source": [
        "# remove sellling_price from the list of columns\n",
        "columns_subset = df_train.columns\n",
        "columns_subset = columns_subset.delete(2)\n",
        "columns_subset\n",
        "\n",
        "# drop rows while keeping the first occurance\n",
        "df_train = df_train.drop_duplicates(subset=columns_subset, keep='first')"
      ]
    },
    {
      "cell_type": "code",
      "execution_count": 578,
      "metadata": {
        "id": "vF0yfzMOkEn8"
      },
      "outputs": [],
      "source": [
        "assert df_train.shape == (5840, 13)"
      ]
    },
    {
      "cell_type": "markdown",
      "metadata": {
        "id": "_SglCDNUkMTa"
      },
      "source": [
        "(0.1 балла) Чтоб все было по красоте, <font color='#9933CC'>обновите индексы строк таким образом, чтобы они шли от 0 без пропусков</font>"
      ]
    },
    {
      "cell_type": "code",
      "execution_count": 579,
      "metadata": {
        "id": "4RxpM81kkgsX"
      },
      "outputs": [],
      "source": [
        "df_train = df_train.reset_index(drop=True)"
      ]
    },
    {
      "cell_type": "markdown",
      "metadata": {
        "id": "CzYgx2wJzLxN"
      },
      "source": [
        "Вы могли заметить, что с признаками ``mileage, engine, max_power и torque`` всё не слава богу. Давайте починим.\n",
        "\n",
        "(0.25 балла) Задача такая: \n",
        "<font color='#9933CC'>\n",
        "* убрать единицы измерения для признаков ``mileage, engine, max_power``. \n",
        "* кастануть эти столбцы столбцы к ``float``.\n",
        "* удалить столбец ``torque``\n",
        "</font>\n",
        "\n",
        "> Все действия нужно производить над обоими датасетами"
      ]
    },
    {
      "cell_type": "code",
      "execution_count": 580,
      "metadata": {},
      "outputs": [
        {
          "ename": "AttributeError",
          "evalue": "'float' object has no attribute 'rstrip'",
          "output_type": "error",
          "traceback": [
            "\u001b[1;31m---------------------------------------------------------------------------\u001b[0m",
            "\u001b[1;31mAttributeError\u001b[0m                            Traceback (most recent call last)",
            "Cell \u001b[1;32mIn [580], line 1\u001b[0m\n\u001b[1;32m----> 1\u001b[0m df_train[\u001b[39m'\u001b[39m\u001b[39mtorque\u001b[39m\u001b[39m'\u001b[39m] \u001b[39m=\u001b[39m df_train[\u001b[39m'\u001b[39;49m\u001b[39mtorque\u001b[39;49m\u001b[39m'\u001b[39;49m]\u001b[39m.\u001b[39;49mmap(\u001b[39mlambda\u001b[39;49;00m x: x\u001b[39m.\u001b[39;49mrstrip(\u001b[39m'\u001b[39;49m\u001b[39mnNmM@\u001b[39;49m\u001b[39m'\u001b[39;49m))\n",
            "File \u001b[1;32m~\\AppData\\Local\\Packages\\PythonSoftwareFoundation.Python.3.10_qbz5n2kfra8p0\\LocalCache\\local-packages\\Python310\\site-packages\\pandas\\core\\series.py:4539\u001b[0m, in \u001b[0;36mSeries.map\u001b[1;34m(self, arg, na_action)\u001b[0m\n\u001b[0;32m   4460\u001b[0m \u001b[39mdef\u001b[39;00m \u001b[39mmap\u001b[39m(\n\u001b[0;32m   4461\u001b[0m     \u001b[39mself\u001b[39m,\n\u001b[0;32m   4462\u001b[0m     arg: Callable \u001b[39m|\u001b[39m Mapping \u001b[39m|\u001b[39m Series,\n\u001b[0;32m   4463\u001b[0m     na_action: Literal[\u001b[39m\"\u001b[39m\u001b[39mignore\u001b[39m\u001b[39m\"\u001b[39m] \u001b[39m|\u001b[39m \u001b[39mNone\u001b[39;00m \u001b[39m=\u001b[39m \u001b[39mNone\u001b[39;00m,\n\u001b[0;32m   4464\u001b[0m ) \u001b[39m-\u001b[39m\u001b[39m>\u001b[39m Series:\n\u001b[0;32m   4465\u001b[0m     \u001b[39m\"\"\"\u001b[39;00m\n\u001b[0;32m   4466\u001b[0m \u001b[39m    Map values of Series according to an input mapping or function.\u001b[39;00m\n\u001b[0;32m   4467\u001b[0m \n\u001b[1;32m   (...)\u001b[0m\n\u001b[0;32m   4537\u001b[0m \u001b[39m    dtype: object\u001b[39;00m\n\u001b[0;32m   4538\u001b[0m \u001b[39m    \"\"\"\u001b[39;00m\n\u001b[1;32m-> 4539\u001b[0m     new_values \u001b[39m=\u001b[39m \u001b[39mself\u001b[39;49m\u001b[39m.\u001b[39;49m_map_values(arg, na_action\u001b[39m=\u001b[39;49mna_action)\n\u001b[0;32m   4540\u001b[0m     \u001b[39mreturn\u001b[39;00m \u001b[39mself\u001b[39m\u001b[39m.\u001b[39m_constructor(new_values, index\u001b[39m=\u001b[39m\u001b[39mself\u001b[39m\u001b[39m.\u001b[39mindex)\u001b[39m.\u001b[39m__finalize__(\n\u001b[0;32m   4541\u001b[0m         \u001b[39mself\u001b[39m, method\u001b[39m=\u001b[39m\u001b[39m\"\u001b[39m\u001b[39mmap\u001b[39m\u001b[39m\"\u001b[39m\n\u001b[0;32m   4542\u001b[0m     )\n",
            "File \u001b[1;32m~\\AppData\\Local\\Packages\\PythonSoftwareFoundation.Python.3.10_qbz5n2kfra8p0\\LocalCache\\local-packages\\Python310\\site-packages\\pandas\\core\\base.py:890\u001b[0m, in \u001b[0;36mIndexOpsMixin._map_values\u001b[1;34m(self, mapper, na_action)\u001b[0m\n\u001b[0;32m    887\u001b[0m         \u001b[39mraise\u001b[39;00m \u001b[39mValueError\u001b[39;00m(msg)\n\u001b[0;32m    889\u001b[0m \u001b[39m# mapper is a function\u001b[39;00m\n\u001b[1;32m--> 890\u001b[0m new_values \u001b[39m=\u001b[39m map_f(values, mapper)\n\u001b[0;32m    892\u001b[0m \u001b[39mreturn\u001b[39;00m new_values\n",
            "File \u001b[1;32m~\\AppData\\Local\\Packages\\PythonSoftwareFoundation.Python.3.10_qbz5n2kfra8p0\\LocalCache\\local-packages\\Python310\\site-packages\\pandas\\_libs\\lib.pyx:2918\u001b[0m, in \u001b[0;36mpandas._libs.lib.map_infer\u001b[1;34m()\u001b[0m\n",
            "Cell \u001b[1;32mIn [580], line 1\u001b[0m, in \u001b[0;36m<lambda>\u001b[1;34m(x)\u001b[0m\n\u001b[1;32m----> 1\u001b[0m df_train[\u001b[39m'\u001b[39m\u001b[39mtorque\u001b[39m\u001b[39m'\u001b[39m] \u001b[39m=\u001b[39m df_train[\u001b[39m'\u001b[39m\u001b[39mtorque\u001b[39m\u001b[39m'\u001b[39m]\u001b[39m.\u001b[39mmap(\u001b[39mlambda\u001b[39;00m x: x\u001b[39m.\u001b[39;49mrstrip(\u001b[39m'\u001b[39m\u001b[39mnNmM@\u001b[39m\u001b[39m'\u001b[39m))\n",
            "\u001b[1;31mAttributeError\u001b[0m: 'float' object has no attribute 'rstrip'"
          ]
        }
      ],
      "source": [
        " df_train['torque'] = df_train['torque'].map(lambda x: x.rstrip('nNmM@'))"
      ]
    },
    {
      "cell_type": "markdown",
      "metadata": {},
      "source": [
        "---\n",
        "**Доп (0.25 балла):**\n",
        "* <font color='#9933CC'>Вместо удаления признак `torque` разделите на два: собственно `torque` и `max_torque_rpm`.</font> Учтите единицы измерения. Они разные ☹"
      ]
    },
    {
      "cell_type": "code",
      "execution_count": 581,
      "metadata": {},
      "outputs": [],
      "source": [
        "def test_apply(x):\n",
        "    try:\n",
        "        return float(x)\n",
        "    except ValueError:\n",
        "        return None\n",
        "\n",
        "def groom_rpm(df):\n",
        "    df['max_torque_rpm'] = df['max_torque_rpm'].astype(str)\n",
        "\n",
        "    # clean to the right\n",
        "    df['max_torque_rpm'] = df['max_torque_rpm'].map(lambda x: x.rstrip('rpm'))\n",
        "    df['max_torque_rpm'] = df['max_torque_rpm'].map(lambda x: x.rstrip('RPM'))\n",
        "    df['max_torque_rpm'] = df['max_torque_rpm'].map(lambda x: x.rstrip('(kgm@ rpm)'))\n",
        "\n",
        "    # clean to the left\n",
        "    df['max_torque_rpm'] = df['max_torque_rpm'].map(lambda x: x.lstrip('kKgGmM at '))\n",
        "    df['max_torque_rpm'] = df['max_torque_rpm'].map(lambda x: x.lstrip('Nm at /'))\n",
        "\n",
        "    # iterate over column values\n",
        "    for i in range(0, len(df['max_torque_rpm'])):\n",
        "        # remove commas\n",
        "        df.loc[i, ['max_torque_rpm']] = df['max_torque_rpm'][i].replace(',', '')\n",
        "        \n",
        "        # replace None/na with NaN\n",
        "        if df['max_torque_rpm'][i] == 'None' or df['max_torque_rpm'][i] == 'na':\n",
        "            df.loc[i, ['max_torque_rpm']] = 'NaN'\n",
        "        \n",
        "        # special case\n",
        "        if df['max_torque_rpm'][i] == 'one':\n",
        "            df.loc[i, ['max_torque_rpm']] = 'NaN'\n",
        "            \n",
        "        # for rpm set in format 4000+/-500rpm let's use the main part (4000) because it's the average of 3500 and 4500\n",
        "        if '+/-' in df['max_torque_rpm'][i]:\n",
        "            elements = df['max_torque_rpm'][i].split('+/-')\n",
        "            predicted_range = float(elements[0])\n",
        "            df.loc[i, ['max_torque_rpm']] = str(predicted_range)\n",
        "        # if rpm is set in range 1400-2200 then let's use the average value\n",
        "        elif '-' in df['max_torque_rpm'][i] or  '~' in df['max_torque_rpm'][i]:\n",
        "            elements = re.split('-|~', df['max_torque_rpm'][i])\n",
        "            range_begin = float(elements[0])\n",
        "            range_end = float(elements[1])\n",
        "            \n",
        "            new_range = (range_begin + range_end) / 2\n",
        "            df.loc[i, ['max_torque_rpm']] = str(new_range)\n",
        "\n",
        "    # cast string to float\n",
        "    df['max_torque_rpm'] = df['max_torque_rpm'].apply(test_apply)\n",
        "\n",
        "    # replace NaN with median value\n",
        "    df['max_torque_rpm'].fillna(df['max_torque_rpm'].median(), inplace=True)\n",
        "    \n",
        "    return df\n",
        "\n",
        "def groom_torque(df):\n",
        "    df['torque'] = df['torque'].astype(str)\n",
        "\n",
        "    # clean to the right\n",
        "    df['torque'] = df['torque'].map(lambda x: x.rstrip('nNmM@'))\n",
        "\n",
        "    # iterate over column values\n",
        "    for i in range(0, len(df['torque'])):\n",
        "        \n",
        "        # replace na with NaN\n",
        "        if df['torque'][i] == 'na' or df['torque'][i] == 'Na':\n",
        "            df.loc[i, ['torque']] = 'NaN'\n",
        "        \n",
        "        # replace weird kg with NaN because we can't convert Nm <-> kg (although we can do Nm <-> kgm conversion)\n",
        "        if 'kg' in df['torque'][i]:\n",
        "            df.loc[i, ['torque']] = 'NaN'\n",
        "\n",
        "    # cast string to float\n",
        "    df['torque'] = df['torque'].apply(test_apply)\n",
        "\n",
        "    # replace NaN with median value\n",
        "    df['torque'].fillna(df['torque'].median(), inplace=True)\n",
        "    \n",
        "    return df\n",
        "\n",
        "def split_torque(df):\n",
        "    # split original torque column in two columns: torque_new, max_torque_rpm\n",
        "    df[['torque_new', 'max_torque_rpm']] = df['torque'].str.split(' ', n=1, expand=True)\n",
        "\n",
        "    # drop the original torque column\n",
        "    df = df.drop('torque', axis=1)\n",
        "\n",
        "    # rename torque_new -> torque\n",
        "    df = df.rename(columns = {'torque_new':'torque'})\n",
        "    \n",
        "    # let's groom torque\n",
        "    df = groom_torque(df)\n",
        "    \n",
        "    # let's groom rpm\n",
        "    df = groom_rpm(df)\n",
        "    \n",
        "    return df\n",
        "\n",
        "# split toqrue in train\n",
        "df_train = split_torque(df_train)"
      ]
    },
    {
      "cell_type": "code",
      "execution_count": 582,
      "metadata": {},
      "outputs": [
        {
          "data": {
            "text/html": [
              "<div>\n",
              "<style scoped>\n",
              "    .dataframe tbody tr th:only-of-type {\n",
              "        vertical-align: middle;\n",
              "    }\n",
              "\n",
              "    .dataframe tbody tr th {\n",
              "        vertical-align: top;\n",
              "    }\n",
              "\n",
              "    .dataframe thead th {\n",
              "        text-align: right;\n",
              "    }\n",
              "</style>\n",
              "<table border=\"1\" class=\"dataframe\">\n",
              "  <thead>\n",
              "    <tr style=\"text-align: right;\">\n",
              "      <th></th>\n",
              "      <th>name</th>\n",
              "      <th>year</th>\n",
              "      <th>selling_price</th>\n",
              "      <th>km_driven</th>\n",
              "      <th>fuel</th>\n",
              "      <th>seller_type</th>\n",
              "      <th>transmission</th>\n",
              "      <th>owner</th>\n",
              "      <th>mileage</th>\n",
              "      <th>engine</th>\n",
              "      <th>max_power</th>\n",
              "      <th>seats</th>\n",
              "      <th>torque</th>\n",
              "      <th>max_torque_rpm</th>\n",
              "    </tr>\n",
              "  </thead>\n",
              "  <tbody>\n",
              "    <tr>\n",
              "      <th>0</th>\n",
              "      <td>Mahindra Xylo E4 BS IV</td>\n",
              "      <td>2010</td>\n",
              "      <td>229999</td>\n",
              "      <td>168000</td>\n",
              "      <td>Diesel</td>\n",
              "      <td>Individual</td>\n",
              "      <td>Manual</td>\n",
              "      <td>First Owner</td>\n",
              "      <td>14.0 kmpl</td>\n",
              "      <td>2498 CC</td>\n",
              "      <td>112 bhp</td>\n",
              "      <td>7.0</td>\n",
              "      <td>260.00</td>\n",
              "      <td>2000.0</td>\n",
              "    </tr>\n",
              "    <tr>\n",
              "      <th>1</th>\n",
              "      <td>Tata Nexon 1.5 Revotorq XE</td>\n",
              "      <td>2017</td>\n",
              "      <td>665000</td>\n",
              "      <td>25000</td>\n",
              "      <td>Diesel</td>\n",
              "      <td>Individual</td>\n",
              "      <td>Manual</td>\n",
              "      <td>First Owner</td>\n",
              "      <td>21.5 kmpl</td>\n",
              "      <td>1497 CC</td>\n",
              "      <td>108.5 bhp</td>\n",
              "      <td>5.0</td>\n",
              "      <td>260.00</td>\n",
              "      <td>2125.0</td>\n",
              "    </tr>\n",
              "    <tr>\n",
              "      <th>2</th>\n",
              "      <td>Honda Civic 1.8 S AT</td>\n",
              "      <td>2007</td>\n",
              "      <td>175000</td>\n",
              "      <td>218463</td>\n",
              "      <td>Petrol</td>\n",
              "      <td>Individual</td>\n",
              "      <td>Automatic</td>\n",
              "      <td>First Owner</td>\n",
              "      <td>12.9 kmpl</td>\n",
              "      <td>1799 CC</td>\n",
              "      <td>130 bhp</td>\n",
              "      <td>5.0</td>\n",
              "      <td>172.00</td>\n",
              "      <td>4300.0</td>\n",
              "    </tr>\n",
              "    <tr>\n",
              "      <th>3</th>\n",
              "      <td>Honda City i DTEC VX</td>\n",
              "      <td>2015</td>\n",
              "      <td>635000</td>\n",
              "      <td>173000</td>\n",
              "      <td>Diesel</td>\n",
              "      <td>Individual</td>\n",
              "      <td>Manual</td>\n",
              "      <td>First Owner</td>\n",
              "      <td>25.1 kmpl</td>\n",
              "      <td>1498 CC</td>\n",
              "      <td>98.6 bhp</td>\n",
              "      <td>5.0</td>\n",
              "      <td>200.00</td>\n",
              "      <td>1750.0</td>\n",
              "    </tr>\n",
              "    <tr>\n",
              "      <th>4</th>\n",
              "      <td>Tata Indica Vista Aura 1.2 Safire BSIV</td>\n",
              "      <td>2011</td>\n",
              "      <td>130000</td>\n",
              "      <td>70000</td>\n",
              "      <td>Petrol</td>\n",
              "      <td>Individual</td>\n",
              "      <td>Manual</td>\n",
              "      <td>Second Owner</td>\n",
              "      <td>16.5 kmpl</td>\n",
              "      <td>1172 CC</td>\n",
              "      <td>65 bhp</td>\n",
              "      <td>5.0</td>\n",
              "      <td>96.00</td>\n",
              "      <td>3000.0</td>\n",
              "    </tr>\n",
              "    <tr>\n",
              "      <th>...</th>\n",
              "      <td>...</td>\n",
              "      <td>...</td>\n",
              "      <td>...</td>\n",
              "      <td>...</td>\n",
              "      <td>...</td>\n",
              "      <td>...</td>\n",
              "      <td>...</td>\n",
              "      <td>...</td>\n",
              "      <td>...</td>\n",
              "      <td>...</td>\n",
              "      <td>...</td>\n",
              "      <td>...</td>\n",
              "      <td>...</td>\n",
              "      <td>...</td>\n",
              "    </tr>\n",
              "    <tr>\n",
              "      <th>995</th>\n",
              "      <td>Hyundai i10 Magna 1.1L</td>\n",
              "      <td>2008</td>\n",
              "      <td>250000</td>\n",
              "      <td>100000</td>\n",
              "      <td>Petrol</td>\n",
              "      <td>Individual</td>\n",
              "      <td>Manual</td>\n",
              "      <td>Second Owner</td>\n",
              "      <td>19.81 kmpl</td>\n",
              "      <td>1086 CC</td>\n",
              "      <td>68.05 bhp</td>\n",
              "      <td>5.0</td>\n",
              "      <td>99.04</td>\n",
              "      <td>4500.0</td>\n",
              "    </tr>\n",
              "    <tr>\n",
              "      <th>996</th>\n",
              "      <td>Hyundai i20 2015-2017 Sportz 1.2</td>\n",
              "      <td>2017</td>\n",
              "      <td>440000</td>\n",
              "      <td>50000</td>\n",
              "      <td>Petrol</td>\n",
              "      <td>Individual</td>\n",
              "      <td>Manual</td>\n",
              "      <td>Second Owner</td>\n",
              "      <td>18.6 kmpl</td>\n",
              "      <td>1197 CC</td>\n",
              "      <td>81.83 bhp</td>\n",
              "      <td>5.0</td>\n",
              "      <td>114.70</td>\n",
              "      <td>4000.0</td>\n",
              "    </tr>\n",
              "    <tr>\n",
              "      <th>997</th>\n",
              "      <td>Hyundai i20 Era Diesel</td>\n",
              "      <td>2009</td>\n",
              "      <td>340000</td>\n",
              "      <td>40000</td>\n",
              "      <td>Diesel</td>\n",
              "      <td>Individual</td>\n",
              "      <td>Manual</td>\n",
              "      <td>First Owner</td>\n",
              "      <td>23.0 kmpl</td>\n",
              "      <td>1396 CC</td>\n",
              "      <td>90 bhp</td>\n",
              "      <td>5.0</td>\n",
              "      <td>22.40</td>\n",
              "      <td>2250.0</td>\n",
              "    </tr>\n",
              "    <tr>\n",
              "      <th>998</th>\n",
              "      <td>Hyundai i10 Asta</td>\n",
              "      <td>2012</td>\n",
              "      <td>350000</td>\n",
              "      <td>25000</td>\n",
              "      <td>Petrol</td>\n",
              "      <td>Individual</td>\n",
              "      <td>Manual</td>\n",
              "      <td>First Owner</td>\n",
              "      <td>20.36 kmpl</td>\n",
              "      <td>1197 CC</td>\n",
              "      <td>78.9 bhp</td>\n",
              "      <td>5.0</td>\n",
              "      <td>111.80</td>\n",
              "      <td>4000.0</td>\n",
              "    </tr>\n",
              "    <tr>\n",
              "      <th>999</th>\n",
              "      <td>Honda City i DTec SV</td>\n",
              "      <td>2016</td>\n",
              "      <td>700000</td>\n",
              "      <td>110000</td>\n",
              "      <td>Diesel</td>\n",
              "      <td>Individual</td>\n",
              "      <td>Manual</td>\n",
              "      <td>First Owner</td>\n",
              "      <td>26.0 kmpl</td>\n",
              "      <td>1498 CC</td>\n",
              "      <td>98.6 bhp</td>\n",
              "      <td>5.0</td>\n",
              "      <td>200.00</td>\n",
              "      <td>1750.0</td>\n",
              "    </tr>\n",
              "  </tbody>\n",
              "</table>\n",
              "<p>1000 rows × 14 columns</p>\n",
              "</div>"
            ],
            "text/plain": [
              "                                       name  year  selling_price  km_driven  \\\n",
              "0                    Mahindra Xylo E4 BS IV  2010         229999     168000   \n",
              "1                Tata Nexon 1.5 Revotorq XE  2017         665000      25000   \n",
              "2                      Honda Civic 1.8 S AT  2007         175000     218463   \n",
              "3                      Honda City i DTEC VX  2015         635000     173000   \n",
              "4    Tata Indica Vista Aura 1.2 Safire BSIV  2011         130000      70000   \n",
              "..                                      ...   ...            ...        ...   \n",
              "995                  Hyundai i10 Magna 1.1L  2008         250000     100000   \n",
              "996        Hyundai i20 2015-2017 Sportz 1.2  2017         440000      50000   \n",
              "997                  Hyundai i20 Era Diesel  2009         340000      40000   \n",
              "998                        Hyundai i10 Asta  2012         350000      25000   \n",
              "999                    Honda City i DTec SV  2016         700000     110000   \n",
              "\n",
              "       fuel seller_type transmission         owner     mileage   engine  \\\n",
              "0    Diesel  Individual       Manual   First Owner   14.0 kmpl  2498 CC   \n",
              "1    Diesel  Individual       Manual   First Owner   21.5 kmpl  1497 CC   \n",
              "2    Petrol  Individual    Automatic   First Owner   12.9 kmpl  1799 CC   \n",
              "3    Diesel  Individual       Manual   First Owner   25.1 kmpl  1498 CC   \n",
              "4    Petrol  Individual       Manual  Second Owner   16.5 kmpl  1172 CC   \n",
              "..      ...         ...          ...           ...         ...      ...   \n",
              "995  Petrol  Individual       Manual  Second Owner  19.81 kmpl  1086 CC   \n",
              "996  Petrol  Individual       Manual  Second Owner   18.6 kmpl  1197 CC   \n",
              "997  Diesel  Individual       Manual   First Owner   23.0 kmpl  1396 CC   \n",
              "998  Petrol  Individual       Manual   First Owner  20.36 kmpl  1197 CC   \n",
              "999  Diesel  Individual       Manual   First Owner   26.0 kmpl  1498 CC   \n",
              "\n",
              "     max_power  seats  torque  max_torque_rpm  \n",
              "0      112 bhp    7.0  260.00          2000.0  \n",
              "1    108.5 bhp    5.0  260.00          2125.0  \n",
              "2      130 bhp    5.0  172.00          4300.0  \n",
              "3     98.6 bhp    5.0  200.00          1750.0  \n",
              "4       65 bhp    5.0   96.00          3000.0  \n",
              "..         ...    ...     ...             ...  \n",
              "995  68.05 bhp    5.0   99.04          4500.0  \n",
              "996  81.83 bhp    5.0  114.70          4000.0  \n",
              "997     90 bhp    5.0   22.40          2250.0  \n",
              "998   78.9 bhp    5.0  111.80          4000.0  \n",
              "999   98.6 bhp    5.0  200.00          1750.0  \n",
              "\n",
              "[1000 rows x 14 columns]"
            ]
          },
          "execution_count": 582,
          "metadata": {},
          "output_type": "execute_result"
        }
      ],
      "source": [
        "\n",
        "# split toqrue in test\n",
        "df_test = split_torque(df_test)"
      ]
    },
    {
      "cell_type": "markdown",
      "metadata": {
        "id": "nyEtp7jsRNms"
      },
      "source": [
        "(0.15 балла) <font color='#9933CC'>Заполните пропуски в столбцах медианами. Убедитесь, что после заполнения пропусков не осталось</font>\n",
        "\n",
        "> Обратите внимание, что, по уму, нужно посчитать медиану по трейну и этим средним заполнять пропуски в тесте. Так же делаем, если, например, стандартизируем признаки.\n",
        "\n"
      ]
    },
    {
      "cell_type": "code",
      "execution_count": null,
      "metadata": {
        "id": "M9H15wvXRYQF"
      },
      "outputs": [],
      "source": [
        "# your code here"
      ]
    },
    {
      "cell_type": "markdown",
      "metadata": {
        "id": "RuKxfXCaXeHr"
      },
      "source": [
        "\n",
        "(0.1 балла) Теперь, когда не осталось пропусков, можно <font color='#9933CC'>преобразовать столбцы к более подходящим типам (``engnine`` и ``seats`` к int)\n",
        "</font>\n",
        "\n",
        "Ниже ответьте, <font color='#FF6600'>почему (хоть мы этого и не делаем) ``seats``, возможно, лучше сделать переменной категориальной, а не целочисленной.</font>"
      ]
    },
    {
      "cell_type": "code",
      "execution_count": null,
      "metadata": {
        "colab": {
          "base_uri": "https://localhost:8080/"
        },
        "id": "gVi9BPC-YLMi",
        "outputId": "aa889364-c725-4fd2-8551-4b5d2086ad4b"
      },
      "outputs": [
        {
          "name": "stdout",
          "output_type": "stream",
          "text": [
            "<Место для ответа на вопрос про seats>\n"
          ]
        }
      ],
      "source": [
        "print(\"<Место для ответа на вопрос про seats>\")"
      ]
    },
    {
      "cell_type": "code",
      "execution_count": null,
      "metadata": {
        "id": "kYKWyjsLYQuz"
      },
      "outputs": [],
      "source": [
        "# your code here"
      ]
    },
    {
      "cell_type": "markdown",
      "metadata": {
        "id": "OmV784QWZOpO"
      },
      "source": [
        "## Визуализации (1 балл + 0.5)"
      ]
    },
    {
      "cell_type": "markdown",
      "metadata": {
        "id": "6p2L60ngZueT"
      },
      "source": [
        "Визуализировать нам надо не так уж и много. Во-первых, хотелось бы, в принципе, увидеть как распределены значения признаков. Также хотелось бы понять, насколько признаки скоррелированы между собой и с целевой переменной. А ещё неплохо бы посмотреть, не оказалось ли так, что тестовые данные распределены иначе, чем трейн.\n",
        "\n",
        "Этим всем и предлагаем вам заняться."
      ]
    },
    {
      "cell_type": "markdown",
      "metadata": {
        "id": "IJpEKkFfaQoC"
      },
      "source": [
        "(0.25 балла) <font color='#9933CC'>Посторойте попарные распределения всех числовых признаков для трейна.</font>\n",
        "\n",
        "> ``sns.paiplot()`` позволяет сделать это в одну строчку"
      ]
    },
    {
      "cell_type": "code",
      "execution_count": null,
      "metadata": {
        "id": "0car89hFaby1"
      },
      "outputs": [],
      "source": [
        "# your code here"
      ]
    },
    {
      "cell_type": "markdown",
      "metadata": {
        "id": "Vf4NE1-WboFG"
      },
      "source": [
        "Этот график не такой информативный, как можно было бы построить, беря признаки по отдельности. Но он позволяет сделать некоторые (возможно, далеко идущие) выводы. Впрочем, со многими из них (если не со всеми) вы бы справились умозрительно. Однако всегда приятно делать выводы, основываясь на данных.\n",
        "\n",
        "\n",
        "\n",
        "* <font color='#FF6600'> Что можно сказать о связи предикторов с целевой переменной?\n",
        "* А о корреляциях признаков? </font>"
      ]
    },
    {
      "cell_type": "markdown",
      "metadata": {
        "id": "m0Y8VOCceH_3"
      },
      "source": [
        "(0.25 балла) <font color='#9933CC'>Постройте pairplot по тестовым данным</font> и ответьте на вопрос <font color='#FF6600'>\"Похожими ли оказались совокупности при разделении на трейн и тест?\"</font>"
      ]
    },
    {
      "cell_type": "code",
      "execution_count": null,
      "metadata": {
        "id": "NK9l6SrAeHK1"
      },
      "outputs": [],
      "source": [
        "# your code here"
      ]
    },
    {
      "cell_type": "markdown",
      "metadata": {
        "id": "Gnn7pDcrfEvN"
      },
      "source": [
        "(0.25 балла) <font color='#9933CC'>Для трейна давайте построим тепловую карту (heatmap из библиотеки seaborn) попарных корреляций числовых колонок</font>"
      ]
    },
    {
      "cell_type": "code",
      "execution_count": null,
      "metadata": {
        "id": "E99LVAN2fMVH"
      },
      "outputs": [],
      "source": [
        "# your code here"
      ]
    },
    {
      "cell_type": "markdown",
      "metadata": {
        "id": "w24a_oXqf12H"
      },
      "source": [
        "Ответьте, пожалуйста, на вопросы: \n",
        "* <font color='#FF6600'>Какие 2 признака наименее скоррелированы между собой?</font>\n",
        "* <font color='#FF6600'>Между какими наблюдается довольно сильная положительная линейная зависимость?</font>\n",
        "* <font color='#FF6600'>Правильно ли, опираясь на данные, утверждать, что чем меньше год, тем, скорее всего, больше километров проехала машина к дате продажи.</font>"
      ]
    },
    {
      "cell_type": "markdown",
      "metadata": {
        "id": "DZXV-FI9lO5V"
      },
      "source": [
        "(0.25 балла) <font color='#9933CC'> Отобразите диаграммe рассеяния для наиболее скореллированной пары **признаков** (на трейне) </font>"
      ]
    },
    {
      "cell_type": "code",
      "execution_count": null,
      "metadata": {
        "id": "6RtM_zkDlON9"
      },
      "outputs": [],
      "source": [
        "# your code here"
      ]
    },
    {
      "cell_type": "markdown",
      "metadata": {
        "id": "ru1In410pieq"
      },
      "source": [
        "### Дополнительные визуализации (бонус 0.5 балла)\n",
        "\n",
        "Если вам кажется, что мы не попросили вас нарисовать какие-то очень важные зависимости, нарисуйте их и поясните."
      ]
    },
    {
      "cell_type": "code",
      "execution_count": null,
      "metadata": {
        "id": "HwlwJhDIp_2L"
      },
      "outputs": [],
      "source": [
        "# your code here"
      ]
    },
    {
      "cell_type": "markdown",
      "metadata": {
        "id": "uS2CQ1LzrP_U"
      },
      "source": [
        "# Часть 2 (1.25 балла) | Модель только на вещественных признаках"
      ]
    },
    {
      "cell_type": "markdown",
      "metadata": {
        "id": "EPDwkjMPg3Lg"
      },
      "source": [
        "(0.05 балла) <font color='#9933CC'>В переменные ``y_train`` и ``y_test`` запишите значения целевых переменных. Столбцы ``selling_price`` из датафреймов необходимо удалить. Категориальные (все, кроме ``seats``) столбцы тоже.</font>"
      ]
    },
    {
      "cell_type": "code",
      "execution_count": null,
      "metadata": {
        "id": "cGxjJSSUg2na"
      },
      "outputs": [],
      "source": [
        "y_train = # your code here\n",
        "X_train = # your code here"
      ]
    },
    {
      "cell_type": "code",
      "execution_count": null,
      "metadata": {
        "id": "fyMyARKem5wl"
      },
      "outputs": [],
      "source": [
        "assert X_train.shape == (5840, 6)"
      ]
    },
    {
      "cell_type": "code",
      "execution_count": null,
      "metadata": {
        "id": "xKRmqiJ5rbSx"
      },
      "outputs": [],
      "source": [
        "y_test = # your code here\n",
        "X_test = # your code here"
      ]
    },
    {
      "cell_type": "code",
      "execution_count": null,
      "metadata": {
        "id": "-JepTZ36y-h-"
      },
      "outputs": [],
      "source": [
        "assert X_test.shape == (1000, 6)"
      ]
    },
    {
      "cell_type": "markdown",
      "metadata": {
        "id": "_kvtF4gXhwoI"
      },
      "source": [
        "(0.2 балла) <font color='#9933CC'>Обучите классическую линейную регрессию с дефолтными параметрами. Посчтитайте $R^2$ и MSE для трейна и для теста</font>\n",
        "\n",
        "**Замечание:** $R^2$ и MSE для трейна и для теста выводите везде, где требуется обучать модели, даже если в явном виде этого не просят. Иначе непонятно, как понять, насколько успешны наши эксперименты."
      ]
    },
    {
      "cell_type": "code",
      "execution_count": null,
      "metadata": {
        "id": "hVYXaeTgrb3d"
      },
      "outputs": [],
      "source": [
        "from sklearn.linear_model import LinearRegression\n",
        "from sklearn.metrics import r2_score, mean_squared_error as MSE\n",
        "\n",
        "# your code here"
      ]
    },
    {
      "cell_type": "markdown",
      "metadata": {
        "id": "HpQ8EG2Uk_Dn"
      },
      "source": [
        "Запомните правило:\n",
        "\n",
        "> Использую линейную модель -- стандартизирую фичи\n",
        "\n",
        "(0.25 балла) <font color='#9933CC'>Воспользуемся им</font>\n"
      ]
    },
    {
      "cell_type": "code",
      "execution_count": null,
      "metadata": {
        "id": "o6FB80C2rciK"
      },
      "outputs": [],
      "source": [
        "from sklearn.preprocessing import StandardScaler\n",
        "\n",
        "# your code here"
      ]
    },
    {
      "cell_type": "markdown",
      "metadata": {
        "id": "oQZi8LYVmiPv"
      },
      "source": [
        "Не очень результативно.\n",
        "\n",
        "Зато уже сейчас можем интерпретировать модель. <font color='#FF6600'>\"Какой признак оказался наиболее информативным в предсказании цены?\"</font>"
      ]
    },
    {
      "cell_type": "code",
      "execution_count": null,
      "metadata": {
        "id": "u9onBNrhmt1r"
      },
      "outputs": [],
      "source": [
        "# your code here"
      ]
    },
    {
      "cell_type": "markdown",
      "metadata": {
        "id": "My5nSSASntjA"
      },
      "source": [
        "(0.25 балла) <font color='#9933CC'>Теперь попробуем Lasso-регрессию.</font> Здесь и дальше обучайте модели на нормализованных признаках"
      ]
    },
    {
      "cell_type": "code",
      "execution_count": null,
      "metadata": {
        "id": "yhR5eajPn0kl"
      },
      "outputs": [],
      "source": [
        "from sklearn.linear_model import Lasso\n",
        "\n",
        "# your code here"
      ]
    },
    {
      "cell_type": "markdown",
      "metadata": {
        "id": "cIbnMp-So7CP"
      },
      "source": [
        "<font color='#FF6600'>Занулила ли L1-регуляризация с параметрами по умолчанию какие-нибудь веса? Почему же?</font>"
      ]
    },
    {
      "cell_type": "code",
      "execution_count": null,
      "metadata": {
        "id": "EBJKIp6FouYw"
      },
      "outputs": [],
      "source": [
        "# your code here"
      ]
    },
    {
      "cell_type": "markdown",
      "metadata": {
        "id": "YYWLInilqQTE"
      },
      "source": [
        "(0.25 балла) <font color='#9933CC'>Перебором по сетке (c 10-ю фолдами) подберите оптимальные параметры для Lasso-регрессии</font>\n",
        "\n",
        "Вам пригодится класс [GridSearchCV](https://scikit-learn.org/stable/modules/generated/sklearn.model_selection.GridSearchCV.html)."
      ]
    },
    {
      "cell_type": "code",
      "execution_count": null,
      "metadata": {
        "id": "mdGQ6CvApr_P"
      },
      "outputs": [],
      "source": [
        "from sklearn.model_selection import GridSearchCV\n",
        "\n",
        "# your code here"
      ]
    },
    {
      "cell_type": "markdown",
      "metadata": {
        "id": "rueUl2cSvT5w"
      },
      "source": [
        "<font color='#FF6600'>Сколько грид-сёрчу пришлось обучать моделей?</font>"
      ]
    },
    {
      "cell_type": "markdown",
      "metadata": {
        "id": "0agvlV-tvEQN"
      },
      "source": [
        "<font color='#FF6600'>Какой коэффициент регуляризации у лучшей из перебранных моделей? Занулились ли какие-нибудь из весов при такой регуляризации?</font>"
      ]
    },
    {
      "cell_type": "code",
      "execution_count": null,
      "metadata": {
        "id": "joyYE2Q5shu5"
      },
      "outputs": [],
      "source": [
        "# your code here"
      ]
    },
    {
      "cell_type": "markdown",
      "metadata": {
        "id": "VdkkrDE4oeCP"
      },
      "source": [
        "(0.25 балла) <font color='#9933CC'>Перебором по сетке (c 10-ю фолдами) подберите оптимальные параметры для [ElasticNet](https://scikit-learn.org/stable/modules/generated/sklearn.linear_model.ElasticNet.html)-регрессии</font>"
      ]
    },
    {
      "cell_type": "code",
      "execution_count": null,
      "metadata": {
        "id": "F3e5MGZMoeCR"
      },
      "outputs": [],
      "source": [
        "from sklearn.linear_model import ElasticNet\n",
        "\n",
        "# your code here"
      ]
    },
    {
      "cell_type": "markdown",
      "metadata": {
        "id": "zB0Nrbk6oeCS"
      },
      "source": [
        "<font color='#FF6600'>Какие гиперпараметры соответствуют лучшей из перебранных моделей?</font>"
      ]
    },
    {
      "cell_type": "code",
      "execution_count": null,
      "metadata": {
        "id": "gIzvY8bToeCS"
      },
      "outputs": [],
      "source": [
        "# your code here"
      ]
    },
    {
      "cell_type": "markdown",
      "metadata": {
        "id": "5C3IX1-CwHO2"
      },
      "source": [
        "Предлагаем вам оставить вам попытки заметно улучшить качество модели регуляризацией и перейти к следующей части задания."
      ]
    },
    {
      "cell_type": "markdown",
      "metadata": {
        "id": "Y2y-_PCHrevF"
      },
      "source": [
        "# Часть 3 (0.75 балла) | Добавляем категориальные фичи\n",
        "\n"
      ]
    },
    {
      "cell_type": "markdown",
      "metadata": {
        "id": "frLASc5L8Tu5"
      },
      "source": [
        "(0 баллов) <font color='#9933CC'>Из ``df_train`` удалите столбцы с целевой переменной и названием автомобиля.</font>"
      ]
    },
    {
      "cell_type": "code",
      "execution_count": null,
      "metadata": {
        "id": "jsXiFjaFrng-"
      },
      "outputs": [],
      "source": [
        "# your code here"
      ]
    },
    {
      "cell_type": "code",
      "execution_count": null,
      "metadata": {
        "id": "SqDhrd6Q8k-S"
      },
      "outputs": [],
      "source": [
        "assert X_train_cat.shape == (5840, 10)"
      ]
    },
    {
      "cell_type": "code",
      "execution_count": null,
      "metadata": {
        "id": "JyGl7KQQx_Ax"
      },
      "outputs": [],
      "source": [
        "X_train_cat.describe(include='object')"
      ]
    },
    {
      "cell_type": "markdown",
      "metadata": {
        "id": "wYxtiDa_81AL"
      },
      "source": [
        "(0.5 балла) <font color='#9933CC'>Закодируйте категориалльные фичи и ``seats`` методом OneHot-кодирования</font>\n",
        "\n",
        "> Обратите внимание, что во избежание мультиколлинеарности следует избавиться от одного из полученных столбцов при кодировании каждого признака методом OneHot. "
      ]
    },
    {
      "cell_type": "code",
      "execution_count": null,
      "metadata": {
        "id": "wbN4yM2Frob7"
      },
      "outputs": [],
      "source": [
        "from sklearn.preprocessing import OneHotEncoder # или можно использовать get_dummies из библиотеки pandas\n",
        "\n",
        "# your code here"
      ]
    },
    {
      "cell_type": "markdown",
      "metadata": {
        "id": "b8fI5dQT-Fvx"
      },
      "source": [
        "(0.25 балла) <font color='#9933CC'>Переберите параметр регуляризации `alpha` для гребневой (ridge) регрессии с помощью класса `GridSearchCV`.</font> В качестве параметров при объявлении GridSearchCV кроме модели укажите метрику качества $R^2$. Кроссвалидируйтесь по 10-ти фолдам.\n",
        "\n",
        "<font color='#FF6600'>Удалось ли улучшить качество предсказаний?</font>"
      ]
    },
    {
      "cell_type": "code",
      "execution_count": null,
      "metadata": {
        "id": "SLXCtme53Oup"
      },
      "outputs": [],
      "source": [
        "from sklearn.linear_model import Ridge\n",
        "from sklearn.model_selection import GridSearchCV\n",
        "\n",
        "# your code here"
      ]
    },
    {
      "cell_type": "markdown",
      "metadata": {
        "id": "T0OlrsmArp2I"
      },
      "source": [
        "# Часть 4 - бонусная (2 балла) | Feature Engineering "
      ]
    },
    {
      "cell_type": "markdown",
      "metadata": {
        "id": "NXo9jvHPEYtN"
      },
      "source": [
        "В этой части домашнего задания вам предлагается проявить свою креативность для улучшения прогноза модели. Любые другие модели, кроме различных форм линейной (или полиномиальной) регресси, использовать запрещается. А значит, придется работать с признаками\n",
        "\n",
        "**Что можно попробовать сделать?** (каждый пункт по 0.4 балла, но не больше 2-х баллов в сумме)\n",
        "\n",
        "1.   *Сгенерировать новые признаки на основе уже существующих:*\n",
        "    * посчитать произведения // частные признаков (кажется, что посчитать число \"лошадей\" на литр объема может быть полезно);\n",
        "    * имеет смысл обратить внимание на визуализации в части с EDA (к примеру, зависимость цены от года выглядит квадратичной, а не линейной; значит, квадрат года нам, скорее всего, принесет больше пользы)\n",
        "\n",
        "2.   *Добыть новые признаки:*\n",
        "    * имеем название автомобиля, которое никак не используем (можно спарсить инфу о классе автомобиля или каких-то специфических опциях)\n",
        "    * можно добавить пороговые признаки вроде \"владелец третий или больше\" и объединить признаки в некоторые осмысленные правила, например \"первый или второй владелец и продавец официальный дилер\" (подбирать пороги удобно по диаграммам рассеяния)\n",
        "\n",
        "3.   *Поработать с уже имеющимися:*\n",
        "    * далеко не факт, что заполнить пропуск медианой было лучшей идеей (как минимум, можно добавить dummy-столбец для модели, сигнализирующий, что раньше на месте медианы был пропуск -- там где он был, конечно); попробуйте другие способы филлинга;\n",
        "    * мы не анализировали, есть ли в данных выбросы => никак выбросы не обрабатывали; наиболее простым и, тем не менее, довольно полезным вариантом нахождения выбросов могут послужить boxplot'ы для каждого столбца; что делать с выбросами думайте сами :) -- вариантов довольно много\n",
        "    * мы толком не смотрели на таргет сам по себе; в нем тоже могут быть неожиданности -- стоит хотя бы проверить\n",
        "    * можно заметить, что некоторые признаки распределены совсем не нормально; возможно их стоит отлогарифмировать\n",
        "\n",
        "И так далее...\n",
        "\n",
        "Feel Free to Try!"
      ]
    },
    {
      "cell_type": "code",
      "execution_count": null,
      "metadata": {
        "id": "keijjrKbr3Ne"
      },
      "outputs": [],
      "source": [
        "# your code here"
      ]
    },
    {
      "cell_type": "markdown",
      "metadata": {
        "id": "mw6LOYJTL2x1"
      },
      "source": [
        "# Часть Бизнесовая (0.5 балла)"
      ]
    },
    {
      "cell_type": "markdown",
      "metadata": {
        "id": "0QpHAfbcMRfu"
      },
      "source": [
        "Заказчик просил вас посчитать кастомную метрику -- среди всех предсказанных цен на авто посчитать долю предиктов, отличающихся от реальных цен на эти авто не более чем на 10% (в одну или другую сторону)\n",
        "\n",
        "<font color='#9933CC'>Сделайте это самостоятельно для лучшей из своих моделей</font>"
      ]
    },
    {
      "cell_type": "code",
      "execution_count": null,
      "metadata": {
        "id": "YrcaGhO7MnMR"
      },
      "outputs": [],
      "source": [
        "def business_metrics(y_true, y_pred):\n",
        "    # your code here\n",
        "\n",
        "business_metrics(# your code here)"
      ]
    },
    {
      "cell_type": "markdown",
      "metadata": {
        "id": "ARi0hYPrsI4x"
      },
      "source": [
        "# Часть 5 (3 балла) | Реализация сервиса на FastAPI"
      ]
    },
    {
      "cell_type": "markdown",
      "metadata": {
        "id": "03rHiCmGKGU8"
      },
      "source": [
        "Cделайте с помощью FastAPI сервис, который с точки зрения пользователя реализует две функции:\n",
        "\n",
        "1. на вход в формате json подаются признаки одного объекта, на выходе сервис выдает предсказанную стоимость машины\n",
        "2. на вход подается csv-файл с признаками тестовых объектов, на выходе получаем файл с +1 столбцом - предсказаниями на этих объектах\n",
        "\n",
        "С точки зрения реализации это означает следующее:\n",
        "- средствами pydantic должен быть описан класс базового объекта\n",
        "- класс с коллецией объектов\n",
        "- метод post, который получает на вход один объект описанного класса\n",
        "- метод post, который получает на вход коллекцию объектов описанного класса\n",
        "\n",
        "Шаблон для сервисной части дан ниже. Код необходимо дополнить и оформить в виде отдельного .py-файла."
      ]
    },
    {
      "cell_type": "code",
      "execution_count": null,
      "metadata": {
        "id": "6Qq8zyxNsYC3"
      },
      "outputs": [],
      "source": [
        "from fastapi import FastAPI\n",
        "from pydantic import BaseModel\n",
        "from typing import List\n",
        "\n",
        "app = FastAPI()\n",
        "\n",
        "\n",
        "class Item(BaseModel):\n",
        "    name: str\n",
        "    year: int\n",
        "    selling_price: int\n",
        "    km_driven: int\n",
        "    fuel: str\n",
        "    seller_type: str\n",
        "    transmission: str\n",
        "    owner: str\n",
        "    mileage: str \n",
        "    engine: str\n",
        "    max_power: str\n",
        "    torque: str\n",
        "    seats: float\n",
        "\n",
        "\n",
        "class Items(BaseModel):\n",
        "    objects: List[Item]\n",
        "\n",
        "\n",
        "@app.post(\"/predict_item\")\n",
        "def predict_item(item: Item) -> float:\n",
        "    return ...\n",
        "\n",
        "\n",
        "@app.post(\"/predict_items\")\n",
        "def predict_items(items: List[Item]) -> List[float]:\n",
        "    return ..."
      ]
    },
    {
      "cell_type": "markdown",
      "metadata": {
        "id": "3U29qIjog18v"
      },
      "source": [
        "Протестируйте сервис на корректность работы и приложите скриншоты (см. ниже)."
      ]
    },
    {
      "cell_type": "markdown",
      "metadata": {
        "id": "V4fq_10xsaHg"
      },
      "source": [
        "# Часть 6 (1 балл) | Оформление результатов"
      ]
    },
    {
      "cell_type": "markdown",
      "metadata": {
        "id": "nmwf-ZrEKZy6"
      },
      "source": [
        "**Результаты вашей работы** необходимо разместить в своем Гитхабе. Под результатами понимаем следующее:\n",
        "* ``.ipynb``-ноутбук со всеми проведёнными вами экспериментами (output'ы ячеек, разумеется, сохранить)\n",
        "* ``.py``-файл с реализацией сервиса\n",
        "* ``.pickle``-файл с сохранёнными весами модели, коэффициентами скейлинга и прочими числовыми значениями, которые могут понадобиться для инференса\n",
        "* ``.md``-файл с выводами про проделанной вами работе:\n",
        "    * что было сделано\n",
        "    * с какими результатами\n",
        "    * что дало наибольший буст в качестве\n",
        "    * что сделать не вышло и почему (это нормально, даже хорошо😀)\n",
        "\n",
        "**За что могут быть сняты баллы в этом пункте:**\n",
        "* за отсутствие ``.pickle``-файла с весами использованной модели\n",
        "* за недостаточную аналитику в ``.md``-файле\n",
        "* за оформление и логику кода (в определённом смысле это тоже элемент оформления решения)\n",
        "\n",
        "**Как будет выглядет проверка всего домашнего задания?**\n",
        "1. Ассистент проходит по ссылке на (**открытый**) репозиторий из Энитаска\n",
        "2. Смотрит ``readme.md``:\n",
        "    * пожалуйста, приложите в него же скрины работы вашего сервиса -- собирать ваши проекты довольно времязатратно, но хочется убедиться, что всё работает\n",
        "    * можете прислать screencast в ТГ\n",
        "3. Просматривает ноутбук с pure-DS частью\n",
        "4. Заглядывает в код сервиса\n",
        "5. Хвалит"
      ]
    },
    {
      "cell_type": "markdown",
      "metadata": {
        "id": "QSIEzw6sN8Zp"
      },
      "source": [
        "# Часть Благодарственная"
      ]
    },
    {
      "cell_type": "markdown",
      "metadata": {
        "id": "lWOSqmLWOAr-"
      },
      "source": [
        "Надеемся, вы честно проделали все пункты, а не просто пролистали досюда. Потому что здесь награда за старания. Пожалуйста, не стоит награждать себя до того, как закончите работать над домашкой.\n",
        "\n",
        "https://drive.google.com/file/d/1LT06nyg9QgVi3r-D5BY-_mQ9TcJQFxJN/view?usp=share_link"
      ]
    },
    {
      "cell_type": "code",
      "execution_count": null,
      "metadata": {
        "id": "PJnbprP8QGLx"
      },
      "outputs": [],
      "source": []
    }
  ],
  "metadata": {
    "colab": {
      "provenance": []
    },
    "kernelspec": {
      "display_name": "Python 3.10.8 64-bit (microsoft store)",
      "language": "python",
      "name": "python3"
    },
    "language_info": {
      "codemirror_mode": {
        "name": "ipython",
        "version": 3
      },
      "file_extension": ".py",
      "mimetype": "text/x-python",
      "name": "python",
      "nbconvert_exporter": "python",
      "pygments_lexer": "ipython3",
      "version": "3.10.8"
    },
    "vscode": {
      "interpreter": {
        "hash": "42723d72e08ffb74f0d1a4a6418b1d11f58ecef196529edf1b75a0aee34342e6"
      }
    }
  },
  "nbformat": 4,
  "nbformat_minor": 0
}
